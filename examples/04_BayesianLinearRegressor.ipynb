{
 "cells": [
  {
   "cell_type": "markdown",
   "metadata": {},
   "source": [
    "# Imports and Helper Function"
   ]
  },
  {
   "cell_type": "code",
   "execution_count": 1,
   "metadata": {
    "id": "RQirXZwKipys"
   },
   "outputs": [],
   "source": [
    "import arviz as az\n",
    "import matplotlib.pyplot as plt\n",
    "import numpy as np\n",
    "import pandas as pd\n",
    "import preliz as pz\n",
    "import statsmodels.api as sm\n",
    "from IPython.display import Math, display\n",
    "from pymc_marketing.prior import Prior\n",
    "\n",
    "from skpro.regression.bayesian import BayesianLinearRegressor"
   ]
  },
  {
   "cell_type": "code",
   "execution_count": 2,
   "metadata": {},
   "outputs": [],
   "source": [
    "%load_ext autoreload\n",
    "%autoreload 2"
   ]
  },
  {
   "cell_type": "code",
   "execution_count": 3,
   "metadata": {},
   "outputs": [],
   "source": [
    "def style_df(df, vmax=None, subset=None, cmap=\"coolwarm\", hide_index=False):\n",
    "    \"\"\"\n",
    "    Helper function - apply styling to a DataFrame.\n",
    "\n",
    "    Parameters\n",
    "    ----------\n",
    "    df : pd.DataFrame\n",
    "        The DataFrame to style.\n",
    "    vmax : float, optional\n",
    "        The maximum numeric value for the color spectrum.\n",
    "        Defaults to the max value in the DataFrame.\n",
    "    subset : list, optional\n",
    "        List of columns to which the gradient coloring/formatting is to be applied.\n",
    "    cmap : str, optional\n",
    "        The color map to apply for the gradient. Defaults to 'coolwarm'.\n",
    "    hide_index : bool, optional\n",
    "        If True, hide the DataFrame index in the output. Defaults to False.\n",
    "\n",
    "    Returns\n",
    "    -------\n",
    "    pd.io.formats.style.Styler\n",
    "        The styled DataFrame.\n",
    "    \"\"\"\n",
    "    # Determine the max value for the gradient if not provided\n",
    "    if vmax is None:\n",
    "        vmax = df.select_dtypes(include=[\"number\"]).max().max()\n",
    "\n",
    "    # If no subset provided, apply to all float columns by default\n",
    "    if subset is None:\n",
    "        subset = pd.IndexSlice[:, df.select_dtypes(include=[\"float64\"]).columns]\n",
    "\n",
    "    # Apply background gradient to numeric columns and format to 3 decimal points\n",
    "    styled_df = df.style.background_gradient(\n",
    "        cmap=cmap, axis=None, vmin=-vmax, vmax=vmax, subset=subset\n",
    "    ).format(\"{:.3f}\", subset=subset)\n",
    "\n",
    "    # Handle boolean columns with specific coloring (pink for False, lightblue for True)\n",
    "    bool_columns = df.select_dtypes(include=[\"bool\"]).columns\n",
    "\n",
    "    def color_boolean(val):\n",
    "        color = \"lightblue\" if val else \"pink\"\n",
    "        return f\"background-color: {color}\"\n",
    "\n",
    "    # Apply the boolean-specific styling if any boolean columns exist\n",
    "    if not bool_columns.empty:\n",
    "        styled_df = styled_df.applymap(color_boolean, subset=bool_columns)\n",
    "\n",
    "    # Hide the index if hide_index is True\n",
    "    if hide_index:\n",
    "        styled_df = styled_df.hide(axis=\"index\")\n",
    "\n",
    "    return styled_df"
   ]
  },
  {
   "cell_type": "markdown",
   "metadata": {
    "id": "HAxBG7mR2Ar1"
   },
   "source": [
    "# Introduction"
   ]
  },
  {
   "cell_type": "markdown",
   "metadata": {
    "id": "RdBN6n_m_0me"
   },
   "source": [
    "This notebook demonstrates how to use `skpro`'s `BayesianLinearRegressor`, which performs Bayesian linear regression powered by `PyMC` as the backend. The model defaults to weakly informative priors for both the intercept and slope, providing a flexible framework for capturing uncertainty in parameter estimates.\n",
    "\n",
    "In addition to showcasing the `BayesianLinearRegressor`, this notebook also revisits key aspects of the Bayesian workflow, its underlying theory and its comparison with the traditional Ordinary Least Squares (OLS) regression. \n",
    "\n",
    "Note: this notebook requires Python >= 3.10 to run."
   ]
  },
  {
   "cell_type": "markdown",
   "metadata": {
    "id": "2RI4KS5__80T"
   },
   "source": [
    "## Problem Statement"
   ]
  },
  {
   "cell_type": "markdown",
   "metadata": {},
   "source": [
    "In this exercise, we aim to compare the performance of OLS and Bayesian Linear Regression by training both models on the same synthetic dataset and analyzing their results.\n",
    "\n",
    "We will see that compared to OLS regression, Bayesian Linear Regression offers several key advantages:\n",
    "\n",
    "1. **Incorporation of Prior Knowledge**: Bayesian regression allows you to incorporate prior beliefs about parameters, which can improve estimates, especially in cases where data is sparse.\n",
    "\n",
    "2. **Uncertainty Quantification**: It provides full posterior distributions for model parameters, enabling an intuitive assessment of uncertainty in predictions."
   ]
  },
  {
   "cell_type": "markdown",
   "metadata": {},
   "source": [
    "## Synthetic Data Generation"
   ]
  },
  {
   "cell_type": "markdown",
   "metadata": {
    "id": "HiSOh5L6AFuh"
   },
   "source": [
    "We will first create synthetic data with just two features (`feature1` and `feature2`) and 20 data points. The true relationship between the data $\\mathbf{x}$ and the target variable ($y_{\\text{true}}$) is given by the equation:\n",
    "\n",
    "\\begin{equation}\n",
    "y_{\\text{true}} = \\text{intercept}_{\\text{true}} + \\mathbf{x} \\cdot \\mathbf{m}_{\\text{true}}\n",
    "\\end{equation}\n",
    "\n",
    "\n",
    "where $\\text{intercept}_{\\text{true}} = 1$ and $\\mathbf{m}_{\\text{true}} = [2, 3]$.\n",
    "\n",
    "The observed target values ($y_{\\text{train}}$) are generated by adding Gaussian noise to the true target values:\n",
    "\n",
    "\\begin{equation}\n",
    "y = y_{\\text{true}} + \\mathcal{N}(0, \\sigma_{\\text{true}})\n",
    "\\end{equation}\n",
    "Here, $\\sigma_{\\text{true}} = 0.5$.\n"
   ]
  },
  {
   "cell_type": "code",
   "execution_count": 4,
   "metadata": {
    "colab": {
     "base_uri": "https://localhost:8080/",
     "height": 206
    },
    "id": "xo4qpkVhisFX",
    "outputId": "44218333-4b7d-42f7-9b02-b8f9a2caf30d"
   },
   "outputs": [
    {
     "data": {
      "text/html": [
       "<style type=\"text/css\">\n",
       "#T_4a40c_row0_col0 {\n",
       "  background-color: #dddcdc;\n",
       "  color: #000000;\n",
       "}\n",
       "#T_4a40c_row0_col1 {\n",
       "  background-color: #edd1c2;\n",
       "  color: #000000;\n",
       "}\n",
       "#T_4a40c_row0_col2 {\n",
       "  background-color: #e67259;\n",
       "  color: #f1f1f1;\n",
       "}\n",
       "#T_4a40c_row0_col3 {\n",
       "  background-color: #e8765c;\n",
       "  color: #f1f1f1;\n",
       "}\n",
       "#T_4a40c_row1_col0 {\n",
       "  background-color: #dedcdb;\n",
       "  color: #000000;\n",
       "}\n",
       "#T_4a40c_row1_col1, #T_4a40c_row4_col0 {\n",
       "  background-color: #e2dad5;\n",
       "  color: #000000;\n",
       "}\n",
       "#T_4a40c_row1_col2 {\n",
       "  background-color: #f7ac8e;\n",
       "  color: #000000;\n",
       "}\n",
       "#T_4a40c_row1_col3 {\n",
       "  background-color: #f4c5ad;\n",
       "  color: #000000;\n",
       "}\n",
       "#T_4a40c_row2_col0, #T_4a40c_row3_col0 {\n",
       "  background-color: #e1dad6;\n",
       "  color: #000000;\n",
       "}\n",
       "#T_4a40c_row2_col1 {\n",
       "  background-color: #f1cdba;\n",
       "  color: #000000;\n",
       "}\n",
       "#T_4a40c_row2_col2 {\n",
       "  background-color: #cc403a;\n",
       "  color: #f1f1f1;\n",
       "}\n",
       "#T_4a40c_row2_col3, #T_4a40c_row3_col2 {\n",
       "  background-color: #eb7d62;\n",
       "  color: #f1f1f1;\n",
       "}\n",
       "#T_4a40c_row3_col1 {\n",
       "  background-color: #ead5c9;\n",
       "  color: #000000;\n",
       "}\n",
       "#T_4a40c_row3_col3 {\n",
       "  background-color: #e9785d;\n",
       "  color: #f1f1f1;\n",
       "}\n",
       "#T_4a40c_row4_col1 {\n",
       "  background-color: #f3c7b1;\n",
       "  color: #000000;\n",
       "}\n",
       "#T_4a40c_row4_col2 {\n",
       "  background-color: #b40426;\n",
       "  color: #f1f1f1;\n",
       "}\n",
       "#T_4a40c_row4_col3 {\n",
       "  background-color: #bd1f2d;\n",
       "  color: #f1f1f1;\n",
       "}\n",
       "</style>\n",
       "<table id=\"T_4a40c\">\n",
       "  <thead>\n",
       "    <tr>\n",
       "      <th class=\"blank level0\" >&nbsp;</th>\n",
       "      <th id=\"T_4a40c_level0_col0\" class=\"col_heading level0 col0\" >feature1</th>\n",
       "      <th id=\"T_4a40c_level0_col1\" class=\"col_heading level0 col1\" >feature2</th>\n",
       "      <th id=\"T_4a40c_level0_col2\" class=\"col_heading level0 col2\" >y_true</th>\n",
       "      <th id=\"T_4a40c_level0_col3\" class=\"col_heading level0 col3\" >y_train</th>\n",
       "    </tr>\n",
       "  </thead>\n",
       "  <tbody>\n",
       "    <tr>\n",
       "      <th id=\"T_4a40c_level0_row0\" class=\"row_heading level0 row0\" >0</th>\n",
       "      <td id=\"T_4a40c_row0_col0\" class=\"data row0 col0\" >0.021</td>\n",
       "      <td id=\"T_4a40c_row0_col1\" class=\"data row0 col1\" >0.608</td>\n",
       "      <td id=\"T_4a40c_row0_col2\" class=\"data row0 col2\" >2.864</td>\n",
       "      <td id=\"T_4a40c_row0_col3\" class=\"data row0 col3\" >2.806</td>\n",
       "    </tr>\n",
       "    <tr>\n",
       "      <th id=\"T_4a40c_level0_row1\" class=\"row_heading level0 row1\" >1</th>\n",
       "      <td id=\"T_4a40c_row1_col0\" class=\"data row1 col0\" >0.058</td>\n",
       "      <td id=\"T_4a40c_row1_col1\" class=\"data row1 col1\" >0.200</td>\n",
       "      <td id=\"T_4a40c_row1_col2\" class=\"data row1 col2\" >1.715</td>\n",
       "      <td id=\"T_4a40c_row1_col3\" class=\"data row1 col3\" >1.051</td>\n",
       "    </tr>\n",
       "    <tr>\n",
       "      <th id=\"T_4a40c_level0_row2\" class=\"row_heading level0 row2\" >2</th>\n",
       "      <td id=\"T_4a40c_row2_col0\" class=\"data row2 col0\" >0.156</td>\n",
       "      <td id=\"T_4a40c_row2_col1\" class=\"data row2 col1\" >0.785</td>\n",
       "      <td id=\"T_4a40c_row2_col2\" class=\"data row2 col2\" >3.668</td>\n",
       "      <td id=\"T_4a40c_row2_col3\" class=\"data row2 col3\" >2.688</td>\n",
       "    </tr>\n",
       "    <tr>\n",
       "      <th id=\"T_4a40c_level0_row3\" class=\"row_heading level0 row3\" >3</th>\n",
       "      <td id=\"T_4a40c_row3_col0\" class=\"data row3 col0\" >0.156</td>\n",
       "      <td id=\"T_4a40c_row3_col1\" class=\"data row3 col1\" >0.456</td>\n",
       "      <td id=\"T_4a40c_row3_col2\" class=\"data row3 col2\" >2.680</td>\n",
       "      <td id=\"T_4a40c_row3_col3\" class=\"data row3 col3\" >2.785</td>\n",
       "    </tr>\n",
       "    <tr>\n",
       "      <th id=\"T_4a40c_level0_row4\" class=\"row_heading level0 row4\" >4</th>\n",
       "      <td id=\"T_4a40c_row4_col0\" class=\"data row4 col0\" >0.182</td>\n",
       "      <td id=\"T_4a40c_row4_col1\" class=\"data row4 col1\" >0.966</td>\n",
       "      <td id=\"T_4a40c_row4_col2\" class=\"data row4 col2\" >4.261</td>\n",
       "      <td id=\"T_4a40c_row4_col3\" class=\"data row4 col3\" >4.030</td>\n",
       "    </tr>\n",
       "  </tbody>\n",
       "</table>\n"
      ],
      "text/plain": [
       "<pandas.io.formats.style.Styler at 0x1558f4110>"
      ]
     },
     "execution_count": 4,
     "metadata": {},
     "output_type": "execute_result"
    }
   ],
   "source": [
    "N = 20\n",
    "np.random.seed(42)\n",
    "\n",
    "# Creating 10 random data points containing 2 features\n",
    "feature1 = np.random.uniform(0, 1, N)\n",
    "feature2 = np.random.uniform(0, 1, N)\n",
    "X_train = pd.DataFrame({\"feature1\": feature1, \"feature2\": feature2})\n",
    "\n",
    "# Set the relationship between the features and the target variable\n",
    "TRUE_INTERCEPT = 1\n",
    "TRUE_SLOPES = np.array([2, 3])\n",
    "TRUE_SIGMA = 0.5\n",
    "\n",
    "# Calculating the true target variable\n",
    "y_true = TRUE_INTERCEPT + np.dot(X_train, TRUE_SLOPES)\n",
    "\n",
    "y_train = y_true + np.random.normal(0, TRUE_SIGMA, size=len(X_train))\n",
    "\n",
    "# Combine the features and targets into a single DataFrame\n",
    "train_data = pd.concat(\n",
    "    [X_train, pd.Series(y_true, name=\"y_true\"), pd.Series(y_train, name=\"y_train\")],\n",
    "    axis=1,\n",
    ")\n",
    "train_data = train_data.sort_values(by=\"feature1\")\n",
    "train_data = train_data.reset_index(drop=True)\n",
    "\n",
    "# Display the train_data DataFrame\n",
    "style_df(train_data.head())"
   ]
  },
  {
   "cell_type": "markdown",
   "metadata": {
    "id": "zUygtX7Ad698"
   },
   "source": [
    "The line chart below plots the relationship between `feature1` and the targets - both the theoretical `y_true`, represented by the red line, and the observed `y_train`, represented by the blue dots."
   ]
  },
  {
   "cell_type": "code",
   "execution_count": 5,
   "metadata": {},
   "outputs": [
    {
     "data": {
      "image/png": "[encoded data removed]",
      "text/plain": [
       "<Figure size 1500x600 with 2 Axes>"
      ]
     },
     "metadata": {},
     "output_type": "display_data"
    }
   ],
   "source": [
    "# Fix feature1 and feature2 constants\n",
    "feature1_constant = train_data[\"feature1\"].mean()\n",
    "feature2_constant = train_data[\"feature2\"].mean()\n",
    "\n",
    "# Recalculate the true target `y_true` for a constant feature1\n",
    "y_true_fixed_feature1 = (\n",
    "    TRUE_INTERCEPT\n",
    "    + TRUE_SLOPES[0] * feature1_constant\n",
    "    + TRUE_SLOPES[1] * train_data[\"feature2\"]\n",
    ")\n",
    "\n",
    "# Recalculate the true target `y_true` for a constant feature2\n",
    "y_true_fixed_feature2 = (\n",
    "    TRUE_INTERCEPT\n",
    "    + TRUE_SLOPES[0] * train_data[\"feature1\"]\n",
    "    + TRUE_SLOPES[1] * feature2_constant\n",
    ")\n",
    "\n",
    "# Set up the plot\n",
    "fig, axes = plt.subplots(1, 2, figsize=(15, 6))\n",
    "\n",
    "# Plot feature1 vs. y_train with feature2 constant\n",
    "axes[0].scatter(\n",
    "    train_data[\"feature1\"],\n",
    "    train_data[\"y_train\"],\n",
    "    label=\"Observed `y_train` (containing noise)\",\n",
    "    alpha=0.6,\n",
    ")\n",
    "axes[0].plot(\n",
    "    train_data[\"feature1\"],\n",
    "    y_true_fixed_feature2,\n",
    "    color=\"red\",\n",
    "    label=f\"Theoretical `y_true` with feature2 fixed at {feature2_constant:.2f}\",\n",
    "    linewidth=2,\n",
    ")\n",
    "axes[0].set_xlabel(\"feature1\")\n",
    "axes[0].set_ylabel(\"y_true & y_train\")\n",
    "axes[0].set_title(f\"feature1 vs y_true & y_train\\n(feature2 = {feature2_constant:.2f})\")\n",
    "axes[0].legend()\n",
    "\n",
    "# Plot feature2 vs. y_train with feature1 constant\n",
    "axes[1].scatter(\n",
    "    train_data[\"feature2\"],\n",
    "    train_data[\"y_train\"],\n",
    "    label=\"Observed `y_train` (containing noise)\",\n",
    "    alpha=0.6,\n",
    ")\n",
    "axes[1].plot(\n",
    "    train_data[\"feature2\"],\n",
    "    y_true_fixed_feature1,\n",
    "    color=\"blue\",\n",
    "    label=f\"Theoretical `y_true` with feature1 fixed at {feature1_constant:.2f}\",\n",
    "    linewidth=2,\n",
    ")\n",
    "axes[1].set_xlabel(\"feature2\")\n",
    "axes[1].set_ylabel(\"y_true & y_train\")\n",
    "axes[1].set_title(f\"feature2 vs y_true & y_train\\n(feature1 = {feature1_constant:.2f})\")\n",
    "axes[1].legend()\n",
    "\n",
    "# Improve spacing and show plot\n",
    "plt.tight_layout()\n",
    "plt.show()"
   ]
  },
  {
   "cell_type": "markdown",
   "metadata": {
    "id": "uB-IoGsjd3vA"
   },
   "source": [
    "We will also create synthetic **testing** data to evaluate the models' performance. The following code generates 10 new testing data points."
   ]
  },
  {
   "cell_type": "code",
   "execution_count": 6,
   "metadata": {
    "colab": {
     "base_uri": "https://localhost:8080/",
     "height": 206
    },
    "id": "X0ddXs1Ii0Yb",
    "outputId": "5f04ae6d-1dd8-475d-ac91-cc77564c3a24"
   },
   "outputs": [
    {
     "data": {
      "text/html": [
       "<style type=\"text/css\">\n",
       "#T_05a94_row0_col0 {\n",
       "  background-color: #e6d7cf;\n",
       "  color: #000000;\n",
       "}\n",
       "#T_05a94_row0_col1 {\n",
       "  background-color: #f7b396;\n",
       "  color: #000000;\n",
       "}\n",
       "#T_05a94_row1_col0 {\n",
       "  background-color: #b40426;\n",
       "  color: #f1f1f1;\n",
       "}\n",
       "#T_05a94_row1_col1 {\n",
       "  background-color: #ebd3c6;\n",
       "  color: #000000;\n",
       "}\n",
       "#T_05a94_row2_col0 {\n",
       "  background-color: #d85646;\n",
       "  color: #f1f1f1;\n",
       "}\n",
       "#T_05a94_row2_col1 {\n",
       "  background-color: #cb3e38;\n",
       "  color: #f1f1f1;\n",
       "}\n",
       "#T_05a94_row3_col0 {\n",
       "  background-color: #f2cbb7;\n",
       "  color: #000000;\n",
       "}\n",
       "#T_05a94_row3_col1 {\n",
       "  background-color: #eb7d62;\n",
       "  color: #f1f1f1;\n",
       "}\n",
       "#T_05a94_row4_col0 {\n",
       "  background-color: #dddcdc;\n",
       "  color: #000000;\n",
       "}\n",
       "#T_05a94_row4_col1 {\n",
       "  background-color: #f7b89c;\n",
       "  color: #000000;\n",
       "}\n",
       "</style>\n",
       "<table id=\"T_05a94\">\n",
       "  <thead>\n",
       "    <tr>\n",
       "      <th class=\"blank level0\" >&nbsp;</th>\n",
       "      <th id=\"T_05a94_level0_col0\" class=\"col_heading level0 col0\" >feature1</th>\n",
       "      <th id=\"T_05a94_level0_col1\" class=\"col_heading level0 col1\" >feature2</th>\n",
       "    </tr>\n",
       "  </thead>\n",
       "  <tbody>\n",
       "    <tr>\n",
       "      <th id=\"T_05a94_level0_row0\" class=\"row_heading level0 row0\" >0</th>\n",
       "      <td id=\"T_05a94_row0_col0\" class=\"data row0 col0\" >0.075</td>\n",
       "      <td id=\"T_05a94_row0_col1\" class=\"data row0 col1\" >0.358</td>\n",
       "    </tr>\n",
       "    <tr>\n",
       "      <th id=\"T_05a94_level0_row1\" class=\"row_heading level0 row1\" >1</th>\n",
       "      <td id=\"T_05a94_row1_col0\" class=\"data row1 col0\" >0.987</td>\n",
       "      <td id=\"T_05a94_row1_col1\" class=\"data row1 col1\" >0.116</td>\n",
       "    </tr>\n",
       "    <tr>\n",
       "      <th id=\"T_05a94_level0_row2\" class=\"row_heading level0 row2\" >2</th>\n",
       "      <td id=\"T_05a94_row2_col0\" class=\"data row2 col0\" >0.772</td>\n",
       "      <td id=\"T_05a94_row2_col1\" class=\"data row2 col1\" >0.863</td>\n",
       "    </tr>\n",
       "    <tr>\n",
       "      <th id=\"T_05a94_level0_row3\" class=\"row_heading level0 row3\" >3</th>\n",
       "      <td id=\"T_05a94_row3_col0\" class=\"data row3 col0\" >0.199</td>\n",
       "      <td id=\"T_05a94_row3_col1\" class=\"data row3 col1\" >0.623</td>\n",
       "    </tr>\n",
       "    <tr>\n",
       "      <th id=\"T_05a94_level0_row4\" class=\"row_heading level0 row4\" >4</th>\n",
       "      <td id=\"T_05a94_row4_col0\" class=\"data row4 col0\" >0.006</td>\n",
       "      <td id=\"T_05a94_row4_col1\" class=\"data row4 col1\" >0.331</td>\n",
       "    </tr>\n",
       "  </tbody>\n",
       "</table>\n"
      ],
      "text/plain": [
       "<pandas.io.formats.style.Styler at 0x1578859d0>"
      ]
     },
     "execution_count": 6,
     "metadata": {},
     "output_type": "execute_result"
    }
   ],
   "source": [
    "# Generate new data points for prediction with 2 features\n",
    "N_test = 10\n",
    "X_test = pd.DataFrame(\n",
    "    {\n",
    "        \"feature1\": np.random.uniform(0, 1, N_test),\n",
    "        \"feature2\": np.random.uniform(0, 1, N_test),\n",
    "    }\n",
    ")\n",
    "\n",
    "# Display the first few rows of X_test\n",
    "style_df(X_test.head())"
   ]
  },
  {
   "cell_type": "markdown",
   "metadata": {
    "id": "4cwRHryxiA7t"
   },
   "source": [
    "# OLS"
   ]
  },
  {
   "cell_type": "markdown",
   "metadata": {
    "id": "E5LjqpmoiDV1"
   },
   "source": [
    "OLS is a method for estimating the linear relationship between independent variables (features) and a dependent variable (target).  The goal is to find a linear relationship by minimizing the sum of squared differences between the observed and predicted target values:\n",
    "\n",
    "$$\n",
    "\\hat{\\beta} = \\arg\\min_{\\beta} \\sum_{i=1}^n (y_i - \\mathbf{x}_i^T \\beta)^2\n",
    "$$\n",
    "\n",
    "We’ll use the **`statsmodels`** library to train the OLS model. This will serve as a baseline for comparison with Bayesian Linear Regression."
   ]
  },
  {
   "cell_type": "code",
   "execution_count": 7,
   "metadata": {
    "id": "P7Af9sHKKdx8"
   },
   "outputs": [],
   "source": [
    "# Fit a linear regression model using statsmodels\n",
    "X_train_with_const = sm.add_constant(X_train)\n",
    "ols_model = sm.OLS(y_train, X_train_with_const).fit()"
   ]
  },
  {
   "cell_type": "markdown",
   "metadata": {
    "id": "T65gKYllh18N"
   },
   "source": [
    "When fitted to the data, the `ols_model` uses maximum likelihood estimation (MLE) to find the best estimates for the model parameters. A limitation of this approach is that it only provides point estimates—specific values for the slope and intercept—without any indication of the uncertainty or distribution of these estimates.\n",
    "\n",
    "The code below demonstrates how to extract these estimates from the `ols_model`. We see that the estimated slopes, intercept, and standard deviation are somewhat close to the true values we set during data generation."
   ]
  },
  {
   "cell_type": "code",
   "execution_count": 8,
   "metadata": {},
   "outputs": [
    {
     "data": {
      "text/latex": [
       "$\\displaystyle \n",
       "\\text{True data generating model:} \\\\\n",
       "y_{\\text{true}} = 2.00 \\cdot x_1 + 3.00 \\cdot x_2 + 1.00 \\\\\n",
       "\\text{True standard deviation: } \\sigma = 0.50\\\\\n",
       "$"
      ],
      "text/plain": [
       "<IPython.core.display.Math object>"
      ]
     },
     "metadata": {},
     "output_type": "display_data"
    },
    {
     "data": {
      "text/latex": [
       "$\\displaystyle \n",
       "\\text{Estimated MLE model:} \\\\\n",
       "\\hat{y} = 2.33 \\cdot x_1 + \n",
       "3.55 \\cdot x_2 + 0.43 \\\\\n",
       "\\text{Standard deviation of residuals: } \\hat{\\sigma} = 0.42\n",
       "$"
      ],
      "text/plain": [
       "<IPython.core.display.Math object>"
      ]
     },
     "metadata": {},
     "output_type": "display_data"
    }
   ],
   "source": [
    "# Predicted values for y_train\n",
    "y_train_pred = ols_model.predict(X_train_with_const)\n",
    "residuals = y_train_pred - y_train\n",
    "\n",
    "\n",
    "# True model\n",
    "true_model_latex = rf\"\"\"\n",
    "\\text{{True data generating model:}} \\\\\n",
    "y_{{\\text{{true}}}} = {TRUE_SLOPES[0]:.2f} \\cdot x_1 +\n",
    "{TRUE_SLOPES[1]:.2f} \\cdot x_2 + {TRUE_INTERCEPT:.2f} \\\\\n",
    "\\text{{True standard deviation: }} \\sigma = {TRUE_SIGMA:.2f}\\\\\n",
    "\"\"\"\n",
    "\n",
    "# Estimated model\n",
    "estimated_model_latex = rf\"\"\"\n",
    "\\text{{Estimated MLE model:}} \\\\\n",
    "\\hat{{y}} = {ols_model.params.iloc[1]:.2f} \\cdot x_1 +\n",
    "{ols_model.params.iloc[2]:.2f} \\cdot x_2 + {ols_model.params.iloc[0]:.2f} \\\\\n",
    "\\text{{Standard deviation of residuals: }} \\hat{{\\sigma}} = {residuals.std():.2f}\n",
    "\"\"\"\n",
    "\n",
    "# Displaying the results using LaTeX\n",
    "display(Math(true_model_latex))\n",
    "display(Math(estimated_model_latex))"
   ]
  },
  {
   "cell_type": "markdown",
   "metadata": {
    "id": "evk3LGh6nEkU"
   },
   "source": [
    "\n",
    "Using the trained `ols_model`,  we can also create point predictions on the unseen `X_test` along with the corresponding confidence interval.\n",
    "\n",
    "The latter provides a range within which we expect the true parameter to lie with a certain level of confidence (e.g., 95%).\n",
    "\n",
    "In this code, we fix **`feature2`** at its mean value to isolate and visualize the influence of **`feature1`** on the target variable. \n",
    "\n"
   ]
  },
  {
   "cell_type": "code",
   "execution_count": 9,
   "metadata": {},
   "outputs": [
    {
     "data": {
      "image/png": "[encoded data removed]",
      "text/plain": [
       "<Figure size 1000x600 with 1 Axes>"
      ]
     },
     "metadata": {},
     "output_type": "display_data"
    }
   ],
   "source": [
    "# Fix feature2 at its mean\n",
    "feature2_constant = X_test[\"feature2\"].mean()\n",
    "\n",
    "# Create a new test dataset with feature2 fixed at the constant value\n",
    "X_test_fixed_feature2 = X_test.copy()\n",
    "X_test_fixed_feature2[\"feature2\"] = feature2_constant\n",
    "\n",
    "# Predict y_test using the linear model after adding constant\n",
    "predictions_fixed_feature2 = ols_model.get_prediction(\n",
    "    sm.add_constant(X_test_fixed_feature2, has_constant=\"add\")\n",
    ")\n",
    "pred_summary_fixed_feature2 = predictions_fixed_feature2.summary_frame(alpha=0.05)\n",
    "\n",
    "# Extract predicted values and confidence intervals\n",
    "y_test_pred_fixed_feature2 = pred_summary_fixed_feature2[\"mean\"]\n",
    "conf_int_lower_fixed_feature2 = pred_summary_fixed_feature2[\"obs_ci_lower\"]\n",
    "conf_int_upper_fixed_feature2 = pred_summary_fixed_feature2[\"obs_ci_upper\"]\n",
    "\n",
    "sorted_indices = np.argsort(X_test[\"feature1\"])\n",
    "X_test_sorted = X_test[\"feature1\"].iloc[sorted_indices]\n",
    "y_test_pred_sorted = y_test_pred_fixed_feature2.iloc[sorted_indices]\n",
    "conf_int_lower_sorted = conf_int_lower_fixed_feature2.iloc[sorted_indices]\n",
    "conf_int_upper_sorted = conf_int_upper_fixed_feature2.iloc[sorted_indices]\n",
    "\n",
    "# Plot the predictions with the confidence intervals\n",
    "plt.figure(figsize=(10, 6))\n",
    "plt.scatter(X_test_sorted, y_test_pred_sorted, color=\"blue\", label=\"Predicted values\")\n",
    "plt.fill_between(\n",
    "    X_test_sorted,\n",
    "    conf_int_lower_sorted,\n",
    "    conf_int_upper_sorted,\n",
    "    color=\"lightblue\",\n",
    "    alpha=0.4,\n",
    "    label=\"95% Confidence Interval\",\n",
    ")\n",
    "plt.xlabel(\"Feature 1\")\n",
    "plt.ylabel(\"Predicted Target\")\n",
    "plt.title(f\"Predictions for X_test (Feature 2 fixed at {feature2_constant:.2f})\")\n",
    "plt.legend()\n",
    "plt.show()"
   ]
  },
  {
   "cell_type": "markdown",
   "metadata": {
    "id": "v0cZgX_YnwA9"
   },
   "source": [
    "# Bayesian Inference"
   ]
  },
  {
   "cell_type": "markdown",
   "metadata": {
    "id": "OrAkF1x4u6hn"
   },
   "source": [
    "Now let's switch our attention to bayesian linear regression. Bayesian linear regression estimates the relationship between variables by incorporating prior knowledge or beliefs along with the observed data. Instead of providing single point estimates for the model parameters (like the slope and intercept), it calculates their probability distributions."
   ]
  },
  {
   "cell_type": "markdown",
   "metadata": {
    "id": "MX3zjVyq4WsM"
   },
   "source": [
    "## Introduction"
   ]
  },
  {
   "cell_type": "markdown",
   "metadata": {
    "id": "NVVm_Idgo0Ac"
   },
   "source": [
    "In this section, we will explore the theoretical framework used in Bayesian linear regression.\n",
    "\n",
    "Bayesian linear regression directly applies Bayes' Theorem to estimate the posterior distributions of the model parameters. As a reminder, here is the Bayes Theorem:\n",
    "\n",
    "\\begin{align*}\n",
    "P(\\theta \\mid D) &= \\frac{P(D \\mid \\theta) \\times P(\\theta)}{P(D)} \\\\\n",
    "\\text{posterior} &= \\frac{\\text{likelihood} \\times \\text{prior}}{\\text{marginal likelihood}}\n",
    "\\end{align*}\n",
    "\n",
    "\n",
    "Where:\n",
    "\n",
    "- $\\theta$ represents the model parameters, which in our case consist of the intercept $\\beta_{0}$, the slopes $\\beta$ and the noise $\\sigma$\n",
    "- $D$ represents the observed training data, which consist of $\\mathbf{X}_{\\text{train}}$ and  $\\mathbf{y}_{\\text{train}}$\n",
    "- $P(\\theta \\mid D)$ is the posterior distribution of the parameters - given the data.\n",
    "- $P(D \\mid \\theta)$ is the likelihood of the data given the parameters.\n",
    "- $P(\\theta)$ is the prior distribution of the parameters.\n",
    "- $P(D)$ is the marginal likelihood (evidence), a normalizing constant ensuring the posterior is a valid probability distribution.\n",
    "\n"
   ]
  },
  {
   "cell_type": "markdown",
   "metadata": {},
   "source": [
    "## `BayesianLinearRegressor`"
   ]
  },
  {
   "cell_type": "markdown",
   "metadata": {},
   "source": [
    "`skpro` provides an implementation of Bayesian linear regression through the `BayesianLinearRegressor` class. Here, we create an instance of the `BayesianLinearRegressor` and fit it to our training data."
   ]
  },
  {
   "cell_type": "code",
   "execution_count": 10,
   "metadata": {
    "colab": {
     "base_uri": "https://localhost:8080/",
     "height": 177,
     "referenced_widgets": [
      "5041e82f2cec4d18afadc01334823e21",
      "8bf13818fd184881993e49113f14aaa4",
      "aaa3b0bdfa1d49169356cde19bae9c94",
      "27aa1995a5e54ad5b61296623e65ca55",
      "140c47265a9d4413bcd5d6cb82c8813a",
      "4afa3bbfa3e94be2b99d17c0a0d236c6"
     ]
    },
    "id": "yvgLcSFQiwpV",
    "outputId": "2a2166e3-45ef-4eda-974b-61f5a09ca74a"
   },
   "outputs": [],
   "source": [
    "# data conversion and renaming to facilitate downstream analysis\n",
    "y_train = pd.DataFrame(y_train)\n",
    "y_train.columns = [\"target\"]"
   ]
  },
  {
   "cell_type": "code",
   "execution_count": 11,
   "metadata": {},
   "outputs": [
    {
     "name": "stdout",
     "output_type": "stream",
     "text": [
      "The model assumes that the priors for intercept and slopes are independent. \n",
      "Modify the model if this assumption doesn't apply!\n",
      "BayesianLinearRegressor class has been instantiated with the following prior configuration.\n",
      "If you wish to modify these priors, you can use PreLiz to assist in the elicitation process:\n",
      "  - intercept: Prior(\"Normal\", mu=0, sigma=100)\n",
      "  - slopes: Prior(\"Normal\", mu=0, sigma=100, dims=\"pred_id\")\n",
      "  - noise_var: Prior(\"HalfCauchy\", beta=5)\n"
     ]
    },
    {
     "name": "stderr",
     "output_type": "stream",
     "text": [
      "Auto-assigning NUTS sampler...\n",
      "Initializing NUTS using jitter+adapt_diag...\n",
      "Multiprocess sampling (2 chains in 2 jobs)\n",
      "NUTS: [intercept, slopes, noise_var]\n"
     ]
    },
    {
     "data": {
      "application/vnd.jupyter.widget-view+json": {
       "model_id": "869892165c1544288963abff4296fdba",
       "version_major": 2,
       "version_minor": 0
      },
      "text/plain": [
       "Output()"
      ]
     },
     "metadata": {},
     "output_type": "display_data"
    },
    {
     "data": {
      "text/html": [
       "<pre style=\"white-space:pre;overflow-x:auto;line-height:normal;font-family:Menlo,'DejaVu Sans Mono',consolas,'Courier New',monospace\"></pre>\n"
      ],
      "text/plain": []
     },
     "metadata": {},
     "output_type": "display_data"
    },
    {
     "data": {
      "text/html": [
       "<pre style=\"white-space:pre;overflow-x:auto;line-height:normal;font-family:Menlo,'DejaVu Sans Mono',consolas,'Courier New',monospace\">\n",
       "</pre>\n"
      ],
      "text/plain": [
       "\n"
      ]
     },
     "metadata": {},
     "output_type": "display_data"
    },
    {
     "name": "stderr",
     "output_type": "stream",
     "text": [
      "Sampling 2 chains for 1_000 tune and 1_000 draw iterations (2_000 + 2_000 draws total) took 2 seconds.\n",
      "We recommend running at least 4 chains for robust computation of convergence diagnostics\n"
     ]
    },
    {
     "data": {
      "text/html": [
       "<style>#sk-6c94ffca-8bb9-41aa-8a1c-e0c14fbfd9dc {color: black;background-color: white;}#sk-6c94ffca-8bb9-41aa-8a1c-e0c14fbfd9dc pre{padding: 0;}#sk-6c94ffca-8bb9-41aa-8a1c-e0c14fbfd9dc div.sk-toggleable {background-color: white;}#sk-6c94ffca-8bb9-41aa-8a1c-e0c14fbfd9dc label.sk-toggleable__label {cursor: pointer;display: block;width: 100%;margin-bottom: 0;padding: 0.3em;box-sizing: border-box;text-align: center;}#sk-6c94ffca-8bb9-41aa-8a1c-e0c14fbfd9dc label.sk-toggleable__label-arrow:before {content: \"▸\";float: left;margin-right: 0.25em;color: #696969;}#sk-6c94ffca-8bb9-41aa-8a1c-e0c14fbfd9dc label.sk-toggleable__label-arrow:hover:before {color: black;}#sk-6c94ffca-8bb9-41aa-8a1c-e0c14fbfd9dc div.sk-estimator:hover label.sk-toggleable__label-arrow:before {color: black;}#sk-6c94ffca-8bb9-41aa-8a1c-e0c14fbfd9dc div.sk-toggleable__content {max-height: 0;max-width: 0;overflow: hidden;text-align: left;background-color: #f0f8ff;}#sk-6c94ffca-8bb9-41aa-8a1c-e0c14fbfd9dc div.sk-toggleable__content pre {margin: 0.2em;color: black;border-radius: 0.25em;background-color: #f0f8ff;}#sk-6c94ffca-8bb9-41aa-8a1c-e0c14fbfd9dc input.sk-toggleable__control:checked~div.sk-toggleable__content {max-height: 200px;max-width: 100%;overflow: auto;}#sk-6c94ffca-8bb9-41aa-8a1c-e0c14fbfd9dc input.sk-toggleable__control:checked~label.sk-toggleable__label-arrow:before {content: \"▾\";}#sk-6c94ffca-8bb9-41aa-8a1c-e0c14fbfd9dc div.sk-estimator input.sk-toggleable__control:checked~label.sk-toggleable__label {background-color: #d4ebff;}#sk-6c94ffca-8bb9-41aa-8a1c-e0c14fbfd9dc div.sk-label input.sk-toggleable__control:checked~label.sk-toggleable__label {background-color: #d4ebff;}#sk-6c94ffca-8bb9-41aa-8a1c-e0c14fbfd9dc input.sk-hidden--visually {border: 0;clip: rect(1px 1px 1px 1px);clip: rect(1px, 1px, 1px, 1px);height: 1px;margin: -1px;overflow: hidden;padding: 0;position: absolute;width: 1px;}#sk-6c94ffca-8bb9-41aa-8a1c-e0c14fbfd9dc div.sk-estimator {font-family: monospace;background-color: #f0f8ff;border: 1px dotted black;border-radius: 0.25em;box-sizing: border-box;margin-bottom: 0.5em;}#sk-6c94ffca-8bb9-41aa-8a1c-e0c14fbfd9dc div.sk-estimator:hover {background-color: #d4ebff;}#sk-6c94ffca-8bb9-41aa-8a1c-e0c14fbfd9dc div.sk-parallel-item::after {content: \"\";width: 100%;border-bottom: 1px solid gray;flex-grow: 1;}#sk-6c94ffca-8bb9-41aa-8a1c-e0c14fbfd9dc div.sk-label:hover label.sk-toggleable__label {background-color: #d4ebff;}#sk-6c94ffca-8bb9-41aa-8a1c-e0c14fbfd9dc div.sk-serial::before {content: \"\";position: absolute;border-left: 1px solid gray;box-sizing: border-box;top: 2em;bottom: 0;left: 50%;}#sk-6c94ffca-8bb9-41aa-8a1c-e0c14fbfd9dc div.sk-serial {display: flex;flex-direction: column;align-items: center;background-color: white;padding-right: 0.2em;padding-left: 0.2em;}#sk-6c94ffca-8bb9-41aa-8a1c-e0c14fbfd9dc div.sk-item {z-index: 1;}#sk-6c94ffca-8bb9-41aa-8a1c-e0c14fbfd9dc div.sk-parallel {display: flex;align-items: stretch;justify-content: center;background-color: white;}#sk-6c94ffca-8bb9-41aa-8a1c-e0c14fbfd9dc div.sk-parallel::before {content: \"\";position: absolute;border-left: 1px solid gray;box-sizing: border-box;top: 2em;bottom: 0;left: 50%;}#sk-6c94ffca-8bb9-41aa-8a1c-e0c14fbfd9dc div.sk-parallel-item {display: flex;flex-direction: column;position: relative;background-color: white;}#sk-6c94ffca-8bb9-41aa-8a1c-e0c14fbfd9dc div.sk-parallel-item:first-child::after {align-self: flex-end;width: 50%;}#sk-6c94ffca-8bb9-41aa-8a1c-e0c14fbfd9dc div.sk-parallel-item:last-child::after {align-self: flex-start;width: 50%;}#sk-6c94ffca-8bb9-41aa-8a1c-e0c14fbfd9dc div.sk-parallel-item:only-child::after {width: 0;}#sk-6c94ffca-8bb9-41aa-8a1c-e0c14fbfd9dc div.sk-dashed-wrapped {border: 1px dashed gray;margin: 0 0.4em 0.5em 0.4em;box-sizing: border-box;padding-bottom: 0.4em;background-color: white;position: relative;}#sk-6c94ffca-8bb9-41aa-8a1c-e0c14fbfd9dc div.sk-label label {font-family: monospace;font-weight: bold;background-color: white;display: inline-block;line-height: 1.2em;}#sk-6c94ffca-8bb9-41aa-8a1c-e0c14fbfd9dc div.sk-label-container {position: relative;z-index: 2;text-align: center;}#sk-6c94ffca-8bb9-41aa-8a1c-e0c14fbfd9dc div.sk-container {/* jupyter's `normalize.less` sets `[hidden] { display: none; }` but bootstrap.min.css set `[hidden] { display: none !important; }` so we also need the `!important` here to be able to override the default hidden behavior on the sphinx rendered scikit-learn.org. See: https://github.com/scikit-learn/scikit-learn/issues/21755 */display: inline-block !important;position: relative;}#sk-6c94ffca-8bb9-41aa-8a1c-e0c14fbfd9dc div.sk-text-repr-fallback {display: none;}</style><div id='sk-6c94ffca-8bb9-41aa-8a1c-e0c14fbfd9dc' class=\"sk-top-container\"><div class=\"sk-text-repr-fallback\"><pre>BayesianLinearRegressor(prior_config={&#x27;intercept&#x27;: Prior(&quot;Normal&quot;, mu=0, sigma=100),\n",
       "                                      &#x27;noise_var&#x27;: Prior(&quot;HalfCauchy&quot;, beta=5),\n",
       "                                      &#x27;slopes&#x27;: Prior(&quot;Normal&quot;, mu=0, sigma=100, dims=&quot;pred_id&quot;)},\n",
       "                        sampler_config={&#x27;chains&#x27;: 2, &#x27;draws&#x27;: 1000,\n",
       "                                        &#x27;progressbar&#x27;: True, &#x27;random_seed&#x27;: 123,\n",
       "                                        &#x27;target_accept&#x27;: 0.95, &#x27;tune&#x27;: 1000})</pre><b>Please rerun this cell to show the HTML repr or trust the notebook.</b></div><div class=\"sk-container\" hidden><div class='sk-item'><div class=\"sk-estimator sk-toggleable\"><input class=\"sk-toggleable__control sk-hidden--visually\" id=UUID('89ecf963-b177-449e-aa4d-60c942b8bbbd') type=\"checkbox\" checked><label for=UUID('89ecf963-b177-449e-aa4d-60c942b8bbbd') class='sk-toggleable__label sk-toggleable__label-arrow'>BayesianLinearRegressor</label><div class=\"sk-toggleable__content\"><pre>BayesianLinearRegressor(prior_config={&#x27;intercept&#x27;: Prior(&quot;Normal&quot;, mu=0, sigma=100),\n",
       "                                      &#x27;noise_var&#x27;: Prior(&quot;HalfCauchy&quot;, beta=5),\n",
       "                                      &#x27;slopes&#x27;: Prior(&quot;Normal&quot;, mu=0, sigma=100, dims=&quot;pred_id&quot;)},\n",
       "                        sampler_config={&#x27;chains&#x27;: 2, &#x27;draws&#x27;: 1000,\n",
       "                                        &#x27;progressbar&#x27;: True, &#x27;random_seed&#x27;: 123,\n",
       "                                        &#x27;target_accept&#x27;: 0.95, &#x27;tune&#x27;: 1000})</pre></div></div></div></div></div>"
      ],
      "text/plain": [
       "BayesianLinearRegressor(prior_config={'intercept': Prior(\"Normal\", mu=0, sigma=100),\n",
       "                                      'noise_var': Prior(\"HalfCauchy\", beta=5),\n",
       "                                      'slopes': Prior(\"Normal\", mu=0, sigma=100, dims=\"pred_id\")},\n",
       "                        sampler_config={'chains': 2, 'draws': 1000,\n",
       "                                        'progressbar': True, 'random_seed': 123,\n",
       "                                        'target_accept': 0.95, 'tune': 1000})"
      ]
     },
     "execution_count": 11,
     "metadata": {},
     "output_type": "execute_result"
    }
   ],
   "source": [
    "%timeit\n",
    "bayes_model = BayesianLinearRegressor()\n",
    "bayes_model.fit(X_train, y_train)"
   ]
  },
  {
   "cell_type": "markdown",
   "metadata": {
    "id": "C0-M9HLMp2TZ"
   },
   "source": [
    "## Prior"
   ]
  },
  {
   "cell_type": "markdown",
   "metadata": {},
   "source": [
    "### Default Prior"
   ]
  },
  {
   "cell_type": "markdown",
   "metadata": {
    "id": "_bog-nh1p4LC"
   },
   "source": [
    "The prior $P(\\theta)$ reflects our beliefs about the parameters before observing any data. In Bayesian inference, the choice of prior can significantly impact the results, especially when the amount of data is limited.\n",
    "\n",
    "In the case of **`BayesianLinearRegression`**, the model includes a default prior that is **weakly informative**. A weakly informative prior is designed to provide some structure without being overly restrictive or introducing strong assumptions. \n",
    "\n",
    "You can inspect these default priors by accessing the `default_prior_config` attribute of the model instance. This attribute will show the priors assigned to parameters like the intercept, slopes, and noise variance. "
   ]
  },
  {
   "cell_type": "code",
   "execution_count": 12,
   "metadata": {},
   "outputs": [
    {
     "name": "stdout",
     "output_type": "stream",
     "text": [
      "The model assumes that the priors for intercept and slopes are independent. \n",
      "Modify the model if this assumption doesn't apply!\n"
     ]
    },
    {
     "data": {
      "text/plain": [
       "{'intercept': Prior(\"Normal\", mu=0, sigma=100),\n",
       " 'slopes': Prior(\"Normal\", mu=0, sigma=100, dims=\"pred_id\"),\n",
       " 'noise_var': Prior(\"HalfCauchy\", beta=5)}"
      ]
     },
     "execution_count": 12,
     "metadata": {},
     "output_type": "execute_result"
    }
   ],
   "source": [
    "bayes_model.default_prior_config"
   ]
  },
  {
   "cell_type": "markdown",
   "metadata": {},
   "source": [
    "We see that they are as follows:"
   ]
  },
  {
   "cell_type": "markdown",
   "metadata": {
    "id": "xfpa-cWKL5aR"
   },
   "source": [
    "\\begin{align*}\n",
    "\\text{intercept} &== \\beta_{0} &\\sim \\mathcal{N}(0, 100) \\\\\n",
    "\\text{slopes} &== \\beta &\\sim \\mathcal{N}(0, 100) \\\\\n",
    "\\text{noise} &== \\sigma &\\sim \\text{HalfCauchy}(\\beta=5)\n",
    "\\end{align*}\n"
   ]
  },
  {
   "cell_type": "markdown",
   "metadata": {
    "id": "zQkLzcuUAXxj"
   },
   "source": [
    "We can sample from these prior distributions using the `sample_prior` method of the `bayes_model`, specifying `numpy` arrays as the output format. The samples can then be plotted for visualization."
   ]
  },
  {
   "cell_type": "code",
   "execution_count": 13,
   "metadata": {
    "colab": {
     "base_uri": "https://localhost:8080/",
     "height": 507
    },
    "id": "NsBM2sC_q9pA",
    "outputId": "61572779-c2b6-4c21-c2c6-a123d5854973"
   },
   "outputs": [
    {
     "name": "stderr",
     "output_type": "stream",
     "text": [
      "Sampling: [intercept, noise_var, slopes, y_obs]\n"
     ]
    },
    {
     "data": {
      "image/png": "[encoded data removed]",
      "text/plain": [
       "<Figure size 1500x500 with 4 Axes>"
      ]
     },
     "metadata": {},
     "output_type": "display_data"
    }
   ],
   "source": [
    "# get the prior samples as a dictionary of numpy arrays\n",
    "prior_samples = bayes_model.sample_prior(\"numpy\")\n",
    "\n",
    "# Plot the prior distributions\n",
    "fig, axes = plt.subplots(1, 4, figsize=(15, 5))\n",
    "\n",
    "# Plot prior for intercept\n",
    "axes[0].hist(prior_samples[\"intercept\"], bins=80, density=True, alpha=0.75)\n",
    "axes[0].set_title(r\"Prior of Intercept $\\sim \\mathcal{N}(0, 100)$\")\n",
    "axes[0].set_xlabel(\"Intercept\")\n",
    "axes[0].set_ylabel(\"Density\")\n",
    "\n",
    "\n",
    "# Plot prior for slopes\n",
    "axes[1].hist(prior_samples[\"slopes_feature1\"], bins=80, density=True, alpha=0.75)\n",
    "axes[1].set_title(r\"Prior of Slope 1 $\\sim \\mathcal{N}(0, 100)$\")\n",
    "axes[1].set_xlabel(\"Slope - feature 1\")\n",
    "axes[1].set_ylabel(\"Density\")\n",
    "\n",
    "axes[2].hist(prior_samples[\"slopes_feature2\"], bins=80, density=True, alpha=0.75)\n",
    "axes[2].set_title(r\"Prior of Slope 2 $\\sim \\mathcal{N}(0, 100)$\")\n",
    "axes[2].set_xlabel(\"Slope - feature 2\")\n",
    "axes[2].set_ylabel(\"Density\")\n",
    "\n",
    "\n",
    "# Plot prior for sigma\n",
    "axes[3].hist(prior_samples[\"noise_var\"], bins=80, density=True, alpha=0.75)\n",
    "axes[3].set_title(r\"Prior of Sigma $\\sim HalfCauchy(5)$\")\n",
    "axes[3].set_xlabel(\"Sigma\")\n",
    "axes[3].set_ylabel(\"Density\")\n",
    "\n",
    "plt.tight_layout()\n",
    "plt.show()"
   ]
  },
  {
   "cell_type": "markdown",
   "metadata": {},
   "source": [
    "Note that the method `sample_prior` that we use above can return us the samples in different data types. If we wish to, we could also ask for our priors an `skpro` distribution. "
   ]
  },
  {
   "cell_type": "markdown",
   "metadata": {},
   "source": [
    "Another convenient method is `get_prior_summary()` which calculates a summary statistics of our priors."
   ]
  },
  {
   "cell_type": "code",
   "execution_count": 14,
   "metadata": {
    "colab": {
     "base_uri": "https://localhost:8080/",
     "height": 160
    },
    "id": "wp2NeUd5FR0b",
    "outputId": "1a557f53-33c7-4090-8efd-349142dccfc3"
   },
   "outputs": [
    {
     "name": "stderr",
     "output_type": "stream",
     "text": [
      "arviz - WARNING - Shape validation failed: input_shape: (1, 1000), minimum_shape: (chains=2, draws=4)\n"
     ]
    },
    {
     "data": {
      "text/html": [
       "<div>\n",
       "<style scoped>\n",
       "    .dataframe tbody tr th:only-of-type {\n",
       "        vertical-align: middle;\n",
       "    }\n",
       "\n",
       "    .dataframe tbody tr th {\n",
       "        vertical-align: top;\n",
       "    }\n",
       "\n",
       "    .dataframe thead th {\n",
       "        text-align: right;\n",
       "    }\n",
       "</style>\n",
       "<table border=\"1\" class=\"dataframe\">\n",
       "  <thead>\n",
       "    <tr style=\"text-align: right;\">\n",
       "      <th></th>\n",
       "      <th>mean</th>\n",
       "      <th>sd</th>\n",
       "      <th>hdi_3%</th>\n",
       "      <th>hdi_97%</th>\n",
       "      <th>mcse_mean</th>\n",
       "      <th>mcse_sd</th>\n",
       "      <th>ess_bulk</th>\n",
       "      <th>ess_tail</th>\n",
       "      <th>r_hat</th>\n",
       "    </tr>\n",
       "  </thead>\n",
       "  <tbody>\n",
       "    <tr>\n",
       "      <th>intercept</th>\n",
       "      <td>-0.942</td>\n",
       "      <td>101.544</td>\n",
       "      <td>-186.723</td>\n",
       "      <td>177.891</td>\n",
       "      <td>3.257</td>\n",
       "      <td>2.304</td>\n",
       "      <td>974.0</td>\n",
       "      <td>975.0</td>\n",
       "      <td>NaN</td>\n",
       "    </tr>\n",
       "    <tr>\n",
       "      <th>slopes[feature1]</th>\n",
       "      <td>-1.225</td>\n",
       "      <td>99.838</td>\n",
       "      <td>-203.817</td>\n",
       "      <td>173.313</td>\n",
       "      <td>3.252</td>\n",
       "      <td>2.344</td>\n",
       "      <td>941.0</td>\n",
       "      <td>875.0</td>\n",
       "      <td>NaN</td>\n",
       "    </tr>\n",
       "    <tr>\n",
       "      <th>slopes[feature2]</th>\n",
       "      <td>2.958</td>\n",
       "      <td>100.046</td>\n",
       "      <td>-203.620</td>\n",
       "      <td>170.676</td>\n",
       "      <td>3.352</td>\n",
       "      <td>2.371</td>\n",
       "      <td>890.0</td>\n",
       "      <td>996.0</td>\n",
       "      <td>NaN</td>\n",
       "    </tr>\n",
       "    <tr>\n",
       "      <th>noise_var</th>\n",
       "      <td>39.432</td>\n",
       "      <td>653.651</td>\n",
       "      <td>0.014</td>\n",
       "      <td>45.035</td>\n",
       "      <td>20.613</td>\n",
       "      <td>14.591</td>\n",
       "      <td>1005.0</td>\n",
       "      <td>848.0</td>\n",
       "      <td>NaN</td>\n",
       "    </tr>\n",
       "    <tr>\n",
       "      <th>noise</th>\n",
       "      <td>3.170</td>\n",
       "      <td>5.423</td>\n",
       "      <td>0.201</td>\n",
       "      <td>6.714</td>\n",
       "      <td>0.170</td>\n",
       "      <td>0.121</td>\n",
       "      <td>1005.0</td>\n",
       "      <td>848.0</td>\n",
       "      <td>NaN</td>\n",
       "    </tr>\n",
       "  </tbody>\n",
       "</table>\n",
       "</div>"
      ],
      "text/plain": [
       "                    mean       sd   hdi_3%  hdi_97%  mcse_mean  mcse_sd  \\\n",
       "intercept         -0.942  101.544 -186.723  177.891      3.257    2.304   \n",
       "slopes[feature1]  -1.225   99.838 -203.817  173.313      3.252    2.344   \n",
       "slopes[feature2]   2.958  100.046 -203.620  170.676      3.352    2.371   \n",
       "noise_var         39.432  653.651    0.014   45.035     20.613   14.591   \n",
       "noise              3.170    5.423    0.201    6.714      0.170    0.121   \n",
       "\n",
       "                  ess_bulk  ess_tail  r_hat  \n",
       "intercept            974.0     975.0    NaN  \n",
       "slopes[feature1]     941.0     875.0    NaN  \n",
       "slopes[feature2]     890.0     996.0    NaN  \n",
       "noise_var           1005.0     848.0    NaN  \n",
       "noise               1005.0     848.0    NaN  "
      ]
     },
     "execution_count": 14,
     "metadata": {},
     "output_type": "execute_result"
    }
   ],
   "source": [
    "bayes_model.get_prior_summary()"
   ]
  },
  {
   "cell_type": "markdown",
   "metadata": {},
   "source": [
    "### Prior Elicitation"
   ]
  },
  {
   "cell_type": "markdown",
   "metadata": {},
   "source": [
    "The default priors may not align with our beliefs, so we need to define priors that do. This process, known as **prior elicitation**, involves crafting priors that reflect domain knowledge. \n",
    "\n",
    "\n",
    "We'll use **PreliZ**, a library in the PyMC/ArviZ ecosystem, to assist with this. `PreliZ` simplifies prior elicitation by offering tools to define priors that balance domain expertise with minimal bias. While its full capabilities are beyond this tutorial’s scope, we'll demonstrate how to use it to define a prior for the intercept in a Bayesian linear regression model. \n",
    "\n",
    "\n",
    "`PreliZ` uses maximum entropy methods to incorporate real-world knowledge—like plausible baseline ranges—into the model, ensuring we choose a minimally biased prior within reasonable constraints.\n",
    "\n",
    "For example, if our domain knowledge suggests the intercept is likely close to 1, we can use `pz.maxent` to define a Normal prior where 60% of the probability mass lies within [0.8, 1.2].  We can also visually inspect this prior."
   ]
  },
  {
   "cell_type": "code",
   "execution_count": 15,
   "metadata": {},
   "outputs": [
    {
     "data": {
      "image/png": "[encoded data removed]",
      "text/plain": [
       "<Figure size 640x480 with 1 Axes>"
      ]
     },
     "metadata": {},
     "output_type": "display_data"
    }
   ],
   "source": [
    "elicited_prior_pz, _ = pz.maxent(pz.Normal(), 0.8, 1.2, 0.6);"
   ]
  },
  {
   "cell_type": "markdown",
   "metadata": {},
   "source": [
    "Once defined, the elicited prior can be seamlessly converted into the `Prior` class from `PyMC` - a data type required for the prior configuration of `BayesLinearRegressor` model. \n",
    "\n",
    "We can then instantiate a new `BayesLinearRegressor` model using this elicited prior. \n",
    "Note that the other priors remain at their default values. "
   ]
  },
  {
   "cell_type": "code",
   "execution_count": 16,
   "metadata": {},
   "outputs": [
    {
     "name": "stdout",
     "output_type": "stream",
     "text": [
      "The model assumes that the priors for intercept and slopes are independent. \n",
      "Modify the model if this assumption doesn't apply!\n",
      "BayesianLinearRegressor class has been instantiated with the following prior configuration.\n",
      "If you wish to modify these priors, you can use PreLiz to assist in the elicitation process:\n",
      "  - intercept: Prior(\"Normal\", mu=1.0000659133714382, sigma=0.23763668100677832)\n",
      "  - slopes: Prior(\"Normal\", mu=0, sigma=100, dims=\"pred_id\")\n",
      "  - noise_var: Prior(\"HalfCauchy\", beta=5)\n"
     ]
    },
    {
     "name": "stderr",
     "output_type": "stream",
     "text": [
      "Auto-assigning NUTS sampler...\n",
      "Initializing NUTS using jitter+adapt_diag...\n",
      "Multiprocess sampling (2 chains in 2 jobs)\n",
      "NUTS: [intercept, slopes, noise_var]\n"
     ]
    },
    {
     "data": {
      "application/vnd.jupyter.widget-view+json": {
       "model_id": "5aa7674cb3c24d1ea91b698d643ca7e8",
       "version_major": 2,
       "version_minor": 0
      },
      "text/plain": [
       "Output()"
      ]
     },
     "metadata": {},
     "output_type": "display_data"
    },
    {
     "data": {
      "text/html": [
       "<pre style=\"white-space:pre;overflow-x:auto;line-height:normal;font-family:Menlo,'DejaVu Sans Mono',consolas,'Courier New',monospace\"></pre>\n"
      ],
      "text/plain": []
     },
     "metadata": {},
     "output_type": "display_data"
    },
    {
     "data": {
      "text/html": [
       "<pre style=\"white-space:pre;overflow-x:auto;line-height:normal;font-family:Menlo,'DejaVu Sans Mono',consolas,'Courier New',monospace\">\n",
       "</pre>\n"
      ],
      "text/plain": [
       "\n"
      ]
     },
     "metadata": {},
     "output_type": "display_data"
    },
    {
     "name": "stderr",
     "output_type": "stream",
     "text": [
      "Sampling 2 chains for 1_000 tune and 1_000 draw iterations (2_000 + 2_000 draws total) took 2 seconds.\n",
      "We recommend running at least 4 chains for robust computation of convergence diagnostics\n"
     ]
    },
    {
     "data": {
      "text/html": [
       "<style>#sk-34504d3a-ab30-4728-a6a6-27e920de98b7 {color: black;background-color: white;}#sk-34504d3a-ab30-4728-a6a6-27e920de98b7 pre{padding: 0;}#sk-34504d3a-ab30-4728-a6a6-27e920de98b7 div.sk-toggleable {background-color: white;}#sk-34504d3a-ab30-4728-a6a6-27e920de98b7 label.sk-toggleable__label {cursor: pointer;display: block;width: 100%;margin-bottom: 0;padding: 0.3em;box-sizing: border-box;text-align: center;}#sk-34504d3a-ab30-4728-a6a6-27e920de98b7 label.sk-toggleable__label-arrow:before {content: \"▸\";float: left;margin-right: 0.25em;color: #696969;}#sk-34504d3a-ab30-4728-a6a6-27e920de98b7 label.sk-toggleable__label-arrow:hover:before {color: black;}#sk-34504d3a-ab30-4728-a6a6-27e920de98b7 div.sk-estimator:hover label.sk-toggleable__label-arrow:before {color: black;}#sk-34504d3a-ab30-4728-a6a6-27e920de98b7 div.sk-toggleable__content {max-height: 0;max-width: 0;overflow: hidden;text-align: left;background-color: #f0f8ff;}#sk-34504d3a-ab30-4728-a6a6-27e920de98b7 div.sk-toggleable__content pre {margin: 0.2em;color: black;border-radius: 0.25em;background-color: #f0f8ff;}#sk-34504d3a-ab30-4728-a6a6-27e920de98b7 input.sk-toggleable__control:checked~div.sk-toggleable__content {max-height: 200px;max-width: 100%;overflow: auto;}#sk-34504d3a-ab30-4728-a6a6-27e920de98b7 input.sk-toggleable__control:checked~label.sk-toggleable__label-arrow:before {content: \"▾\";}#sk-34504d3a-ab30-4728-a6a6-27e920de98b7 div.sk-estimator input.sk-toggleable__control:checked~label.sk-toggleable__label {background-color: #d4ebff;}#sk-34504d3a-ab30-4728-a6a6-27e920de98b7 div.sk-label input.sk-toggleable__control:checked~label.sk-toggleable__label {background-color: #d4ebff;}#sk-34504d3a-ab30-4728-a6a6-27e920de98b7 input.sk-hidden--visually {border: 0;clip: rect(1px 1px 1px 1px);clip: rect(1px, 1px, 1px, 1px);height: 1px;margin: -1px;overflow: hidden;padding: 0;position: absolute;width: 1px;}#sk-34504d3a-ab30-4728-a6a6-27e920de98b7 div.sk-estimator {font-family: monospace;background-color: #f0f8ff;border: 1px dotted black;border-radius: 0.25em;box-sizing: border-box;margin-bottom: 0.5em;}#sk-34504d3a-ab30-4728-a6a6-27e920de98b7 div.sk-estimator:hover {background-color: #d4ebff;}#sk-34504d3a-ab30-4728-a6a6-27e920de98b7 div.sk-parallel-item::after {content: \"\";width: 100%;border-bottom: 1px solid gray;flex-grow: 1;}#sk-34504d3a-ab30-4728-a6a6-27e920de98b7 div.sk-label:hover label.sk-toggleable__label {background-color: #d4ebff;}#sk-34504d3a-ab30-4728-a6a6-27e920de98b7 div.sk-serial::before {content: \"\";position: absolute;border-left: 1px solid gray;box-sizing: border-box;top: 2em;bottom: 0;left: 50%;}#sk-34504d3a-ab30-4728-a6a6-27e920de98b7 div.sk-serial {display: flex;flex-direction: column;align-items: center;background-color: white;padding-right: 0.2em;padding-left: 0.2em;}#sk-34504d3a-ab30-4728-a6a6-27e920de98b7 div.sk-item {z-index: 1;}#sk-34504d3a-ab30-4728-a6a6-27e920de98b7 div.sk-parallel {display: flex;align-items: stretch;justify-content: center;background-color: white;}#sk-34504d3a-ab30-4728-a6a6-27e920de98b7 div.sk-parallel::before {content: \"\";position: absolute;border-left: 1px solid gray;box-sizing: border-box;top: 2em;bottom: 0;left: 50%;}#sk-34504d3a-ab30-4728-a6a6-27e920de98b7 div.sk-parallel-item {display: flex;flex-direction: column;position: relative;background-color: white;}#sk-34504d3a-ab30-4728-a6a6-27e920de98b7 div.sk-parallel-item:first-child::after {align-self: flex-end;width: 50%;}#sk-34504d3a-ab30-4728-a6a6-27e920de98b7 div.sk-parallel-item:last-child::after {align-self: flex-start;width: 50%;}#sk-34504d3a-ab30-4728-a6a6-27e920de98b7 div.sk-parallel-item:only-child::after {width: 0;}#sk-34504d3a-ab30-4728-a6a6-27e920de98b7 div.sk-dashed-wrapped {border: 1px dashed gray;margin: 0 0.4em 0.5em 0.4em;box-sizing: border-box;padding-bottom: 0.4em;background-color: white;position: relative;}#sk-34504d3a-ab30-4728-a6a6-27e920de98b7 div.sk-label label {font-family: monospace;font-weight: bold;background-color: white;display: inline-block;line-height: 1.2em;}#sk-34504d3a-ab30-4728-a6a6-27e920de98b7 div.sk-label-container {position: relative;z-index: 2;text-align: center;}#sk-34504d3a-ab30-4728-a6a6-27e920de98b7 div.sk-container {/* jupyter's `normalize.less` sets `[hidden] { display: none; }` but bootstrap.min.css set `[hidden] { display: none !important; }` so we also need the `!important` here to be able to override the default hidden behavior on the sphinx rendered scikit-learn.org. See: https://github.com/scikit-learn/scikit-learn/issues/21755 */display: inline-block !important;position: relative;}#sk-34504d3a-ab30-4728-a6a6-27e920de98b7 div.sk-text-repr-fallback {display: none;}</style><div id='sk-34504d3a-ab30-4728-a6a6-27e920de98b7' class=\"sk-top-container\"><div class=\"sk-text-repr-fallback\"><pre>BayesianLinearRegressor(prior_config={&#x27;intercept&#x27;: Prior(&quot;Normal&quot;, mu=1.0000659133714382, sigma=0.23763668100677832),\n",
       "                                      &#x27;noise_var&#x27;: Prior(&quot;HalfCauchy&quot;, beta=5),\n",
       "                                      &#x27;slopes&#x27;: Prior(&quot;Normal&quot;, mu=0, sigma=100, dims=&quot;pred_id&quot;)},\n",
       "                        sampler_config={&#x27;chains&#x27;: 2, &#x27;draws&#x27;: 1000,\n",
       "                                        &#x27;progressbar&#x27;: True, &#x27;random_seed&#x27;: 123,\n",
       "                                        &#x27;target_accept&#x27;: 0.95, &#x27;tune&#x27;: 1000})</pre><b>Please rerun this cell to show the HTML repr or trust the notebook.</b></div><div class=\"sk-container\" hidden><div class='sk-item'><div class=\"sk-estimator sk-toggleable\"><input class=\"sk-toggleable__control sk-hidden--visually\" id=UUID('807c3e56-33b5-4e85-b517-14b399e15acb') type=\"checkbox\" checked><label for=UUID('807c3e56-33b5-4e85-b517-14b399e15acb') class='sk-toggleable__label sk-toggleable__label-arrow'>BayesianLinearRegressor</label><div class=\"sk-toggleable__content\"><pre>BayesianLinearRegressor(prior_config={&#x27;intercept&#x27;: Prior(&quot;Normal&quot;, mu=1.0000659133714382, sigma=0.23763668100677832),\n",
       "                                      &#x27;noise_var&#x27;: Prior(&quot;HalfCauchy&quot;, beta=5),\n",
       "                                      &#x27;slopes&#x27;: Prior(&quot;Normal&quot;, mu=0, sigma=100, dims=&quot;pred_id&quot;)},\n",
       "                        sampler_config={&#x27;chains&#x27;: 2, &#x27;draws&#x27;: 1000,\n",
       "                                        &#x27;progressbar&#x27;: True, &#x27;random_seed&#x27;: 123,\n",
       "                                        &#x27;target_accept&#x27;: 0.95, &#x27;tune&#x27;: 1000})</pre></div></div></div></div></div>"
      ],
      "text/plain": [
       "BayesianLinearRegressor(prior_config={'intercept': Prior(\"Normal\", mu=1.0000659133714382, sigma=0.23763668100677832),\n",
       "                                      'noise_var': Prior(\"HalfCauchy\", beta=5),\n",
       "                                      'slopes': Prior(\"Normal\", mu=0, sigma=100, dims=\"pred_id\")},\n",
       "                        sampler_config={'chains': 2, 'draws': 1000,\n",
       "                                        'progressbar': True, 'random_seed': 123,\n",
       "                                        'target_accept': 0.95, 'tune': 1000})"
      ]
     },
     "execution_count": 16,
     "metadata": {},
     "output_type": "execute_result"
    }
   ],
   "source": [
    "elicited_prior = Prior(\"Normal\", mu=elicited_prior_pz.mu, sigma=elicited_prior_pz.sigma)\n",
    "\n",
    "bayes_model = BayesianLinearRegressor(prior_config={\"intercept\": elicited_prior})\n",
    "bayes_model.fit(X_train, y_train)"
   ]
  },
  {
   "cell_type": "markdown",
   "metadata": {
    "id": "357km3vOvZ5H"
   },
   "source": [
    "## Likelihood"
   ]
  },
  {
   "cell_type": "markdown",
   "metadata": {
    "id": "tc1LBmZFsrdP"
   },
   "source": [
    "\n",
    "\n",
    "The likelihood function $P(D \\mid \\theta)$ represents how likely it is to observe the given data, $D$, given a set of parameters $\\theta$.\n",
    "\n",
    "For linear regression, we are assume that each observed data point $y_i$ is normally distributed around its predicted value $\\beta_0 + X_i \\beta$, with variance $\\sigma^2$.\n",
    "    \n",
    "$$P(D \\mid \\beta, \\sigma) = \\prod_{i=1}^{n} \\mathcal{N}(y_i \\mid \\beta_0 + X_i \\beta, \\sigma^2)$$\n",
    "\n",
    "where:\n",
    "\n",
    "- $y_i$ are the observed target values,\n",
    "- $X_i$ are the observed feature values,\n",
    "- $\\beta_0$ is the intercept,\n",
    "- $\\beta$ are the slopes/regression coefficients for the features,\n",
    "- $\\sigma$ is the standard deviation of the errors.\n"
   ]
  },
  {
   "cell_type": "markdown",
   "metadata": {
    "id": "NLgMBNm84GLT"
   },
   "source": [
    "## Posterior"
   ]
  },
  {
   "cell_type": "markdown",
   "metadata": {
    "id": "AxE8vm_v4LLw"
   },
   "source": [
    "The posterior distribution, denoted as $P(\\theta \\mid D)$, represents the updated beliefs about the parameters $\\theta$ after observing the data $D$. PyMC obtains the posterior distribution using Markov Chain Monte Carlo (MCMC) algorithms, which iteratively explore the parameter space, generating a sequence of samples that approximate the posterior distribution.\n",
    "\n",
    "We can extract the posterior using the `sample_posterior` method of the `bayes_model`. "
   ]
  },
  {
   "cell_type": "code",
   "execution_count": 17,
   "metadata": {
    "id": "qRskX-is8n13"
   },
   "outputs": [],
   "source": [
    "posterior_samples = bayes_model.sample_posterior(\"numpy\")"
   ]
  },
  {
   "cell_type": "markdown",
   "metadata": {},
   "source": [
    "By plotting the posterior distributions, we observe two key points:\n",
    "- The posterior distributions are much narrower than the initial priors, showing that the data has significantly refined our estimates.\n",
    "- The posterior means, also known as Bayesian estimates, are closer to the true values than the MLE estimates from OLS. This improvement is due to the well-specified informative prior for the intercept"
   ]
  },
  {
   "cell_type": "code",
   "execution_count": 18,
   "metadata": {
    "colab": {
     "base_uri": "https://localhost:8080/",
     "height": 507
    },
    "id": "jd21mYjJ9SQF",
    "outputId": "92859ea3-62cb-4b97-9505-bff5e5d7ea78"
   },
   "outputs": [
    {
     "data": {
      "image/png": "[encoded data removed]",
      "text/plain": [
       "<Figure size 1500x500 with 4 Axes>"
      ]
     },
     "metadata": {},
     "output_type": "display_data"
    }
   ],
   "source": [
    "fig, axes = plt.subplots(1, 4, figsize=(15, 5))  # Same figsize as the prior plot\n",
    "\n",
    "# Calculate Bayesian estimates (mean of posterior)\n",
    "bayes_estimate_intercept = posterior_samples[\"intercept\"].mean()\n",
    "bayes_estimate_slope1 = posterior_samples[\"slopes_feature1\"].mean()\n",
    "bayes_estimate_slope2 = posterior_samples[\"slopes_feature2\"].mean()\n",
    "bayes_estimate_sigma = posterior_samples[\"noise\"].mean()\n",
    "\n",
    "# Plot posterior for intercept\n",
    "axes[0].hist(posterior_samples[\"intercept\"], bins=80, density=True, alpha=0.75)\n",
    "axes[0].axvline(\n",
    "    TRUE_INTERCEPT,\n",
    "    color=\"r\",\n",
    "    linestyle=\"--\",\n",
    "    linewidth=2,\n",
    "    label=f\"True Intercept: {TRUE_INTERCEPT}\",\n",
    ")\n",
    "axes[0].axvline(\n",
    "    bayes_estimate_intercept,\n",
    "    color=\"orange\",\n",
    "    linestyle=\":\",\n",
    "    linewidth=2,\n",
    "    label=f\"Bayes Estimate: {bayes_estimate_intercept:.2f}\",\n",
    ")\n",
    "axes[0].set_title(\"Posterior of Intercept\")\n",
    "axes[0].set_xlabel(\"Intercept\")\n",
    "axes[0].set_ylabel(\"Density\")\n",
    "axes[0].legend()\n",
    "\n",
    "# Plot posterior for slope feature 1\n",
    "axes[1].hist(posterior_samples[\"slopes_feature1\"], bins=80, density=True, alpha=0.75)\n",
    "axes[1].axvline(\n",
    "    TRUE_SLOPES[0],\n",
    "    color=\"r\",\n",
    "    linestyle=\"--\",\n",
    "    linewidth=2,\n",
    "    label=f\"True Slope (Feature 1): {TRUE_SLOPES[0]}\",\n",
    ")\n",
    "axes[1].axvline(\n",
    "    bayes_estimate_slope1,\n",
    "    color=\"orange\",\n",
    "    linestyle=\":\",\n",
    "    linewidth=2,\n",
    "    label=f\"Bayes Estimate: {bayes_estimate_slope1:.2f}\",\n",
    ")\n",
    "axes[1].set_title(\"Posterior of Slope (Feature 1)\")\n",
    "axes[1].set_xlabel(\"Slope - feature 1\")\n",
    "axes[1].set_ylabel(\"Density\")\n",
    "axes[1].legend()\n",
    "\n",
    "# Plot posterior for slope feature 2\n",
    "axes[2].hist(posterior_samples[\"slopes_feature2\"], bins=80, density=True, alpha=0.75)\n",
    "axes[2].axvline(\n",
    "    TRUE_SLOPES[1],\n",
    "    color=\"r\",\n",
    "    linestyle=\"--\",\n",
    "    linewidth=2,\n",
    "    label=f\"True Slope (Feature 2): {TRUE_SLOPES[1]}\",\n",
    ")\n",
    "axes[2].axvline(\n",
    "    bayes_estimate_slope2,\n",
    "    color=\"orange\",\n",
    "    linestyle=\":\",\n",
    "    linewidth=2,\n",
    "    label=f\"Bayes Estimate: {bayes_estimate_slope2:.2f}\",\n",
    ")\n",
    "axes[2].set_title(\"Posterior of Slope (Feature 2)\")\n",
    "axes[2].set_xlabel(\"Slope - feature 2\")\n",
    "axes[2].set_ylabel(\"Density\")\n",
    "axes[2].legend()\n",
    "\n",
    "# Plot posterior for sigma (noise)\n",
    "axes[3].hist(posterior_samples[\"noise\"], bins=80, density=True, alpha=0.75)\n",
    "axes[3].axvline(\n",
    "    TRUE_SIGMA,\n",
    "    color=\"r\",\n",
    "    linestyle=\"--\",\n",
    "    linewidth=2,\n",
    "    label=f\"True Sigma: {TRUE_SIGMA}\",\n",
    ")\n",
    "axes[3].axvline(\n",
    "    bayes_estimate_sigma,\n",
    "    color=\"orange\",\n",
    "    linestyle=\":\",\n",
    "    linewidth=2,\n",
    "    label=f\"Bayes Estimate: {bayes_estimate_sigma:.2f}\",\n",
    ")\n",
    "axes[3].set_title(\"Posterior of Sigma\")\n",
    "axes[3].set_xlabel(\"Sigma\")\n",
    "axes[3].set_ylabel(\"Density\")\n",
    "axes[3].legend()\n",
    "\n",
    "plt.tight_layout()\n",
    "plt.show()"
   ]
  },
  {
   "cell_type": "markdown",
   "metadata": {},
   "source": [
    "We can make use of `get_posterior_summary()` to print out the summary statistics of our posterior.\n",
    "Note the low values of the standard deviation - indicating the 'spikiness' of our distributions!"
   ]
  },
  {
   "cell_type": "code",
   "execution_count": 19,
   "metadata": {
    "colab": {
     "base_uri": "https://localhost:8080/",
     "height": 143
    },
    "id": "GySjZVJp-AEW",
    "outputId": "40449077-41fe-420b-8a7f-73ba0c2163a2"
   },
   "outputs": [
    {
     "data": {
      "text/html": [
       "<div>\n",
       "<style scoped>\n",
       "    .dataframe tbody tr th:only-of-type {\n",
       "        vertical-align: middle;\n",
       "    }\n",
       "\n",
       "    .dataframe tbody tr th {\n",
       "        vertical-align: top;\n",
       "    }\n",
       "\n",
       "    .dataframe thead th {\n",
       "        text-align: right;\n",
       "    }\n",
       "</style>\n",
       "<table border=\"1\" class=\"dataframe\">\n",
       "  <thead>\n",
       "    <tr style=\"text-align: right;\">\n",
       "      <th></th>\n",
       "      <th>mean</th>\n",
       "      <th>sd</th>\n",
       "      <th>hdi_3%</th>\n",
       "      <th>hdi_97%</th>\n",
       "      <th>mcse_mean</th>\n",
       "      <th>mcse_sd</th>\n",
       "      <th>ess_bulk</th>\n",
       "      <th>ess_tail</th>\n",
       "      <th>r_hat</th>\n",
       "    </tr>\n",
       "  </thead>\n",
       "  <tbody>\n",
       "    <tr>\n",
       "      <th>intercept</th>\n",
       "      <td>0.847</td>\n",
       "      <td>0.203</td>\n",
       "      <td>0.475</td>\n",
       "      <td>1.230</td>\n",
       "      <td>0.006</td>\n",
       "      <td>0.005</td>\n",
       "      <td>1005.0</td>\n",
       "      <td>1053.0</td>\n",
       "      <td>1.0</td>\n",
       "    </tr>\n",
       "    <tr>\n",
       "      <th>slopes[feature1]</th>\n",
       "      <td>1.908</td>\n",
       "      <td>0.311</td>\n",
       "      <td>1.341</td>\n",
       "      <td>2.492</td>\n",
       "      <td>0.009</td>\n",
       "      <td>0.006</td>\n",
       "      <td>1265.0</td>\n",
       "      <td>1445.0</td>\n",
       "      <td>1.0</td>\n",
       "    </tr>\n",
       "    <tr>\n",
       "      <th>slopes[feature2]</th>\n",
       "      <td>3.121</td>\n",
       "      <td>0.340</td>\n",
       "      <td>2.414</td>\n",
       "      <td>3.709</td>\n",
       "      <td>0.010</td>\n",
       "      <td>0.007</td>\n",
       "      <td>1099.0</td>\n",
       "      <td>831.0</td>\n",
       "      <td>1.0</td>\n",
       "    </tr>\n",
       "    <tr>\n",
       "      <th>noise_var</th>\n",
       "      <td>0.266</td>\n",
       "      <td>0.105</td>\n",
       "      <td>0.103</td>\n",
       "      <td>0.446</td>\n",
       "      <td>0.003</td>\n",
       "      <td>0.003</td>\n",
       "      <td>997.0</td>\n",
       "      <td>1015.0</td>\n",
       "      <td>1.0</td>\n",
       "    </tr>\n",
       "    <tr>\n",
       "      <th>noise</th>\n",
       "      <td>0.507</td>\n",
       "      <td>0.095</td>\n",
       "      <td>0.343</td>\n",
       "      <td>0.682</td>\n",
       "      <td>0.003</td>\n",
       "      <td>0.002</td>\n",
       "      <td>997.0</td>\n",
       "      <td>1015.0</td>\n",
       "      <td>1.0</td>\n",
       "    </tr>\n",
       "  </tbody>\n",
       "</table>\n",
       "</div>"
      ],
      "text/plain": [
       "                   mean     sd  hdi_3%  hdi_97%  mcse_mean  mcse_sd  ess_bulk  \\\n",
       "intercept         0.847  0.203   0.475    1.230      0.006    0.005    1005.0   \n",
       "slopes[feature1]  1.908  0.311   1.341    2.492      0.009    0.006    1265.0   \n",
       "slopes[feature2]  3.121  0.340   2.414    3.709      0.010    0.007    1099.0   \n",
       "noise_var         0.266  0.105   0.103    0.446      0.003    0.003     997.0   \n",
       "noise             0.507  0.095   0.343    0.682      0.003    0.002     997.0   \n",
       "\n",
       "                  ess_tail  r_hat  \n",
       "intercept           1053.0    1.0  \n",
       "slopes[feature1]    1445.0    1.0  \n",
       "slopes[feature2]     831.0    1.0  \n",
       "noise_var           1015.0    1.0  \n",
       "noise               1015.0    1.0  "
      ]
     },
     "execution_count": 19,
     "metadata": {},
     "output_type": "execute_result"
    }
   ],
   "source": [
    "bayes_model.get_posterior_summary()"
   ]
  },
  {
   "cell_type": "markdown",
   "metadata": {
    "id": "Uogi7LOhH7oR"
   },
   "source": [
    "Additionally, note that apart from using the convenience functions provided by the BayesianLinearRegressor, such as `get_posterior_summary`, you can directly access the `idata` attribute of the model instance. This 'idata' object is a container for all inference data we've used on this model so far, including the training data, the prior and the posterior. \n",
    "\n",
    "Once you have the `idata` object, you can use the `arviz` library to analyze and visualize any distributions created during the model's lifetime, such as the prior and posterior distributions. `arviz` provides a rich set of tools for diagnostics, plotting, and summarizing the results of Bayesian models. This allows for a thorough examination of the model's behavior and the reliability of the inferred parameters.\n",
    "\n",
    "For example, here, we use `arviz`'s `plot_posterior` to plot the posterior distribution of the `intercept ` variable."
   ]
  },
  {
   "cell_type": "code",
   "execution_count": 20,
   "metadata": {
    "colab": {
     "base_uri": "https://localhost:8080/",
     "height": 530
    },
    "id": "4nYXl4CWNo6r",
    "outputId": "bfce2215-6b77-471f-ca59-d4bdabc221cb"
   },
   "outputs": [
    {
     "data": {
      "text/plain": [
       "<Axes: title={'center': 'intercept'}>"
      ]
     },
     "execution_count": 20,
     "metadata": {},
     "output_type": "execute_result"
    },
    {
     "data": {
      "image/png": "[encoded data removed]",
      "text/plain": [
       "<Figure size 640x480 with 1 Axes>"
      ]
     },
     "metadata": {},
     "output_type": "display_data"
    }
   ],
   "source": [
    "az.plot_posterior(bayes_model.idata, var_names=\"intercept\")"
   ]
  },
  {
   "cell_type": "markdown",
   "metadata": {
    "id": "n70jIDv3EKBo"
   },
   "source": [
    "# Model checking\n",
    "\n"
   ]
  },
  {
   "cell_type": "markdown",
   "metadata": {
    "id": "M2VKn5Kg3iBv"
   },
   "source": [
    "Before using our Bayesian model to make predictions, it is advisable to perform some sanity checks to ascertain the correctness of the model set up and the assumptions. This section describes some of the most commonly used checks."
   ]
  },
  {
   "cell_type": "markdown",
   "metadata": {
    "id": "_J-ZmDE2sGOm"
   },
   "source": [
    "## `graphviz` Visualization"
   ]
  },
  {
   "cell_type": "markdown",
   "metadata": {
    "id": "fZZb1BcpLAo7"
   },
   "source": [
    "One way to understand the `bayes_model` is to visualize its composition using the `.visualize_model` method. This method uses the `graphviz` library to generate a graphical representation of the model, illustrating the relationships and dependencies between the priors, likelihood, data and the posterior.\n",
    "\n",
    "\n",
    "The graphviz diagram will show the following:\n",
    "\n",
    "- Ovals indicate stochastic nodes (random variables).\n",
    "- Rectangles represent deterministic nodes (computed values).\n",
    "- Shaded shapes (like the shaded ovals for X and y) indicate observed data or fixed inputs.\n",
    "- Unshaded shapes represent latent variables or parameters that the model is trying to infer."
   ]
  },
  {
   "cell_type": "code",
   "execution_count": 21,
   "metadata": {
    "colab": {
     "base_uri": "https://localhost:8080/",
     "height": 624
    },
    "id": "Hs4FcW38-66-",
    "outputId": "dab0a1ef-c8d4-410a-c0c6-0d6de935f538"
   },
   "outputs": [
    {
     "data": {
      "image/svg+xml": [
       "<?xml version=\"1.0\" encoding=\"UTF-8\" standalone=\"no\"?>\n",
       "<!DOCTYPE svg PUBLIC \"-//W3C//DTD SVG 1.1//EN\"\n",
       " \"http://www.w3.org/Graphics/SVG/1.1/DTD/svg11.dtd\">\n",
       "<!-- Generated by graphviz version 11.0.0 (0)\n",
       " -->\n",
       "<!-- Pages: 1 -->\n",
       "<svg width=\"500pt\" height=\"436pt\"\n",
       " viewBox=\"0.00 0.00 500.45 435.79\" xmlns=\"http://www.w3.org/2000/svg\" xmlns:xlink=\"http://www.w3.org/1999/xlink\">\n",
       "<g id=\"graph0\" class=\"graph\" transform=\"scale(1 1) rotate(0) translate(4 431.79)\">\n",
       "<polygon fill=\"white\" stroke=\"none\" points=\"-4,4 -4,-431.79 496.45,-431.79 496.45,4 -4,4\"/>\n",
       "<g id=\"clust1\" class=\"cluster\">\n",
       "<title>clusterobs_id (20) x pred_id (2)</title>\n",
       "<path fill=\"none\" stroke=\"black\" d=\"M20,-320.28C20,-320.28 149,-320.28 149,-320.28 155,-320.28 161,-326.28 161,-332.28 161,-332.28 161,-397.28 161,-397.28 161,-403.28 155,-409.28 149,-409.28 149,-409.28 20,-409.28 20,-409.28 14,-409.28 8,-403.28 8,-397.28 8,-397.28 8,-332.28 8,-332.28 8,-326.28 14,-320.28 20,-320.28\"/>\n",
       "<text text-anchor=\"middle\" x=\"84.38\" y=\"-325.23\" font-family=\"Times,serif\" font-size=\"14.00\">obs_id (20) x pred_id (2)</text>\n",
       "</g>\n",
       "<g id=\"clust2\" class=\"cluster\">\n",
       "<title>clusterobs_id (20)</title>\n",
       "<path fill=\"none\" stroke=\"black\" d=\"M244,-8C244,-8 318,-8 318,-8 324,-8 330,-14 330,-20 330,-20 330,-192.77 330,-192.77 330,-198.77 324,-204.77 318,-204.77 318,-204.77 244,-204.77 244,-204.77 238,-204.77 232,-198.77 232,-192.77 232,-192.77 232,-20 232,-20 232,-14 238,-8 244,-8\"/>\n",
       "<text text-anchor=\"middle\" x=\"290.88\" y=\"-12.95\" font-family=\"Times,serif\" font-size=\"14.00\">obs_id (20)</text>\n",
       "</g>\n",
       "<g id=\"clust3\" class=\"cluster\">\n",
       "<title>clusterpred_id (2)</title>\n",
       "<path fill=\"none\" stroke=\"black\" d=\"M282,-309.77C282,-309.77 356,-309.77 356,-309.77 362,-309.77 368,-315.77 368,-321.77 368,-321.77 368,-407.79 368,-407.79 368,-413.79 362,-419.79 356,-419.79 356,-419.79 282,-419.79 282,-419.79 276,-419.79 270,-413.79 270,-407.79 270,-407.79 270,-321.77 270,-321.77 270,-315.77 276,-309.77 282,-309.77\"/>\n",
       "<text text-anchor=\"middle\" x=\"329.62\" y=\"-314.72\" font-family=\"Times,serif\" font-size=\"14.00\">pred_id (2)</text>\n",
       "</g>\n",
       "<g id=\"clust4\" class=\"cluster\">\n",
       "<title>cluster20</title>\n",
       "<path fill=\"none\" stroke=\"black\" d=\"M202,-212.77C202,-212.77 284,-212.77 284,-212.77 290,-212.77 296,-218.77 296,-224.77 296,-224.77 296,-289.77 296,-289.77 296,-295.77 290,-301.77 284,-301.77 284,-301.77 202,-301.77 202,-301.77 196,-301.77 190,-295.77 190,-289.77 190,-289.77 190,-224.77 190,-224.77 190,-218.77 196,-212.77 202,-212.77\"/>\n",
       "<text text-anchor=\"middle\" x=\"281.25\" y=\"-217.72\" font-family=\"Times,serif\" font-size=\"14.00\">20</text>\n",
       "</g>\n",
       "<!-- X -->\n",
       "<g id=\"node1\" class=\"node\">\n",
       "<title>X</title>\n",
       "<path fill=\"lightgrey\" stroke=\"black\" d=\"M140,-401.28C140,-401.28 110,-401.28 110,-401.28 104,-401.28 98,-395.28 98,-389.28 98,-389.28 98,-362.53 98,-362.53 98,-356.53 104,-350.53 110,-350.53 110,-350.53 140,-350.53 140,-350.53 146,-350.53 152,-356.53 152,-362.53 152,-362.53 152,-389.28 152,-389.28 152,-395.28 146,-401.28 140,-401.28\"/>\n",
       "<text text-anchor=\"middle\" x=\"125\" y=\"-383.98\" font-family=\"Times,serif\" font-size=\"14.00\">X</text>\n",
       "<text text-anchor=\"middle\" x=\"125\" y=\"-369.73\" font-family=\"Times,serif\" font-size=\"14.00\">~</text>\n",
       "<text text-anchor=\"middle\" x=\"125\" y=\"-355.48\" font-family=\"Times,serif\" font-size=\"14.00\">Data</text>\n",
       "</g>\n",
       "<!-- mu -->\n",
       "<g id=\"node8\" class=\"node\">\n",
       "<title>mu</title>\n",
       "<polygon fill=\"none\" stroke=\"black\" points=\"288.12,-293.77 197.88,-293.77 197.88,-243.02 288.12,-243.02 288.12,-293.77\"/>\n",
       "<text text-anchor=\"middle\" x=\"243\" y=\"-276.47\" font-family=\"Times,serif\" font-size=\"14.00\">mu</text>\n",
       "<text text-anchor=\"middle\" x=\"243\" y=\"-262.22\" font-family=\"Times,serif\" font-size=\"14.00\">~</text>\n",
       "<text text-anchor=\"middle\" x=\"243\" y=\"-247.97\" font-family=\"Times,serif\" font-size=\"14.00\">Deterministic</text>\n",
       "</g>\n",
       "<!-- X&#45;&gt;mu -->\n",
       "<g id=\"edge4\" class=\"edge\">\n",
       "<title>X&#45;&gt;mu</title>\n",
       "<path fill=\"none\" stroke=\"black\" d=\"M134.31,-350.27C140.31,-336.96 149.22,-321.01 161,-309.77 168.76,-302.37 178.13,-296.07 187.72,-290.8\"/>\n",
       "<polygon fill=\"black\" stroke=\"black\" points=\"189.08,-294.03 196.39,-286.36 185.9,-287.8 189.08,-294.03\"/>\n",
       "</g>\n",
       "<!-- y -->\n",
       "<g id=\"node2\" class=\"node\">\n",
       "<title>y</title>\n",
       "<path fill=\"lightgrey\" stroke=\"black\" d=\"M296,-89C296,-89 266,-89 266,-89 260,-89 254,-83 254,-77 254,-77 254,-50.25 254,-50.25 254,-44.25 260,-38.25 266,-38.25 266,-38.25 296,-38.25 296,-38.25 302,-38.25 308,-44.25 308,-50.25 308,-50.25 308,-77 308,-77 308,-83 302,-89 296,-89\"/>\n",
       "<text text-anchor=\"middle\" x=\"281\" y=\"-71.7\" font-family=\"Times,serif\" font-size=\"14.00\">y</text>\n",
       "<text text-anchor=\"middle\" x=\"281\" y=\"-57.45\" font-family=\"Times,serif\" font-size=\"14.00\">~</text>\n",
       "<text text-anchor=\"middle\" x=\"281\" y=\"-43.2\" font-family=\"Times,serif\" font-size=\"14.00\">Data</text>\n",
       "</g>\n",
       "<!-- y_obs -->\n",
       "<g id=\"node3\" class=\"node\">\n",
       "<title>y_obs</title>\n",
       "<ellipse fill=\"lightgrey\" stroke=\"black\" cx=\"281\" cy=\"-160.89\" rx=\"41.01\" ry=\"35.89\"/>\n",
       "<text text-anchor=\"middle\" x=\"281\" y=\"-168.96\" font-family=\"Times,serif\" font-size=\"14.00\">y_obs</text>\n",
       "<text text-anchor=\"middle\" x=\"281\" y=\"-154.71\" font-family=\"Times,serif\" font-size=\"14.00\">~</text>\n",
       "<text text-anchor=\"middle\" x=\"281\" y=\"-140.46\" font-family=\"Times,serif\" font-size=\"14.00\">Normal</text>\n",
       "</g>\n",
       "<!-- y_obs&#45;&gt;y -->\n",
       "<g id=\"edge1\" class=\"edge\">\n",
       "<title>y_obs&#45;&gt;y</title>\n",
       "<path fill=\"none\" stroke=\"black\" d=\"M281,-124.68C281,-116.87 281,-108.58 281,-100.73\"/>\n",
       "<polygon fill=\"black\" stroke=\"black\" points=\"284.5,-100.79 281,-90.79 277.5,-100.79 284.5,-100.79\"/>\n",
       "</g>\n",
       "<!-- noise -->\n",
       "<g id=\"node4\" class=\"node\">\n",
       "<title>noise</title>\n",
       "<polygon fill=\"none\" stroke=\"black\" points=\"452.12,-293.77 361.88,-293.77 361.88,-243.02 452.12,-243.02 452.12,-293.77\"/>\n",
       "<text text-anchor=\"middle\" x=\"407\" y=\"-276.47\" font-family=\"Times,serif\" font-size=\"14.00\">noise</text>\n",
       "<text text-anchor=\"middle\" x=\"407\" y=\"-262.22\" font-family=\"Times,serif\" font-size=\"14.00\">~</text>\n",
       "<text text-anchor=\"middle\" x=\"407\" y=\"-247.97\" font-family=\"Times,serif\" font-size=\"14.00\">Deterministic</text>\n",
       "</g>\n",
       "<!-- noise&#45;&gt;y_obs -->\n",
       "<g id=\"edge6\" class=\"edge\">\n",
       "<title>noise&#45;&gt;y_obs</title>\n",
       "<path fill=\"none\" stroke=\"black\" d=\"M377.46,-242.66C360,-228.04 337.72,-209.38 318.97,-193.68\"/>\n",
       "<polygon fill=\"black\" stroke=\"black\" points=\"321.43,-191.18 311.52,-187.44 316.94,-196.54 321.43,-191.18\"/>\n",
       "</g>\n",
       "<!-- noise_var -->\n",
       "<g id=\"node5\" class=\"node\">\n",
       "<title>noise_var</title>\n",
       "<ellipse fill=\"none\" stroke=\"black\" cx=\"435\" cy=\"-375.91\" rx=\"57.45\" ry=\"35.89\"/>\n",
       "<text text-anchor=\"middle\" x=\"435\" y=\"-383.98\" font-family=\"Times,serif\" font-size=\"14.00\">noise_var</text>\n",
       "<text text-anchor=\"middle\" x=\"435\" y=\"-369.73\" font-family=\"Times,serif\" font-size=\"14.00\">~</text>\n",
       "<text text-anchor=\"middle\" x=\"435\" y=\"-355.48\" font-family=\"Times,serif\" font-size=\"14.00\">HalfCauchy</text>\n",
       "</g>\n",
       "<!-- noise_var&#45;&gt;noise -->\n",
       "<g id=\"edge2\" class=\"edge\">\n",
       "<title>noise_var&#45;&gt;noise</title>\n",
       "<path fill=\"none\" stroke=\"black\" d=\"M425.75,-340.07C422.77,-328.81 419.45,-316.32 416.45,-305.01\"/>\n",
       "<polygon fill=\"black\" stroke=\"black\" points=\"419.91,-304.42 413.97,-295.65 413.15,-306.21 419.91,-304.42\"/>\n",
       "</g>\n",
       "<!-- intercept -->\n",
       "<g id=\"node6\" class=\"node\">\n",
       "<title>intercept</title>\n",
       "<ellipse fill=\"none\" stroke=\"black\" cx=\"215\" cy=\"-375.91\" rx=\"44.72\" ry=\"35.89\"/>\n",
       "<text text-anchor=\"middle\" x=\"215\" y=\"-383.98\" font-family=\"Times,serif\" font-size=\"14.00\">intercept</text>\n",
       "<text text-anchor=\"middle\" x=\"215\" y=\"-369.73\" font-family=\"Times,serif\" font-size=\"14.00\">~</text>\n",
       "<text text-anchor=\"middle\" x=\"215\" y=\"-355.48\" font-family=\"Times,serif\" font-size=\"14.00\">Normal</text>\n",
       "</g>\n",
       "<!-- intercept&#45;&gt;mu -->\n",
       "<g id=\"edge3\" class=\"edge\">\n",
       "<title>intercept&#45;&gt;mu</title>\n",
       "<path fill=\"none\" stroke=\"black\" d=\"M224.17,-340.36C227.18,-329 230.54,-316.36 233.57,-304.93\"/>\n",
       "<polygon fill=\"black\" stroke=\"black\" points=\"236.9,-306.02 236.08,-295.46 230.14,-304.22 236.9,-306.02\"/>\n",
       "</g>\n",
       "<!-- slopes -->\n",
       "<g id=\"node7\" class=\"node\">\n",
       "<title>slopes</title>\n",
       "<ellipse fill=\"none\" stroke=\"black\" cx=\"319\" cy=\"-375.91\" rx=\"41.01\" ry=\"35.89\"/>\n",
       "<text text-anchor=\"middle\" x=\"319\" y=\"-383.98\" font-family=\"Times,serif\" font-size=\"14.00\">slopes</text>\n",
       "<text text-anchor=\"middle\" x=\"319\" y=\"-369.73\" font-family=\"Times,serif\" font-size=\"14.00\">~</text>\n",
       "<text text-anchor=\"middle\" x=\"319\" y=\"-355.48\" font-family=\"Times,serif\" font-size=\"14.00\">Normal</text>\n",
       "</g>\n",
       "<!-- slopes&#45;&gt;mu -->\n",
       "<g id=\"edge5\" class=\"edge\">\n",
       "<title>slopes&#45;&gt;mu</title>\n",
       "<path fill=\"none\" stroke=\"black\" d=\"M297.42,-344.95C288.01,-331.89 276.93,-316.51 267.24,-303.04\"/>\n",
       "<polygon fill=\"black\" stroke=\"black\" points=\"270.35,-301.38 261.67,-295.31 264.67,-305.47 270.35,-301.38\"/>\n",
       "</g>\n",
       "<!-- mu&#45;&gt;y_obs -->\n",
       "<g id=\"edge7\" class=\"edge\">\n",
       "<title>mu&#45;&gt;y_obs</title>\n",
       "<path fill=\"none\" stroke=\"black\" d=\"M251.91,-242.66C255.81,-231.82 260.51,-218.77 264.99,-206.34\"/>\n",
       "<polygon fill=\"black\" stroke=\"black\" points=\"268.23,-207.67 268.33,-197.08 261.64,-205.3 268.23,-207.67\"/>\n",
       "</g>\n",
       "</g>\n",
       "</svg>\n"
      ],
      "text/plain": [
       "<graphviz.graphs.Digraph at 0x1590c2840>"
      ]
     },
     "execution_count": 21,
     "metadata": {},
     "output_type": "execute_result"
    }
   ],
   "source": [
    "bayes_model.visualize_model()"
   ]
  },
  {
   "cell_type": "markdown",
   "metadata": {
    "id": "D8VaZ4EE9NEV"
   },
   "source": [
    "## Posterior Predictive Check\n"
   ]
  },
  {
   "cell_type": "markdown",
   "metadata": {
    "id": "ytujeec43zoq"
   },
   "source": [
    "A posterior predictive check (PPC), in general, is a method used to assess the fit of a Bayesian model by comparing observed data to data simulated from the model. It helps to identify discrepancies between the model predictions and the observed data, thereby providing a way to evaluate the adequacy of the model.\n",
    "\n",
    "In our specific case, we'll use PPC to compare our target variable `y_train` versus the in-sample predictions (thin of it as `y_train_pred` generated by our model)."
   ]
  },
  {
   "cell_type": "markdown",
   "metadata": {
    "id": "UJcKVLBVLZoG"
   },
   "source": [
    "The `BayesianLinearRegressor` class provides a convenient method, `plot_ppc` to visually perform PPC.\n",
    "\n",
    "The resulting plot will show the following components:\n",
    "\n",
    "1. **Blue Lines**: represent the posterior predictive samples, which are the range of possible values that the model predicts for the observed data, given the posterior distribution of the parameters.\n",
    "\n",
    "2. **Black Line**: represents the density of the observed data values (i.e. our `y_train`)\n",
    "\n",
    "3. **Orange Dashed Line**: represents the mean of the posterior predictive distribution, whichprovides a central tendency of the model's predictions.\n",
    "\n",
    "The plot is used to visually assess the goodness of fit of the Bayesian model. By comparing the observed data distribution (black line) to the mean of posterior predictive samples (orange dashed line), we can see if there are significant discrepancies. \n",
    "\n",
    "We can see below that the observed data closely follows the central tendency and falls within the range of the posterior predictive samples, suggesting a decent fit. "
   ]
  },
  {
   "cell_type": "code",
   "execution_count": 22,
   "metadata": {
    "colab": {
     "base_uri": "https://localhost:8080/",
     "height": 530
    },
    "id": "gF7Fsraqr9FG",
    "outputId": "618e9e70-4fdd-4983-cb4d-274a06f46358"
   },
   "outputs": [
    {
     "name": "stderr",
     "output_type": "stream",
     "text": [
      "Sampling: [y_obs]\n"
     ]
    },
    {
     "data": {
      "application/vnd.jupyter.widget-view+json": {
       "model_id": "134f9a0812574e67a78135bb794fc5cd",
       "version_major": 2,
       "version_minor": 0
      },
      "text/plain": [
       "Output()"
      ]
     },
     "metadata": {},
     "output_type": "display_data"
    },
    {
     "data": {
      "text/html": [
       "<pre style=\"white-space:pre;overflow-x:auto;line-height:normal;font-family:Menlo,'DejaVu Sans Mono',consolas,'Courier New',monospace\"></pre>\n"
      ],
      "text/plain": []
     },
     "metadata": {},
     "output_type": "display_data"
    },
    {
     "data": {
      "text/html": [
       "<pre style=\"white-space:pre;overflow-x:auto;line-height:normal;font-family:Menlo,'DejaVu Sans Mono',consolas,'Courier New',monospace\">\n",
       "</pre>\n"
      ],
      "text/plain": [
       "\n"
      ]
     },
     "metadata": {},
     "output_type": "display_data"
    },
    {
     "data": {
      "text/plain": [
       "<Axes: xlabel='y_obs'>"
      ]
     },
     "execution_count": 22,
     "metadata": {},
     "output_type": "execute_result"
    },
    {
     "data": {
      "image/png": "[encoded data removed]",
      "text/plain": [
       "<Figure size 640x480 with 1 Axes>"
      ]
     },
     "metadata": {},
     "output_type": "display_data"
    }
   ],
   "source": [
    "bayes_model.plot_ppc()"
   ]
  },
  {
   "cell_type": "markdown",
   "metadata": {
    "id": "sq0u7FdvEd1V"
   },
   "source": [
    "# Making Predictions"
   ]
  },
  {
   "cell_type": "markdown",
   "metadata": {
    "id": "OQ0mq2TcOh1i"
   },
   "source": [
    "Now, it's time to use the trained `bayes_model` to perform out-of-sample prediction. As mentioned earlier, a significant benefit of using the Bayesian model is that it generates a full distribution for each test data point, rather than a single point estimate. This provides a more comprehensive understanding of the uncertainty and variability in the predictions.\n",
    "\n",
    "In our class, this is accomplished using the `predict_proba` method, which returns an `skpro` `Empirical` distribution.\n"
   ]
  },
  {
   "cell_type": "markdown",
   "metadata": {
    "id": "LhZvCf9QNdQX"
   },
   "source": [
    "## `predict_proba`"
   ]
  },
  {
   "cell_type": "code",
   "execution_count": 23,
   "metadata": {
    "colab": {
     "base_uri": "https://localhost:8080/",
     "height": 33,
     "referenced_widgets": [
      "2b6f7349e109440997ec97f6115eb5e8",
      "046257170ed44b08903c7ab551b34710"
     ]
    },
    "id": "wm0pwT-A8rQJ",
    "outputId": "3c0869ac-a8c2-476f-c04c-8e054c977314"
   },
   "outputs": [
    {
     "name": "stderr",
     "output_type": "stream",
     "text": [
      "Sampling: [y_obs]\n"
     ]
    },
    {
     "data": {
      "application/vnd.jupyter.widget-view+json": {
       "model_id": "b95316da1d004579849172fb41744bee",
       "version_major": 2,
       "version_minor": 0
      },
      "text/plain": [
       "Output()"
      ]
     },
     "metadata": {},
     "output_type": "display_data"
    },
    {
     "data": {
      "text/html": [
       "<pre style=\"white-space:pre;overflow-x:auto;line-height:normal;font-family:Menlo,'DejaVu Sans Mono',consolas,'Courier New',monospace\"></pre>\n"
      ],
      "text/plain": []
     },
     "metadata": {},
     "output_type": "display_data"
    },
    {
     "data": {
      "text/html": [
       "<pre style=\"white-space:pre;overflow-x:auto;line-height:normal;font-family:Menlo,'DejaVu Sans Mono',consolas,'Courier New',monospace\">\n",
       "</pre>\n"
      ],
      "text/plain": [
       "\n"
      ]
     },
     "metadata": {},
     "output_type": "display_data"
    }
   ],
   "source": [
    "y_pred_proba_bayes = bayes_model.predict_proba(X_test)"
   ]
  },
  {
   "cell_type": "markdown",
   "metadata": {
    "id": "YfBP3uCNPGHa"
   },
   "source": [
    "The returned distribution is known as the **posterior predictive distribution**. This distribution provides probabilistic forecasts for future observations by incorporating uncertainty about the model parameters and data variability.\n",
    "\n",
    "The posterior predictive distribution enables us to make probabilistic statements about future observations and understand the variability in our predictions.\n"
   ]
  },
  {
   "cell_type": "markdown",
   "metadata": {
    "id": "7EAsEgp1OC1-"
   },
   "source": [
    "\n",
    "The posterior predictive distribution is given by:\n",
    "\n",
    "$$\n",
    "p(y_{\\text{pred}} \\mid X_{\\text{new}}, X_{\\text{train}}, y_{\\text{train}}) = \\int p(y_{\\text{pred}} \\mid X_{\\text{new}}, \\theta) p(\\theta \\mid X_{\\text{train}}, y_{\\text{train}}) \\, d\\theta\n",
    "$$\n",
    "\n",
    "where:\n",
    "- $y_{\\text{pred}}$ is the new predicted data point.\n",
    "- $X_{\\text{new}}$ is the new input.\n",
    "- $\\mathbf{X}_{\\text{train}}$ is the set of observed inputs.\n",
    "- $\\mathbf{y}_{\\text{train}}$ is the set of observed outputs.\n",
    "- $\\mathbf{\\theta}$ represents the model parameters.\n",
    "- $p(y_{\\text{pred}} | X_{\\text{new}}, \\mathbf{\\theta})$ is the likelihood of the new data point given the model parameters.\n",
    "- $p(\\mathbf{\\theta} | \\mathbf{X}_{\\text{train}}, \\mathbf{y}_{\\text{train}})$ is the posterior distribution of the model parameters given the observed data.\n",
    "\n",
    "The above equation states that to obtain the distribution of the predictions $y_{\\text{pred}}$, we need to perform two iterative sampling:\n",
    "\n",
    "1. First, we sample from the posterior distribution $p(\\theta \\mid X_{\\text{train}}, y_{\\text{train}})$\n",
    "\n",
    "2. Afterwards, for each sampled $\\theta$ from the posterior, we sample $y_{\\text{pred}}$ from the predictive distribution $p(y_{\\text{pred}} \\mid X_{\\text{new}}, \\theta)$.\n",
    "\n",
    "In practice, PyMC conveniently handles this sequential sampling process for us."
   ]
  },
  {
   "cell_type": "markdown",
   "metadata": {
    "id": "Lq1MgQKGF4_B"
   },
   "source": [
    "## `predict`"
   ]
  },
  {
   "cell_type": "markdown",
   "metadata": {
    "id": "VEVzKOuDQc3h"
   },
   "source": [
    "If point predictions are what we're after, we've got the `predict` method to do so. Internally, this `predict` method calls the `predict_proba` method above and averages the resulting posterior predictive distribution to provide a single point estimate for each test data point."
   ]
  },
  {
   "cell_type": "code",
   "execution_count": 24,
   "metadata": {
    "colab": {
     "base_uri": "https://localhost:8080/",
     "height": 222,
     "referenced_widgets": [
      "3c5c53cbd13b4cc7bba3539d0b015549",
      "8f2d3226d202475a83b7d0a5399bd4ac"
     ]
    },
    "id": "Ubr9p6ilk0Vx",
    "outputId": "cb55cae2-fb0e-40cf-afea-dff158187445"
   },
   "outputs": [
    {
     "name": "stderr",
     "output_type": "stream",
     "text": [
      "Sampling: [y_obs]\n"
     ]
    },
    {
     "data": {
      "application/vnd.jupyter.widget-view+json": {
       "model_id": "7031f462d10f4a43b251f770965f5e1a",
       "version_major": 2,
       "version_minor": 0
      },
      "text/plain": [
       "Output()"
      ]
     },
     "metadata": {},
     "output_type": "display_data"
    },
    {
     "data": {
      "text/html": [
       "<pre style=\"white-space:pre;overflow-x:auto;line-height:normal;font-family:Menlo,'DejaVu Sans Mono',consolas,'Courier New',monospace\"></pre>\n"
      ],
      "text/plain": []
     },
     "metadata": {},
     "output_type": "display_data"
    },
    {
     "data": {
      "text/html": [
       "<pre style=\"white-space:pre;overflow-x:auto;line-height:normal;font-family:Menlo,'DejaVu Sans Mono',consolas,'Courier New',monospace\">\n",
       "</pre>\n"
      ],
      "text/plain": [
       "\n"
      ]
     },
     "metadata": {},
     "output_type": "display_data"
    },
    {
     "data": {
      "text/html": [
       "<div>\n",
       "<style scoped>\n",
       "    .dataframe tbody tr th:only-of-type {\n",
       "        vertical-align: middle;\n",
       "    }\n",
       "\n",
       "    .dataframe tbody tr th {\n",
       "        vertical-align: top;\n",
       "    }\n",
       "\n",
       "    .dataframe thead th {\n",
       "        text-align: right;\n",
       "    }\n",
       "</style>\n",
       "<table border=\"1\" class=\"dataframe\">\n",
       "  <thead>\n",
       "    <tr style=\"text-align: right;\">\n",
       "      <th></th>\n",
       "      <th>target</th>\n",
       "    </tr>\n",
       "    <tr>\n",
       "      <th>obs_id</th>\n",
       "      <th></th>\n",
       "    </tr>\n",
       "  </thead>\n",
       "  <tbody>\n",
       "    <tr>\n",
       "      <th>0</th>\n",
       "      <td>2.101099</td>\n",
       "    </tr>\n",
       "    <tr>\n",
       "      <th>1</th>\n",
       "      <td>3.093060</td>\n",
       "    </tr>\n",
       "    <tr>\n",
       "      <th>2</th>\n",
       "      <td>5.020346</td>\n",
       "    </tr>\n",
       "    <tr>\n",
       "      <th>3</th>\n",
       "      <td>3.163164</td>\n",
       "    </tr>\n",
       "    <tr>\n",
       "      <th>4</th>\n",
       "      <td>1.912823</td>\n",
       "    </tr>\n",
       "  </tbody>\n",
       "</table>\n",
       "</div>"
      ],
      "text/plain": [
       "          target\n",
       "obs_id          \n",
       "0       2.101099\n",
       "1       3.093060\n",
       "2       5.020346\n",
       "3       3.163164\n",
       "4       1.912823"
      ]
     },
     "execution_count": 24,
     "metadata": {},
     "output_type": "execute_result"
    }
   ],
   "source": [
    "y_pred_bayes = bayes_model.predict(X_test)\n",
    "y_pred_bayes.head()"
   ]
  },
  {
   "cell_type": "markdown",
   "metadata": {
    "id": "LsMh_hqrQ2hf"
   },
   "source": [
    "## `predict_quantiles`"
   ]
  },
  {
   "cell_type": "markdown",
   "metadata": {
    "id": "JfT19ChHTMxB"
   },
   "source": [
    "The advantage of obtaining a full predictive distribution for our test set is that we can quantify our uncertainty by calculating quantiles. This can be conveniently achieved using the `predict_quantiles` method. Here, we use `predict_quantiles` to get the 25-th and 75-th percentiles of the posterior predictive distributions.\n",
    "\n",
    "We'll then use these quantiles to plot our predictions together with their uncertainty.\n"
   ]
  },
  {
   "cell_type": "code",
   "execution_count": 25,
   "metadata": {
    "colab": {
     "base_uri": "https://localhost:8080/",
     "height": 253,
     "referenced_widgets": [
      "cb9ebd7e5af34a66bb4be9d0cf6676e8",
      "76228f3f57924d8099807a14a3be0f83"
     ]
    },
    "id": "ZKNeOme2I8Ms",
    "outputId": "9f34d337-c288-496e-a7eb-95cc15c834dc"
   },
   "outputs": [
    {
     "name": "stderr",
     "output_type": "stream",
     "text": [
      "Sampling: [y_obs]\n"
     ]
    },
    {
     "data": {
      "application/vnd.jupyter.widget-view+json": {
       "model_id": "4f2bb63edb19493594431626d8f6a47e",
       "version_major": 2,
       "version_minor": 0
      },
      "text/plain": [
       "Output()"
      ]
     },
     "metadata": {},
     "output_type": "display_data"
    },
    {
     "data": {
      "text/html": [
       "<pre style=\"white-space:pre;overflow-x:auto;line-height:normal;font-family:Menlo,'DejaVu Sans Mono',consolas,'Courier New',monospace\"></pre>\n"
      ],
      "text/plain": []
     },
     "metadata": {},
     "output_type": "display_data"
    },
    {
     "data": {
      "text/html": [
       "<pre style=\"white-space:pre;overflow-x:auto;line-height:normal;font-family:Menlo,'DejaVu Sans Mono',consolas,'Courier New',monospace\">\n",
       "</pre>\n"
      ],
      "text/plain": [
       "\n"
      ]
     },
     "metadata": {},
     "output_type": "display_data"
    },
    {
     "data": {
      "text/html": [
       "<div>\n",
       "<style scoped>\n",
       "    .dataframe tbody tr th:only-of-type {\n",
       "        vertical-align: middle;\n",
       "    }\n",
       "\n",
       "    .dataframe tbody tr th {\n",
       "        vertical-align: top;\n",
       "    }\n",
       "\n",
       "    .dataframe thead tr th {\n",
       "        text-align: left;\n",
       "    }\n",
       "\n",
       "    .dataframe thead tr:last-of-type th {\n",
       "        text-align: right;\n",
       "    }\n",
       "</style>\n",
       "<table border=\"1\" class=\"dataframe\">\n",
       "  <thead>\n",
       "    <tr>\n",
       "      <th></th>\n",
       "      <th colspan=\"2\" halign=\"left\">target</th>\n",
       "    </tr>\n",
       "    <tr>\n",
       "      <th></th>\n",
       "      <th>0.25</th>\n",
       "      <th>0.75</th>\n",
       "    </tr>\n",
       "    <tr>\n",
       "      <th>obs_id</th>\n",
       "      <th></th>\n",
       "      <th></th>\n",
       "    </tr>\n",
       "  </thead>\n",
       "  <tbody>\n",
       "    <tr>\n",
       "      <th>0</th>\n",
       "      <td>1.766723</td>\n",
       "      <td>2.481704</td>\n",
       "    </tr>\n",
       "    <tr>\n",
       "      <th>1</th>\n",
       "      <td>2.733355</td>\n",
       "      <td>3.446379</td>\n",
       "    </tr>\n",
       "    <tr>\n",
       "      <th>2</th>\n",
       "      <td>4.655361</td>\n",
       "      <td>5.391913</td>\n",
       "    </tr>\n",
       "    <tr>\n",
       "      <th>3</th>\n",
       "      <td>2.832077</td>\n",
       "      <td>3.498781</td>\n",
       "    </tr>\n",
       "    <tr>\n",
       "      <th>4</th>\n",
       "      <td>1.535545</td>\n",
       "      <td>2.243124</td>\n",
       "    </tr>\n",
       "  </tbody>\n",
       "</table>\n",
       "</div>"
      ],
      "text/plain": [
       "          target          \n",
       "            0.25      0.75\n",
       "obs_id                    \n",
       "0       1.766723  2.481704\n",
       "1       2.733355  3.446379\n",
       "2       4.655361  5.391913\n",
       "3       2.832077  3.498781\n",
       "4       1.535545  2.243124"
      ]
     },
     "execution_count": 25,
     "metadata": {},
     "output_type": "execute_result"
    }
   ],
   "source": [
    "y_pred_bayes_quantiles = bayes_model.predict_quantiles(X_test, [0.25, 0.75])\n",
    "y_pred_bayes_quantiles.head()"
   ]
  },
  {
   "cell_type": "markdown",
   "metadata": {
    "id": "kLWYUUfsShKw"
   },
   "source": [
    "## `predict_interval`"
   ]
  },
  {
   "cell_type": "markdown",
   "metadata": {
    "id": "L3JDkpCcS9i0"
   },
   "source": [
    "Lastly, the model comes with the `predict_interval` method. This method returns the **credible interval**, which is a range within which a certain proportion of the posterior distribution lies. For example, a 95% credible interval for a parameter $\\theta$ means that there is a 95% probability that $\\theta$ lies within this interval, given the observed data and the prior distribution."
   ]
  },
  {
   "cell_type": "code",
   "execution_count": 26,
   "metadata": {
    "colab": {
     "base_uri": "https://localhost:8080/",
     "height": 285,
     "referenced_widgets": [
      "1bad078ae919428db9df21002e47f44d",
      "21a450b922714993904c09aa3416a5c9"
     ]
    },
    "id": "jnkLPPPySgPP",
    "outputId": "a7c8e888-2688-467a-da2e-bb41f48da1d7"
   },
   "outputs": [
    {
     "name": "stderr",
     "output_type": "stream",
     "text": [
      "Sampling: [y_obs]\n"
     ]
    },
    {
     "data": {
      "application/vnd.jupyter.widget-view+json": {
       "model_id": "1309955919a9488b928a8b1bd415a3ca",
       "version_major": 2,
       "version_minor": 0
      },
      "text/plain": [
       "Output()"
      ]
     },
     "metadata": {},
     "output_type": "display_data"
    },
    {
     "data": {
      "text/html": [
       "<pre style=\"white-space:pre;overflow-x:auto;line-height:normal;font-family:Menlo,'DejaVu Sans Mono',consolas,'Courier New',monospace\"></pre>\n"
      ],
      "text/plain": []
     },
     "metadata": {},
     "output_type": "display_data"
    },
    {
     "data": {
      "text/html": [
       "<pre style=\"white-space:pre;overflow-x:auto;line-height:normal;font-family:Menlo,'DejaVu Sans Mono',consolas,'Courier New',monospace\">\n",
       "</pre>\n"
      ],
      "text/plain": [
       "\n"
      ]
     },
     "metadata": {},
     "output_type": "display_data"
    },
    {
     "data": {
      "text/html": [
       "<div>\n",
       "<style scoped>\n",
       "    .dataframe tbody tr th:only-of-type {\n",
       "        vertical-align: middle;\n",
       "    }\n",
       "\n",
       "    .dataframe tbody tr th {\n",
       "        vertical-align: top;\n",
       "    }\n",
       "\n",
       "    .dataframe thead tr th {\n",
       "        text-align: left;\n",
       "    }\n",
       "\n",
       "    .dataframe thead tr:last-of-type th {\n",
       "        text-align: right;\n",
       "    }\n",
       "</style>\n",
       "<table border=\"1\" class=\"dataframe\">\n",
       "  <thead>\n",
       "    <tr>\n",
       "      <th></th>\n",
       "      <th colspan=\"2\" halign=\"left\">target</th>\n",
       "    </tr>\n",
       "    <tr>\n",
       "      <th></th>\n",
       "      <th colspan=\"2\" halign=\"left\">0.95</th>\n",
       "    </tr>\n",
       "    <tr>\n",
       "      <th></th>\n",
       "      <th>lower</th>\n",
       "      <th>upper</th>\n",
       "    </tr>\n",
       "    <tr>\n",
       "      <th>obs_id</th>\n",
       "      <th></th>\n",
       "      <th></th>\n",
       "    </tr>\n",
       "  </thead>\n",
       "  <tbody>\n",
       "    <tr>\n",
       "      <th>0</th>\n",
       "      <td>1.108496</td>\n",
       "      <td>3.157638</td>\n",
       "    </tr>\n",
       "    <tr>\n",
       "      <th>1</th>\n",
       "      <td>1.976085</td>\n",
       "      <td>4.238431</td>\n",
       "    </tr>\n",
       "    <tr>\n",
       "      <th>2</th>\n",
       "      <td>3.898509</td>\n",
       "      <td>6.145011</td>\n",
       "    </tr>\n",
       "    <tr>\n",
       "      <th>3</th>\n",
       "      <td>2.115079</td>\n",
       "      <td>4.253379</td>\n",
       "    </tr>\n",
       "    <tr>\n",
       "      <th>4</th>\n",
       "      <td>0.839204</td>\n",
       "      <td>2.992659</td>\n",
       "    </tr>\n",
       "  </tbody>\n",
       "</table>\n",
       "</div>"
      ],
      "text/plain": [
       "          target          \n",
       "            0.95          \n",
       "           lower     upper\n",
       "obs_id                    \n",
       "0       1.108496  3.157638\n",
       "1       1.976085  4.238431\n",
       "2       3.898509  6.145011\n",
       "3       2.115079  4.253379\n",
       "4       0.839204  2.992659"
      ]
     },
     "execution_count": 26,
     "metadata": {},
     "output_type": "execute_result"
    }
   ],
   "source": [
    "y_pred_bayes_interval = bayes_model.predict_interval(X_test, 0.95)\n",
    "y_pred_bayes_interval.head()"
   ]
  },
  {
   "cell_type": "code",
   "execution_count": 27,
   "metadata": {},
   "outputs": [
    {
     "name": "stderr",
     "output_type": "stream",
     "text": [
      "Sampling: [y_obs]\n"
     ]
    },
    {
     "data": {
      "application/vnd.jupyter.widget-view+json": {
       "model_id": "6c41aa1e127640f99af7e0e236055547",
       "version_major": 2,
       "version_minor": 0
      },
      "text/plain": [
       "Output()"
      ]
     },
     "metadata": {},
     "output_type": "display_data"
    },
    {
     "data": {
      "text/html": [
       "<pre style=\"white-space:pre;overflow-x:auto;line-height:normal;font-family:Menlo,'DejaVu Sans Mono',consolas,'Courier New',monospace\"></pre>\n"
      ],
      "text/plain": []
     },
     "metadata": {},
     "output_type": "display_data"
    },
    {
     "data": {
      "text/html": [
       "<pre style=\"white-space:pre;overflow-x:auto;line-height:normal;font-family:Menlo,'DejaVu Sans Mono',consolas,'Courier New',monospace\">\n",
       "</pre>\n"
      ],
      "text/plain": [
       "\n"
      ]
     },
     "metadata": {},
     "output_type": "display_data"
    },
    {
     "name": "stderr",
     "output_type": "stream",
     "text": [
      "Sampling: [y_obs]\n"
     ]
    },
    {
     "data": {
      "application/vnd.jupyter.widget-view+json": {
       "model_id": "ccc669e37396494aac3f0d2d4a769fc8",
       "version_major": 2,
       "version_minor": 0
      },
      "text/plain": [
       "Output()"
      ]
     },
     "metadata": {},
     "output_type": "display_data"
    },
    {
     "data": {
      "text/html": [
       "<pre style=\"white-space:pre;overflow-x:auto;line-height:normal;font-family:Menlo,'DejaVu Sans Mono',consolas,'Courier New',monospace\"></pre>\n"
      ],
      "text/plain": []
     },
     "metadata": {},
     "output_type": "display_data"
    },
    {
     "data": {
      "text/html": [
       "<pre style=\"white-space:pre;overflow-x:auto;line-height:normal;font-family:Menlo,'DejaVu Sans Mono',consolas,'Courier New',monospace\">\n",
       "</pre>\n"
      ],
      "text/plain": [
       "\n"
      ]
     },
     "metadata": {},
     "output_type": "display_data"
    },
    {
     "data": {
      "image/png": "[encoded data removed]",
      "text/plain": [
       "<Figure size 1000x600 with 1 Axes>"
      ]
     },
     "metadata": {},
     "output_type": "display_data"
    }
   ],
   "source": [
    "# Fix feature2 at its mean\n",
    "feature2_constant = X_test[\"feature2\"].mean()\n",
    "\n",
    "# Create a new test dataset with feature2 fixed at the constant value\n",
    "X_test_fixed_feature2 = X_test.copy()\n",
    "X_test_fixed_feature2[\"feature2\"] = feature2_constant\n",
    "\n",
    "\n",
    "# Get predictions and credible intervals from the Bayesian model\n",
    "# Assuming predict_interval gives both the mean predictions and the intervals at 95% CI\n",
    "y_pred_bayes_interval_fixed_feature2 = bayes_model.predict_interval(\n",
    "    X_test_fixed_feature2, 0.95\n",
    ")\n",
    "y_pred_bayes_fixed_feature2 = bayes_model.predict(X_test_fixed_feature2)\n",
    "\n",
    "\n",
    "# Extract mean, lower, and upper credible intervals\n",
    "credible_lower_fixed_feature2 = y_pred_bayes_interval_fixed_feature2[\"target\"][0.95][\n",
    "    \"lower\"\n",
    "]\n",
    "credible_upper_fixed_feature2 = y_pred_bayes_interval_fixed_feature2[\"target\"][0.95][\n",
    "    \"upper\"\n",
    "]\n",
    "\n",
    "# Sort X_test by 'feature1'\n",
    "sorted_indices = np.argsort(X_test_fixed_feature2[\"feature1\"])\n",
    "X_test_sorted = X_test_fixed_feature2[\"feature1\"].iloc[sorted_indices]\n",
    "y_pred_bayes_sorted = y_pred_bayes_fixed_feature2.iloc[sorted_indices]\n",
    "credible_lower_sorted = credible_lower_fixed_feature2.iloc[sorted_indices]\n",
    "credible_upper_sorted = credible_upper_fixed_feature2.iloc[sorted_indices]\n",
    "\n",
    "# Plot the predictions with the credible intervals\n",
    "plt.figure(figsize=(10, 6))\n",
    "plt.scatter(X_test_sorted, y_pred_bayes_sorted, color=\"blue\", label=\"Predicted values\")\n",
    "plt.fill_between(\n",
    "    X_test_sorted,\n",
    "    credible_lower_sorted,\n",
    "    credible_upper_sorted,\n",
    "    color=\"lightblue\",\n",
    "    alpha=0.4,\n",
    "    label=\"95% Credible Interval\",\n",
    ")\n",
    "plt.xlabel(\"Feature 1\")\n",
    "plt.ylabel(\"Predicted Target\")\n",
    "plt.title(\n",
    "    f\"Bayesian Predictions for X_test (Feature 2 fixed at {feature2_constant:.2f})\"\n",
    ")\n",
    "plt.legend()\n",
    "plt.show()"
   ]
  },
  {
   "cell_type": "markdown",
   "metadata": {
    "id": "AcPkFWWaWv5B"
   },
   "source": [
    "# Effect of Sample Size"
   ]
  },
  {
   "cell_type": "markdown",
   "metadata": {
    "id": "AKU_wnMHVb08"
   },
   "source": [
    "Lastly, let's take a look at how the size of training sample affects the width of the posteriors and posterior predictive distributions."
   ]
  },
  {
   "cell_type": "markdown",
   "metadata": {},
   "source": [
    "## Posterior"
   ]
  },
  {
   "cell_type": "markdown",
   "metadata": {},
   "source": [
    "Let's remind ourselves as to how our posterior distribution look like after we've trained our model with 20 training data points."
   ]
  },
  {
   "cell_type": "code",
   "execution_count": 28,
   "metadata": {
    "colab": {
     "base_uri": "https://localhost:8080/",
     "height": 143
    },
    "id": "mnCENyCf8zbi",
    "outputId": "40183b13-4505-4042-96a4-f13e9715629f"
   },
   "outputs": [
    {
     "data": {
      "text/html": [
       "<div>\n",
       "<style scoped>\n",
       "    .dataframe tbody tr th:only-of-type {\n",
       "        vertical-align: middle;\n",
       "    }\n",
       "\n",
       "    .dataframe tbody tr th {\n",
       "        vertical-align: top;\n",
       "    }\n",
       "\n",
       "    .dataframe thead th {\n",
       "        text-align: right;\n",
       "    }\n",
       "</style>\n",
       "<table border=\"1\" class=\"dataframe\">\n",
       "  <thead>\n",
       "    <tr style=\"text-align: right;\">\n",
       "      <th></th>\n",
       "      <th>mean</th>\n",
       "      <th>sd</th>\n",
       "      <th>hdi_3%</th>\n",
       "      <th>hdi_97%</th>\n",
       "      <th>mcse_mean</th>\n",
       "      <th>mcse_sd</th>\n",
       "      <th>ess_bulk</th>\n",
       "      <th>ess_tail</th>\n",
       "      <th>r_hat</th>\n",
       "    </tr>\n",
       "  </thead>\n",
       "  <tbody>\n",
       "    <tr>\n",
       "      <th>intercept</th>\n",
       "      <td>0.847</td>\n",
       "      <td>0.203</td>\n",
       "      <td>0.475</td>\n",
       "      <td>1.230</td>\n",
       "      <td>0.006</td>\n",
       "      <td>0.005</td>\n",
       "      <td>1005.0</td>\n",
       "      <td>1053.0</td>\n",
       "      <td>1.0</td>\n",
       "    </tr>\n",
       "    <tr>\n",
       "      <th>slopes[feature1]</th>\n",
       "      <td>1.908</td>\n",
       "      <td>0.311</td>\n",
       "      <td>1.341</td>\n",
       "      <td>2.492</td>\n",
       "      <td>0.009</td>\n",
       "      <td>0.006</td>\n",
       "      <td>1265.0</td>\n",
       "      <td>1445.0</td>\n",
       "      <td>1.0</td>\n",
       "    </tr>\n",
       "    <tr>\n",
       "      <th>slopes[feature2]</th>\n",
       "      <td>3.121</td>\n",
       "      <td>0.340</td>\n",
       "      <td>2.414</td>\n",
       "      <td>3.709</td>\n",
       "      <td>0.010</td>\n",
       "      <td>0.007</td>\n",
       "      <td>1099.0</td>\n",
       "      <td>831.0</td>\n",
       "      <td>1.0</td>\n",
       "    </tr>\n",
       "    <tr>\n",
       "      <th>noise_var</th>\n",
       "      <td>0.266</td>\n",
       "      <td>0.105</td>\n",
       "      <td>0.103</td>\n",
       "      <td>0.446</td>\n",
       "      <td>0.003</td>\n",
       "      <td>0.003</td>\n",
       "      <td>997.0</td>\n",
       "      <td>1015.0</td>\n",
       "      <td>1.0</td>\n",
       "    </tr>\n",
       "    <tr>\n",
       "      <th>noise</th>\n",
       "      <td>0.507</td>\n",
       "      <td>0.095</td>\n",
       "      <td>0.343</td>\n",
       "      <td>0.682</td>\n",
       "      <td>0.003</td>\n",
       "      <td>0.002</td>\n",
       "      <td>997.0</td>\n",
       "      <td>1015.0</td>\n",
       "      <td>1.0</td>\n",
       "    </tr>\n",
       "  </tbody>\n",
       "</table>\n",
       "</div>"
      ],
      "text/plain": [
       "                   mean     sd  hdi_3%  hdi_97%  mcse_mean  mcse_sd  ess_bulk  \\\n",
       "intercept         0.847  0.203   0.475    1.230      0.006    0.005    1005.0   \n",
       "slopes[feature1]  1.908  0.311   1.341    2.492      0.009    0.006    1265.0   \n",
       "slopes[feature2]  3.121  0.340   2.414    3.709      0.010    0.007    1099.0   \n",
       "noise_var         0.266  0.105   0.103    0.446      0.003    0.003     997.0   \n",
       "noise             0.507  0.095   0.343    0.682      0.003    0.002     997.0   \n",
       "\n",
       "                  ess_tail  r_hat  \n",
       "intercept           1053.0    1.0  \n",
       "slopes[feature1]    1445.0    1.0  \n",
       "slopes[feature2]     831.0    1.0  \n",
       "noise_var           1015.0    1.0  \n",
       "noise               1015.0    1.0  "
      ]
     },
     "execution_count": 28,
     "metadata": {},
     "output_type": "execute_result"
    }
   ],
   "source": [
    "bayes_model.get_posterior_summary()"
   ]
  },
  {
   "cell_type": "markdown",
   "metadata": {
    "id": "_1l0aeM3Vr5T"
   },
   "source": [
    "How does this posterior change when we train a model with more data points?\n",
    "\n",
    "Now, let's generate a synthetic dataset with 200 datapoints and use it to train another model."
   ]
  },
  {
   "cell_type": "code",
   "execution_count": 29,
   "metadata": {
    "colab": {
     "base_uri": "https://localhost:8080/",
     "height": 123,
     "referenced_widgets": [
      "b77a1bc131de475d97ff0ba200776613",
      "52c38d3a9e42417d9a1f645afe4af9f4",
      "23f5b7fa704041a8bf0026ed755ed07e",
      "1b671855504d4104b5cebff3edfc244d",
      "5969efae24fd4b1baeaf30d6bcbedfe6",
      "8955971da43241e9857ec6047c192fb5"
     ]
    },
    "id": "snDXFrdn84Sn",
    "outputId": "4315a88d-4bde-40eb-ceb0-b08eeb10530d"
   },
   "outputs": [
    {
     "name": "stdout",
     "output_type": "stream",
     "text": [
      "The model assumes that the priors for intercept and slopes are independent. \n",
      "Modify the model if this assumption doesn't apply!\n",
      "BayesianLinearRegressor class has been instantiated with the following prior configuration.\n",
      "If you wish to modify these priors, you can use PreLiz to assist in the elicitation process:\n",
      "  - intercept: Prior(\"Normal\", mu=1.0000659133714382, sigma=0.23763668100677832)\n",
      "  - slopes: Prior(\"Normal\", mu=0, sigma=100, dims=\"pred_id\")\n",
      "  - noise_var: Prior(\"HalfCauchy\", beta=5)\n"
     ]
    },
    {
     "name": "stderr",
     "output_type": "stream",
     "text": [
      "Auto-assigning NUTS sampler...\n",
      "Initializing NUTS using jitter+adapt_diag...\n",
      "Multiprocess sampling (2 chains in 2 jobs)\n",
      "NUTS: [intercept, slopes, noise_var]\n"
     ]
    },
    {
     "data": {
      "application/vnd.jupyter.widget-view+json": {
       "model_id": "89df013d168743d4b5faea0756ee683c",
       "version_major": 2,
       "version_minor": 0
      },
      "text/plain": [
       "Output()"
      ]
     },
     "metadata": {},
     "output_type": "display_data"
    },
    {
     "data": {
      "text/html": [
       "<pre style=\"white-space:pre;overflow-x:auto;line-height:normal;font-family:Menlo,'DejaVu Sans Mono',consolas,'Courier New',monospace\"></pre>\n"
      ],
      "text/plain": []
     },
     "metadata": {},
     "output_type": "display_data"
    },
    {
     "data": {
      "text/html": [
       "<pre style=\"white-space:pre;overflow-x:auto;line-height:normal;font-family:Menlo,'DejaVu Sans Mono',consolas,'Courier New',monospace\">\n",
       "</pre>\n"
      ],
      "text/plain": [
       "\n"
      ]
     },
     "metadata": {},
     "output_type": "display_data"
    },
    {
     "name": "stderr",
     "output_type": "stream",
     "text": [
      "Sampling 2 chains for 1_000 tune and 1_000 draw iterations (2_000 + 2_000 draws total) took 2 seconds.\n",
      "We recommend running at least 4 chains for robust computation of convergence diagnostics\n"
     ]
    },
    {
     "data": {
      "text/html": [
       "<style>#sk-a7ebb1b3-38e2-4bc7-bf8f-62604bf4c17b {color: black;background-color: white;}#sk-a7ebb1b3-38e2-4bc7-bf8f-62604bf4c17b pre{padding: 0;}#sk-a7ebb1b3-38e2-4bc7-bf8f-62604bf4c17b div.sk-toggleable {background-color: white;}#sk-a7ebb1b3-38e2-4bc7-bf8f-62604bf4c17b label.sk-toggleable__label {cursor: pointer;display: block;width: 100%;margin-bottom: 0;padding: 0.3em;box-sizing: border-box;text-align: center;}#sk-a7ebb1b3-38e2-4bc7-bf8f-62604bf4c17b label.sk-toggleable__label-arrow:before {content: \"▸\";float: left;margin-right: 0.25em;color: #696969;}#sk-a7ebb1b3-38e2-4bc7-bf8f-62604bf4c17b label.sk-toggleable__label-arrow:hover:before {color: black;}#sk-a7ebb1b3-38e2-4bc7-bf8f-62604bf4c17b div.sk-estimator:hover label.sk-toggleable__label-arrow:before {color: black;}#sk-a7ebb1b3-38e2-4bc7-bf8f-62604bf4c17b div.sk-toggleable__content {max-height: 0;max-width: 0;overflow: hidden;text-align: left;background-color: #f0f8ff;}#sk-a7ebb1b3-38e2-4bc7-bf8f-62604bf4c17b div.sk-toggleable__content pre {margin: 0.2em;color: black;border-radius: 0.25em;background-color: #f0f8ff;}#sk-a7ebb1b3-38e2-4bc7-bf8f-62604bf4c17b input.sk-toggleable__control:checked~div.sk-toggleable__content {max-height: 200px;max-width: 100%;overflow: auto;}#sk-a7ebb1b3-38e2-4bc7-bf8f-62604bf4c17b input.sk-toggleable__control:checked~label.sk-toggleable__label-arrow:before {content: \"▾\";}#sk-a7ebb1b3-38e2-4bc7-bf8f-62604bf4c17b div.sk-estimator input.sk-toggleable__control:checked~label.sk-toggleable__label {background-color: #d4ebff;}#sk-a7ebb1b3-38e2-4bc7-bf8f-62604bf4c17b div.sk-label input.sk-toggleable__control:checked~label.sk-toggleable__label {background-color: #d4ebff;}#sk-a7ebb1b3-38e2-4bc7-bf8f-62604bf4c17b input.sk-hidden--visually {border: 0;clip: rect(1px 1px 1px 1px);clip: rect(1px, 1px, 1px, 1px);height: 1px;margin: -1px;overflow: hidden;padding: 0;position: absolute;width: 1px;}#sk-a7ebb1b3-38e2-4bc7-bf8f-62604bf4c17b div.sk-estimator {font-family: monospace;background-color: #f0f8ff;border: 1px dotted black;border-radius: 0.25em;box-sizing: border-box;margin-bottom: 0.5em;}#sk-a7ebb1b3-38e2-4bc7-bf8f-62604bf4c17b div.sk-estimator:hover {background-color: #d4ebff;}#sk-a7ebb1b3-38e2-4bc7-bf8f-62604bf4c17b div.sk-parallel-item::after {content: \"\";width: 100%;border-bottom: 1px solid gray;flex-grow: 1;}#sk-a7ebb1b3-38e2-4bc7-bf8f-62604bf4c17b div.sk-label:hover label.sk-toggleable__label {background-color: #d4ebff;}#sk-a7ebb1b3-38e2-4bc7-bf8f-62604bf4c17b div.sk-serial::before {content: \"\";position: absolute;border-left: 1px solid gray;box-sizing: border-box;top: 2em;bottom: 0;left: 50%;}#sk-a7ebb1b3-38e2-4bc7-bf8f-62604bf4c17b div.sk-serial {display: flex;flex-direction: column;align-items: center;background-color: white;padding-right: 0.2em;padding-left: 0.2em;}#sk-a7ebb1b3-38e2-4bc7-bf8f-62604bf4c17b div.sk-item {z-index: 1;}#sk-a7ebb1b3-38e2-4bc7-bf8f-62604bf4c17b div.sk-parallel {display: flex;align-items: stretch;justify-content: center;background-color: white;}#sk-a7ebb1b3-38e2-4bc7-bf8f-62604bf4c17b div.sk-parallel::before {content: \"\";position: absolute;border-left: 1px solid gray;box-sizing: border-box;top: 2em;bottom: 0;left: 50%;}#sk-a7ebb1b3-38e2-4bc7-bf8f-62604bf4c17b div.sk-parallel-item {display: flex;flex-direction: column;position: relative;background-color: white;}#sk-a7ebb1b3-38e2-4bc7-bf8f-62604bf4c17b div.sk-parallel-item:first-child::after {align-self: flex-end;width: 50%;}#sk-a7ebb1b3-38e2-4bc7-bf8f-62604bf4c17b div.sk-parallel-item:last-child::after {align-self: flex-start;width: 50%;}#sk-a7ebb1b3-38e2-4bc7-bf8f-62604bf4c17b div.sk-parallel-item:only-child::after {width: 0;}#sk-a7ebb1b3-38e2-4bc7-bf8f-62604bf4c17b div.sk-dashed-wrapped {border: 1px dashed gray;margin: 0 0.4em 0.5em 0.4em;box-sizing: border-box;padding-bottom: 0.4em;background-color: white;position: relative;}#sk-a7ebb1b3-38e2-4bc7-bf8f-62604bf4c17b div.sk-label label {font-family: monospace;font-weight: bold;background-color: white;display: inline-block;line-height: 1.2em;}#sk-a7ebb1b3-38e2-4bc7-bf8f-62604bf4c17b div.sk-label-container {position: relative;z-index: 2;text-align: center;}#sk-a7ebb1b3-38e2-4bc7-bf8f-62604bf4c17b div.sk-container {/* jupyter's `normalize.less` sets `[hidden] { display: none; }` but bootstrap.min.css set `[hidden] { display: none !important; }` so we also need the `!important` here to be able to override the default hidden behavior on the sphinx rendered scikit-learn.org. See: https://github.com/scikit-learn/scikit-learn/issues/21755 */display: inline-block !important;position: relative;}#sk-a7ebb1b3-38e2-4bc7-bf8f-62604bf4c17b div.sk-text-repr-fallback {display: none;}</style><div id='sk-a7ebb1b3-38e2-4bc7-bf8f-62604bf4c17b' class=\"sk-top-container\"><div class=\"sk-text-repr-fallback\"><pre>BayesianLinearRegressor(prior_config={&#x27;intercept&#x27;: Prior(&quot;Normal&quot;, mu=1.0000659133714382, sigma=0.23763668100677832),\n",
       "                                      &#x27;noise_var&#x27;: Prior(&quot;HalfCauchy&quot;, beta=5),\n",
       "                                      &#x27;slopes&#x27;: Prior(&quot;Normal&quot;, mu=0, sigma=100, dims=&quot;pred_id&quot;)},\n",
       "                        sampler_config={&#x27;chains&#x27;: 2, &#x27;draws&#x27;: 1000,\n",
       "                                        &#x27;progressbar&#x27;: True, &#x27;random_seed&#x27;: 123,\n",
       "                                        &#x27;target_accept&#x27;: 0.95, &#x27;tune&#x27;: 1000})</pre><b>Please rerun this cell to show the HTML repr or trust the notebook.</b></div><div class=\"sk-container\" hidden><div class='sk-item'><div class=\"sk-estimator sk-toggleable\"><input class=\"sk-toggleable__control sk-hidden--visually\" id=UUID('57ec653b-af1d-4cfa-bdc2-64b1ca51d2de') type=\"checkbox\" checked><label for=UUID('57ec653b-af1d-4cfa-bdc2-64b1ca51d2de') class='sk-toggleable__label sk-toggleable__label-arrow'>BayesianLinearRegressor</label><div class=\"sk-toggleable__content\"><pre>BayesianLinearRegressor(prior_config={&#x27;intercept&#x27;: Prior(&quot;Normal&quot;, mu=1.0000659133714382, sigma=0.23763668100677832),\n",
       "                                      &#x27;noise_var&#x27;: Prior(&quot;HalfCauchy&quot;, beta=5),\n",
       "                                      &#x27;slopes&#x27;: Prior(&quot;Normal&quot;, mu=0, sigma=100, dims=&quot;pred_id&quot;)},\n",
       "                        sampler_config={&#x27;chains&#x27;: 2, &#x27;draws&#x27;: 1000,\n",
       "                                        &#x27;progressbar&#x27;: True, &#x27;random_seed&#x27;: 123,\n",
       "                                        &#x27;target_accept&#x27;: 0.95, &#x27;tune&#x27;: 1000})</pre></div></div></div></div></div>"
      ],
      "text/plain": [
       "BayesianLinearRegressor(prior_config={'intercept': Prior(\"Normal\", mu=1.0000659133714382, sigma=0.23763668100677832),\n",
       "                                      'noise_var': Prior(\"HalfCauchy\", beta=5),\n",
       "                                      'slopes': Prior(\"Normal\", mu=0, sigma=100, dims=\"pred_id\")},\n",
       "                        sampler_config={'chains': 2, 'draws': 1000,\n",
       "                                        'progressbar': True, 'random_seed': 123,\n",
       "                                        'target_accept': 0.95, 'tune': 1000})"
      ]
     },
     "execution_count": 29,
     "metadata": {},
     "output_type": "execute_result"
    }
   ],
   "source": [
    "N = 200\n",
    "np.random.seed(42)\n",
    "feature1 = np.random.uniform(0, 1, N)\n",
    "feature2 = np.random.uniform(0, 1, N)\n",
    "X_train = pd.DataFrame({\"feature1\": feature1, \"feature2\": feature2})\n",
    "\n",
    "\n",
    "y_true = TRUE_INTERCEPT + np.dot(X_train, TRUE_SLOPES)\n",
    "y_train = y_true + np.random.normal(0, TRUE_SIGMA, size=len(X_train))\n",
    "\n",
    "train_data = pd.concat(\n",
    "    [X_train, pd.Series(y_true, name=\"y_true\"), pd.Series(y_train, name=\"y_train\")],\n",
    "    axis=1,\n",
    ")\n",
    "train_data = train_data.sort_values(by=\"feature1\")\n",
    "train_data = train_data.reset_index(drop=True)\n",
    "\n",
    "bayes_model_200 = BayesianLinearRegressor(prior_config={\"intercept\": elicited_prior})\n",
    "bayes_model_200.fit(X_train, y_train)"
   ]
  },
  {
   "cell_type": "markdown",
   "metadata": {
    "id": "LuficUuTV0DH"
   },
   "source": [
    "We see that with this 10x increase in training set size, we obtain narrower posteriors, as evidenced by the lower `sd` values in the summary. It is noteworthy that the reduction of the standard deviation, which is around 3x, is less than the 10x reduction one might expect."
   ]
  },
  {
   "cell_type": "code",
   "execution_count": 30,
   "metadata": {
    "colab": {
     "base_uri": "https://localhost:8080/",
     "height": 143
    },
    "id": "l5Rlj1XLTu9E",
    "outputId": "9a5d0be8-1f99-4414-e988-5cb2fa2313a8"
   },
   "outputs": [
    {
     "data": {
      "text/html": [
       "<div>\n",
       "<style scoped>\n",
       "    .dataframe tbody tr th:only-of-type {\n",
       "        vertical-align: middle;\n",
       "    }\n",
       "\n",
       "    .dataframe tbody tr th {\n",
       "        vertical-align: top;\n",
       "    }\n",
       "\n",
       "    .dataframe thead th {\n",
       "        text-align: right;\n",
       "    }\n",
       "</style>\n",
       "<table border=\"1\" class=\"dataframe\">\n",
       "  <thead>\n",
       "    <tr style=\"text-align: right;\">\n",
       "      <th></th>\n",
       "      <th>mean</th>\n",
       "      <th>sd</th>\n",
       "      <th>hdi_3%</th>\n",
       "      <th>hdi_97%</th>\n",
       "      <th>mcse_mean</th>\n",
       "      <th>mcse_sd</th>\n",
       "      <th>ess_bulk</th>\n",
       "      <th>ess_tail</th>\n",
       "      <th>r_hat</th>\n",
       "    </tr>\n",
       "  </thead>\n",
       "  <tbody>\n",
       "    <tr>\n",
       "      <th>intercept</th>\n",
       "      <td>1.036</td>\n",
       "      <td>0.089</td>\n",
       "      <td>0.866</td>\n",
       "      <td>1.199</td>\n",
       "      <td>0.002</td>\n",
       "      <td>0.002</td>\n",
       "      <td>1277.0</td>\n",
       "      <td>1106.0</td>\n",
       "      <td>1.0</td>\n",
       "    </tr>\n",
       "    <tr>\n",
       "      <th>slopes[feature1]</th>\n",
       "      <td>2.006</td>\n",
       "      <td>0.116</td>\n",
       "      <td>1.792</td>\n",
       "      <td>2.215</td>\n",
       "      <td>0.003</td>\n",
       "      <td>0.002</td>\n",
       "      <td>1506.0</td>\n",
       "      <td>1332.0</td>\n",
       "      <td>1.0</td>\n",
       "    </tr>\n",
       "    <tr>\n",
       "      <th>slopes[feature2]</th>\n",
       "      <td>2.917</td>\n",
       "      <td>0.118</td>\n",
       "      <td>2.697</td>\n",
       "      <td>3.127</td>\n",
       "      <td>0.003</td>\n",
       "      <td>0.002</td>\n",
       "      <td>1367.0</td>\n",
       "      <td>1186.0</td>\n",
       "      <td>1.0</td>\n",
       "    </tr>\n",
       "    <tr>\n",
       "      <th>noise_var</th>\n",
       "      <td>0.250</td>\n",
       "      <td>0.024</td>\n",
       "      <td>0.207</td>\n",
       "      <td>0.297</td>\n",
       "      <td>0.001</td>\n",
       "      <td>0.000</td>\n",
       "      <td>1405.0</td>\n",
       "      <td>1318.0</td>\n",
       "      <td>1.0</td>\n",
       "    </tr>\n",
       "    <tr>\n",
       "      <th>noise</th>\n",
       "      <td>0.499</td>\n",
       "      <td>0.024</td>\n",
       "      <td>0.456</td>\n",
       "      <td>0.546</td>\n",
       "      <td>0.001</td>\n",
       "      <td>0.000</td>\n",
       "      <td>1405.0</td>\n",
       "      <td>1318.0</td>\n",
       "      <td>1.0</td>\n",
       "    </tr>\n",
       "  </tbody>\n",
       "</table>\n",
       "</div>"
      ],
      "text/plain": [
       "                   mean     sd  hdi_3%  hdi_97%  mcse_mean  mcse_sd  ess_bulk  \\\n",
       "intercept         1.036  0.089   0.866    1.199      0.002    0.002    1277.0   \n",
       "slopes[feature1]  2.006  0.116   1.792    2.215      0.003    0.002    1506.0   \n",
       "slopes[feature2]  2.917  0.118   2.697    3.127      0.003    0.002    1367.0   \n",
       "noise_var         0.250  0.024   0.207    0.297      0.001    0.000    1405.0   \n",
       "noise             0.499  0.024   0.456    0.546      0.001    0.000    1405.0   \n",
       "\n",
       "                  ess_tail  r_hat  \n",
       "intercept           1106.0    1.0  \n",
       "slopes[feature1]    1332.0    1.0  \n",
       "slopes[feature2]    1186.0    1.0  \n",
       "noise_var           1318.0    1.0  \n",
       "noise               1318.0    1.0  "
      ]
     },
     "execution_count": 30,
     "metadata": {},
     "output_type": "execute_result"
    }
   ],
   "source": [
    "bayes_model_200.get_posterior_summary()"
   ]
  },
  {
   "cell_type": "code",
   "execution_count": 31,
   "metadata": {
    "colab": {
     "base_uri": "https://localhost:8080/",
     "height": 143
    },
    "id": "4FyJcn9FWHQV",
    "outputId": "27a32c99-7a24-4e95-c03f-2e75b5872fb2"
   },
   "outputs": [
    {
     "data": {
      "text/plain": [
       "intercept           2.280899\n",
       "slopes[feature1]    2.681034\n",
       "slopes[feature2]    2.881356\n",
       "noise_var           4.375000\n",
       "noise               3.958333\n",
       "Name: ratio of std dev when 10x training data is used, dtype: float64"
      ]
     },
     "execution_count": 31,
     "metadata": {},
     "output_type": "execute_result"
    }
   ],
   "source": [
    "sd_ratio = (\n",
    "    bayes_model.get_posterior_summary() / bayes_model_200.get_posterior_summary()\n",
    ")[\"sd\"]\n",
    "sd_ratio.name = \"ratio of std dev when 10x training data is used\"\n",
    "sd_ratio"
   ]
  },
  {
   "cell_type": "markdown",
   "metadata": {},
   "source": [
    "## Posterior Predictive"
   ]
  },
  {
   "cell_type": "markdown",
   "metadata": {},
   "source": [
    "Now, let's perform the same experiment, this time comparing the posterior predictive distribution coming from the two models.\n",
    "\n",
    "In order to get the posterior predictive distribution from the second model (`bayes_model_500`), we first need to use it to perform prediction on the test set."
   ]
  },
  {
   "cell_type": "code",
   "execution_count": 32,
   "metadata": {},
   "outputs": [
    {
     "name": "stderr",
     "output_type": "stream",
     "text": [
      "Sampling: [y_obs]\n"
     ]
    },
    {
     "data": {
      "application/vnd.jupyter.widget-view+json": {
       "model_id": "fe5610c92edc4c8cacb236f5d5dcad72",
       "version_major": 2,
       "version_minor": 0
      },
      "text/plain": [
       "Output()"
      ]
     },
     "metadata": {},
     "output_type": "display_data"
    },
    {
     "data": {
      "text/html": [
       "<pre style=\"white-space:pre;overflow-x:auto;line-height:normal;font-family:Menlo,'DejaVu Sans Mono',consolas,'Courier New',monospace\"></pre>\n"
      ],
      "text/plain": []
     },
     "metadata": {},
     "output_type": "display_data"
    },
    {
     "data": {
      "text/html": [
       "<pre style=\"white-space:pre;overflow-x:auto;line-height:normal;font-family:Menlo,'DejaVu Sans Mono',consolas,'Courier New',monospace\">\n",
       "</pre>\n"
      ],
      "text/plain": [
       "\n"
      ]
     },
     "metadata": {},
     "output_type": "display_data"
    }
   ],
   "source": [
    "y_pred_proba_bayes_200 = bayes_model_200.predict_proba(X_test)"
   ]
  },
  {
   "cell_type": "markdown",
   "metadata": {},
   "source": [
    "With that out of the way, let's now compare the posterior predictive distributions for both models."
   ]
  },
  {
   "cell_type": "code",
   "execution_count": 33,
   "metadata": {},
   "outputs": [
    {
     "data": {
      "text/html": [
       "<div>\n",
       "<style scoped>\n",
       "    .dataframe tbody tr th:only-of-type {\n",
       "        vertical-align: middle;\n",
       "    }\n",
       "\n",
       "    .dataframe tbody tr th {\n",
       "        vertical-align: top;\n",
       "    }\n",
       "\n",
       "    .dataframe thead th {\n",
       "        text-align: right;\n",
       "    }\n",
       "</style>\n",
       "<table border=\"1\" class=\"dataframe\">\n",
       "  <thead>\n",
       "    <tr style=\"text-align: right;\">\n",
       "      <th></th>\n",
       "      <th>mean</th>\n",
       "      <th>sd</th>\n",
       "      <th>hdi_3%</th>\n",
       "      <th>hdi_97%</th>\n",
       "      <th>mcse_mean</th>\n",
       "      <th>mcse_sd</th>\n",
       "      <th>ess_bulk</th>\n",
       "      <th>ess_tail</th>\n",
       "      <th>r_hat</th>\n",
       "    </tr>\n",
       "  </thead>\n",
       "  <tbody>\n",
       "    <tr>\n",
       "      <th>y_obs[0]</th>\n",
       "      <td>2.349</td>\n",
       "      <td>0.539</td>\n",
       "      <td>1.244</td>\n",
       "      <td>3.354</td>\n",
       "      <td>0.012</td>\n",
       "      <td>0.009</td>\n",
       "      <td>1933.0</td>\n",
       "      <td>1964.0</td>\n",
       "      <td>1.0</td>\n",
       "    </tr>\n",
       "    <tr>\n",
       "      <th>y_obs[1]</th>\n",
       "      <td>4.098</td>\n",
       "      <td>0.557</td>\n",
       "      <td>3.084</td>\n",
       "      <td>5.201</td>\n",
       "      <td>0.013</td>\n",
       "      <td>0.009</td>\n",
       "      <td>1754.0</td>\n",
       "      <td>1774.0</td>\n",
       "      <td>1.0</td>\n",
       "    </tr>\n",
       "    <tr>\n",
       "      <th>y_obs[2]</th>\n",
       "      <td>3.679</td>\n",
       "      <td>0.538</td>\n",
       "      <td>2.620</td>\n",
       "      <td>4.642</td>\n",
       "      <td>0.012</td>\n",
       "      <td>0.009</td>\n",
       "      <td>1983.0</td>\n",
       "      <td>1859.0</td>\n",
       "      <td>1.0</td>\n",
       "    </tr>\n",
       "    <tr>\n",
       "      <th>y_obs[3]</th>\n",
       "      <td>2.597</td>\n",
       "      <td>0.526</td>\n",
       "      <td>1.664</td>\n",
       "      <td>3.632</td>\n",
       "      <td>0.012</td>\n",
       "      <td>0.009</td>\n",
       "      <td>1833.0</td>\n",
       "      <td>1676.0</td>\n",
       "      <td>1.0</td>\n",
       "    </tr>\n",
       "    <tr>\n",
       "      <th>y_obs[4]</th>\n",
       "      <td>2.234</td>\n",
       "      <td>0.540</td>\n",
       "      <td>1.178</td>\n",
       "      <td>3.190</td>\n",
       "      <td>0.013</td>\n",
       "      <td>0.009</td>\n",
       "      <td>1843.0</td>\n",
       "      <td>1924.0</td>\n",
       "      <td>1.0</td>\n",
       "    </tr>\n",
       "    <tr>\n",
       "      <th>y_obs[5]</th>\n",
       "      <td>3.752</td>\n",
       "      <td>0.550</td>\n",
       "      <td>2.719</td>\n",
       "      <td>4.756</td>\n",
       "      <td>0.012</td>\n",
       "      <td>0.009</td>\n",
       "      <td>2000.0</td>\n",
       "      <td>1986.0</td>\n",
       "      <td>1.0</td>\n",
       "    </tr>\n",
       "    <tr>\n",
       "      <th>y_obs[6]</th>\n",
       "      <td>3.545</td>\n",
       "      <td>0.542</td>\n",
       "      <td>2.575</td>\n",
       "      <td>4.550</td>\n",
       "      <td>0.012</td>\n",
       "      <td>0.009</td>\n",
       "      <td>2005.0</td>\n",
       "      <td>1966.0</td>\n",
       "      <td>1.0</td>\n",
       "    </tr>\n",
       "    <tr>\n",
       "      <th>y_obs[7]</th>\n",
       "      <td>3.598</td>\n",
       "      <td>0.533</td>\n",
       "      <td>2.617</td>\n",
       "      <td>4.622</td>\n",
       "      <td>0.012</td>\n",
       "      <td>0.008</td>\n",
       "      <td>2024.0</td>\n",
       "      <td>1963.0</td>\n",
       "      <td>1.0</td>\n",
       "    </tr>\n",
       "    <tr>\n",
       "      <th>y_obs[8]</th>\n",
       "      <td>3.661</td>\n",
       "      <td>0.529</td>\n",
       "      <td>2.684</td>\n",
       "      <td>4.690</td>\n",
       "      <td>0.013</td>\n",
       "      <td>0.009</td>\n",
       "      <td>1757.0</td>\n",
       "      <td>1722.0</td>\n",
       "      <td>1.0</td>\n",
       "    </tr>\n",
       "    <tr>\n",
       "      <th>y_obs[9]</th>\n",
       "      <td>2.344</td>\n",
       "      <td>0.532</td>\n",
       "      <td>1.335</td>\n",
       "      <td>3.308</td>\n",
       "      <td>0.014</td>\n",
       "      <td>0.010</td>\n",
       "      <td>1437.0</td>\n",
       "      <td>1960.0</td>\n",
       "      <td>1.0</td>\n",
       "    </tr>\n",
       "  </tbody>\n",
       "</table>\n",
       "</div>"
      ],
      "text/plain": [
       "           mean     sd  hdi_3%  hdi_97%  mcse_mean  mcse_sd  ess_bulk  \\\n",
       "y_obs[0]  2.349  0.539   1.244    3.354      0.012    0.009    1933.0   \n",
       "y_obs[1]  4.098  0.557   3.084    5.201      0.013    0.009    1754.0   \n",
       "y_obs[2]  3.679  0.538   2.620    4.642      0.012    0.009    1983.0   \n",
       "y_obs[3]  2.597  0.526   1.664    3.632      0.012    0.009    1833.0   \n",
       "y_obs[4]  2.234  0.540   1.178    3.190      0.013    0.009    1843.0   \n",
       "y_obs[5]  3.752  0.550   2.719    4.756      0.012    0.009    2000.0   \n",
       "y_obs[6]  3.545  0.542   2.575    4.550      0.012    0.009    2005.0   \n",
       "y_obs[7]  3.598  0.533   2.617    4.622      0.012    0.008    2024.0   \n",
       "y_obs[8]  3.661  0.529   2.684    4.690      0.013    0.009    1757.0   \n",
       "y_obs[9]  2.344  0.532   1.335    3.308      0.014    0.010    1437.0   \n",
       "\n",
       "          ess_tail  r_hat  \n",
       "y_obs[0]    1964.0    1.0  \n",
       "y_obs[1]    1774.0    1.0  \n",
       "y_obs[2]    1859.0    1.0  \n",
       "y_obs[3]    1676.0    1.0  \n",
       "y_obs[4]    1924.0    1.0  \n",
       "y_obs[5]    1986.0    1.0  \n",
       "y_obs[6]    1966.0    1.0  \n",
       "y_obs[7]    1963.0    1.0  \n",
       "y_obs[8]    1722.0    1.0  \n",
       "y_obs[9]    1960.0    1.0  "
      ]
     },
     "execution_count": 33,
     "metadata": {},
     "output_type": "execute_result"
    }
   ],
   "source": [
    "az.summary(bayes_model.idata.predictions)"
   ]
  },
  {
   "cell_type": "code",
   "execution_count": 34,
   "metadata": {},
   "outputs": [
    {
     "data": {
      "text/html": [
       "<div>\n",
       "<style scoped>\n",
       "    .dataframe tbody tr th:only-of-type {\n",
       "        vertical-align: middle;\n",
       "    }\n",
       "\n",
       "    .dataframe tbody tr th {\n",
       "        vertical-align: top;\n",
       "    }\n",
       "\n",
       "    .dataframe thead th {\n",
       "        text-align: right;\n",
       "    }\n",
       "</style>\n",
       "<table border=\"1\" class=\"dataframe\">\n",
       "  <thead>\n",
       "    <tr style=\"text-align: right;\">\n",
       "      <th></th>\n",
       "      <th>mean</th>\n",
       "      <th>sd</th>\n",
       "      <th>hdi_3%</th>\n",
       "      <th>hdi_97%</th>\n",
       "      <th>mcse_mean</th>\n",
       "      <th>mcse_sd</th>\n",
       "      <th>ess_bulk</th>\n",
       "      <th>ess_tail</th>\n",
       "      <th>r_hat</th>\n",
       "    </tr>\n",
       "  </thead>\n",
       "  <tbody>\n",
       "    <tr>\n",
       "      <th>y_obs[0]</th>\n",
       "      <td>2.210</td>\n",
       "      <td>0.499</td>\n",
       "      <td>1.313</td>\n",
       "      <td>3.174</td>\n",
       "      <td>0.011</td>\n",
       "      <td>0.008</td>\n",
       "      <td>1956.0</td>\n",
       "      <td>1924.0</td>\n",
       "      <td>1.0</td>\n",
       "    </tr>\n",
       "    <tr>\n",
       "      <th>y_obs[1]</th>\n",
       "      <td>3.340</td>\n",
       "      <td>0.511</td>\n",
       "      <td>2.338</td>\n",
       "      <td>4.273</td>\n",
       "      <td>0.011</td>\n",
       "      <td>0.008</td>\n",
       "      <td>2138.0</td>\n",
       "      <td>1918.0</td>\n",
       "      <td>1.0</td>\n",
       "    </tr>\n",
       "    <tr>\n",
       "      <th>y_obs[2]</th>\n",
       "      <td>5.103</td>\n",
       "      <td>0.496</td>\n",
       "      <td>4.127</td>\n",
       "      <td>5.946</td>\n",
       "      <td>0.011</td>\n",
       "      <td>0.008</td>\n",
       "      <td>2085.0</td>\n",
       "      <td>2123.0</td>\n",
       "      <td>1.0</td>\n",
       "    </tr>\n",
       "    <tr>\n",
       "      <th>y_obs[3]</th>\n",
       "      <td>3.250</td>\n",
       "      <td>0.509</td>\n",
       "      <td>2.331</td>\n",
       "      <td>4.225</td>\n",
       "      <td>0.011</td>\n",
       "      <td>0.008</td>\n",
       "      <td>2028.0</td>\n",
       "      <td>1850.0</td>\n",
       "      <td>1.0</td>\n",
       "    </tr>\n",
       "    <tr>\n",
       "      <th>y_obs[4]</th>\n",
       "      <td>2.006</td>\n",
       "      <td>0.499</td>\n",
       "      <td>1.108</td>\n",
       "      <td>2.966</td>\n",
       "      <td>0.011</td>\n",
       "      <td>0.008</td>\n",
       "      <td>1952.0</td>\n",
       "      <td>2095.0</td>\n",
       "      <td>1.0</td>\n",
       "    </tr>\n",
       "    <tr>\n",
       "      <th>y_obs[5]</th>\n",
       "      <td>2.859</td>\n",
       "      <td>0.512</td>\n",
       "      <td>1.846</td>\n",
       "      <td>3.751</td>\n",
       "      <td>0.011</td>\n",
       "      <td>0.008</td>\n",
       "      <td>2038.0</td>\n",
       "      <td>2003.0</td>\n",
       "      <td>1.0</td>\n",
       "    </tr>\n",
       "    <tr>\n",
       "      <th>y_obs[6]</th>\n",
       "      <td>3.353</td>\n",
       "      <td>0.507</td>\n",
       "      <td>2.370</td>\n",
       "      <td>4.273</td>\n",
       "      <td>0.012</td>\n",
       "      <td>0.008</td>\n",
       "      <td>1897.0</td>\n",
       "      <td>1818.0</td>\n",
       "      <td>1.0</td>\n",
       "    </tr>\n",
       "    <tr>\n",
       "      <th>y_obs[7]</th>\n",
       "      <td>3.449</td>\n",
       "      <td>0.504</td>\n",
       "      <td>2.519</td>\n",
       "      <td>4.407</td>\n",
       "      <td>0.011</td>\n",
       "      <td>0.008</td>\n",
       "      <td>2058.0</td>\n",
       "      <td>1924.0</td>\n",
       "      <td>1.0</td>\n",
       "    </tr>\n",
       "    <tr>\n",
       "      <th>y_obs[8]</th>\n",
       "      <td>4.686</td>\n",
       "      <td>0.505</td>\n",
       "      <td>3.715</td>\n",
       "      <td>5.584</td>\n",
       "      <td>0.012</td>\n",
       "      <td>0.008</td>\n",
       "      <td>1852.0</td>\n",
       "      <td>1781.0</td>\n",
       "      <td>1.0</td>\n",
       "    </tr>\n",
       "    <tr>\n",
       "      <th>y_obs[9]</th>\n",
       "      <td>3.033</td>\n",
       "      <td>0.491</td>\n",
       "      <td>2.080</td>\n",
       "      <td>3.901</td>\n",
       "      <td>0.011</td>\n",
       "      <td>0.008</td>\n",
       "      <td>1833.0</td>\n",
       "      <td>1963.0</td>\n",
       "      <td>1.0</td>\n",
       "    </tr>\n",
       "  </tbody>\n",
       "</table>\n",
       "</div>"
      ],
      "text/plain": [
       "           mean     sd  hdi_3%  hdi_97%  mcse_mean  mcse_sd  ess_bulk  \\\n",
       "y_obs[0]  2.210  0.499   1.313    3.174      0.011    0.008    1956.0   \n",
       "y_obs[1]  3.340  0.511   2.338    4.273      0.011    0.008    2138.0   \n",
       "y_obs[2]  5.103  0.496   4.127    5.946      0.011    0.008    2085.0   \n",
       "y_obs[3]  3.250  0.509   2.331    4.225      0.011    0.008    2028.0   \n",
       "y_obs[4]  2.006  0.499   1.108    2.966      0.011    0.008    1952.0   \n",
       "y_obs[5]  2.859  0.512   1.846    3.751      0.011    0.008    2038.0   \n",
       "y_obs[6]  3.353  0.507   2.370    4.273      0.012    0.008    1897.0   \n",
       "y_obs[7]  3.449  0.504   2.519    4.407      0.011    0.008    2058.0   \n",
       "y_obs[8]  4.686  0.505   3.715    5.584      0.012    0.008    1852.0   \n",
       "y_obs[9]  3.033  0.491   2.080    3.901      0.011    0.008    1833.0   \n",
       "\n",
       "          ess_tail  r_hat  \n",
       "y_obs[0]    1924.0    1.0  \n",
       "y_obs[1]    1918.0    1.0  \n",
       "y_obs[2]    2123.0    1.0  \n",
       "y_obs[3]    1850.0    1.0  \n",
       "y_obs[4]    2095.0    1.0  \n",
       "y_obs[5]    2003.0    1.0  \n",
       "y_obs[6]    1818.0    1.0  \n",
       "y_obs[7]    1924.0    1.0  \n",
       "y_obs[8]    1781.0    1.0  \n",
       "y_obs[9]    1963.0    1.0  "
      ]
     },
     "execution_count": 34,
     "metadata": {},
     "output_type": "execute_result"
    }
   ],
   "source": [
    "az.summary(bayes_model_200.idata.predictions)"
   ]
  },
  {
   "cell_type": "markdown",
   "metadata": {},
   "source": [
    "We see that there is practically no difference in the standard deviation of the posterior predictive of both models."
   ]
  },
  {
   "cell_type": "code",
   "execution_count": 35,
   "metadata": {},
   "outputs": [
    {
     "data": {
      "text/html": [
       "<div>\n",
       "<style scoped>\n",
       "    .dataframe tbody tr th:only-of-type {\n",
       "        vertical-align: middle;\n",
       "    }\n",
       "\n",
       "    .dataframe tbody tr th {\n",
       "        vertical-align: top;\n",
       "    }\n",
       "\n",
       "    .dataframe thead th {\n",
       "        text-align: right;\n",
       "    }\n",
       "</style>\n",
       "<table border=\"1\" class=\"dataframe\">\n",
       "  <thead>\n",
       "    <tr style=\"text-align: right;\">\n",
       "      <th></th>\n",
       "      <th>sd</th>\n",
       "    </tr>\n",
       "  </thead>\n",
       "  <tbody>\n",
       "    <tr>\n",
       "      <th>y_obs[0]</th>\n",
       "      <td>0.925788</td>\n",
       "    </tr>\n",
       "    <tr>\n",
       "      <th>y_obs[1]</th>\n",
       "      <td>0.917415</td>\n",
       "    </tr>\n",
       "    <tr>\n",
       "      <th>y_obs[2]</th>\n",
       "      <td>0.921933</td>\n",
       "    </tr>\n",
       "    <tr>\n",
       "      <th>y_obs[3]</th>\n",
       "      <td>0.967681</td>\n",
       "    </tr>\n",
       "    <tr>\n",
       "      <th>y_obs[4]</th>\n",
       "      <td>0.924074</td>\n",
       "    </tr>\n",
       "    <tr>\n",
       "      <th>y_obs[5]</th>\n",
       "      <td>0.930909</td>\n",
       "    </tr>\n",
       "    <tr>\n",
       "      <th>y_obs[6]</th>\n",
       "      <td>0.935424</td>\n",
       "    </tr>\n",
       "    <tr>\n",
       "      <th>y_obs[7]</th>\n",
       "      <td>0.945591</td>\n",
       "    </tr>\n",
       "    <tr>\n",
       "      <th>y_obs[8]</th>\n",
       "      <td>0.954631</td>\n",
       "    </tr>\n",
       "    <tr>\n",
       "      <th>y_obs[9]</th>\n",
       "      <td>0.922932</td>\n",
       "    </tr>\n",
       "  </tbody>\n",
       "</table>\n",
       "</div>"
      ],
      "text/plain": [
       "                sd\n",
       "y_obs[0]  0.925788\n",
       "y_obs[1]  0.917415\n",
       "y_obs[2]  0.921933\n",
       "y_obs[3]  0.967681\n",
       "y_obs[4]  0.924074\n",
       "y_obs[5]  0.930909\n",
       "y_obs[6]  0.935424\n",
       "y_obs[7]  0.945591\n",
       "y_obs[8]  0.954631\n",
       "y_obs[9]  0.922932"
      ]
     },
     "execution_count": 35,
     "metadata": {},
     "output_type": "execute_result"
    }
   ],
   "source": [
    "(\n",
    "    az.summary(bayes_model_200.idata.predictions)\n",
    "    / az.summary(bayes_model.idata.predictions)\n",
    ")[[\"sd\"]]"
   ]
  },
  {
   "cell_type": "markdown",
   "metadata": {
    "id": "cNKM7EPXJXij"
   },
   "source": [
    "# References"
   ]
  },
  {
   "cell_type": "markdown",
   "metadata": {
    "id": "KzuX_hc8vsD7"
   },
   "source": [
    "\n",
    "\n",
    "- [How to use the posterior predictive distribution for checking a model in PyMC](https://discourse.pymc.io/t/how-to-use-the-posterior-predictive-distribution-for-checking-a-model-from-pymc/11593/9) - A discussion on how to leverage posterior predictive checks in PyMC.\n",
    "  \n",
    "- [PyMC documentation: `sample_prior_predictive`](https://www.pymc.io/projects/docs/en/v5.15.1/api/generated/pymc.sample_prior_predictive.html) - Official PyMC documentation for generating samples from the prior predictive distribution.\n",
    "\n",
    "- [Bishop - Pattern Recognition and Machine Learning (2006)](https://www.microsoft.com/en-us/research/uploads/prod/2006/01/Bishop-Pattern-Recognition-and-Machine-Learning-2006.pdf) - A comprehensive reference on machine learning theory and Bayesian methods by Christopher M. Bishop.\n",
    "\n",
    "- [Updating priors](https://www.pymc.io/projects/examples/en/latest/howto/updating_priors.html)"
   ]
  }
 ],
 "metadata": {
  "colab": {
   "provenance": []
  },
  "hide_input": false,
  "kernelspec": {
   "display_name": "pymc_env",
   "language": "python",
   "name": "python3"
  },
  "language_info": {
   "codemirror_mode": {
    "name": "ipython",
    "version": 3
   },
   "file_extension": ".py",
   "mimetype": "text/x-python",
   "name": "python",
   "nbconvert_exporter": "python",
   "pygments_lexer": "ipython3",
   "version": "3.12.3"
  },
  "toc": {
   "base_numbering": 1,
   "nav_menu": {},
   "number_sections": true,
   "sideBar": true,
   "skip_h1_title": false,
   "title_cell": "Table of Contents",
   "title_sidebar": "Contents",
   "toc_cell": false,
   "toc_position": {},
   "toc_section_display": true,
   "toc_window_display": true
  },
  "widgets": {
   "application/vnd.jupyter.widget-state+json": {
    "046257170ed44b08903c7ab551b34710": {
     "model_module": "@jupyter-widgets/base",
     "model_module_version": "1.2.0",
     "model_name": "LayoutModel",
     "state": {
      "_model_module": "@jupyter-widgets/base",
      "_model_module_version": "1.2.0",
      "_model_name": "LayoutModel",
      "_view_count": null,
      "_view_module": "@jupyter-widgets/base",
      "_view_module_version": "1.2.0",
      "_view_name": "LayoutView",
      "align_content": null,
      "align_items": null,
      "align_self": null,
      "border": null,
      "bottom": null,
      "display": null,
      "flex": null,
      "flex_flow": null,
      "grid_area": null,
      "grid_auto_columns": null,
      "grid_auto_flow": null,
      "grid_auto_rows": null,
      "grid_column": null,
      "grid_gap": null,
      "grid_row": null,
      "grid_template_areas": null,
      "grid_template_columns": null,
      "grid_template_rows": null,
      "height": null,
      "justify_content": null,
      "justify_items": null,
      "left": null,
      "margin": null,
      "max_height": null,
      "max_width": null,
      "min_height": null,
      "min_width": null,
      "object_fit": null,
      "object_position": null,
      "order": null,
      "overflow": null,
      "overflow_x": null,
      "overflow_y": null,
      "padding": null,
      "right": null,
      "top": null,
      "visibility": null,
      "width": null
     }
    },
    "140c47265a9d4413bcd5d6cb82c8813a": {
     "model_module": "@jupyter-widgets/output",
     "model_module_version": "1.0.0",
     "model_name": "OutputModel",
     "state": {
      "_dom_classes": [],
      "_model_module": "@jupyter-widgets/output",
      "_model_module_version": "1.0.0",
      "_model_name": "OutputModel",
      "_view_count": null,
      "_view_module": "@jupyter-widgets/output",
      "_view_module_version": "1.0.0",
      "_view_name": "OutputView",
      "layout": "IPY_MODEL_4afa3bbfa3e94be2b99d17c0a0d236c6",
      "msg_id": "",
      "outputs": [
       {
        "data": {
         "text/html": "<pre style=\"white-space:pre;overflow-x:auto;line-height:normal;font-family:Menlo,'DejaVu Sans Mono',consolas,'Courier New',monospace\">Sampling ... <span style=\"color: #1764f4; text-decoration-color: #1764f4\">━━━━━━━━━━━━━━━━━━━━━━━━━━━━━━━━━━━━━━━╸</span> <span style=\"color: #800080; text-decoration-color: #800080\">100%</span> <span style=\"color: #008080; text-decoration-color: #008080\">0:00:01</span>\n</pre>\n",
         "text/plain": "Sampling ... \u001b[38;2;23;100;244m━━━━━━━━━━━━━━━━━━━━━━━━━━━━━━━━━━━━━━━\u001b[0m\u001b[38;2;23;100;244m╸\u001b[0m \u001b[35m100%\u001b[0m \u001b[36m0:00:01\u001b[0m\n"
        },
        "metadata": {},
        "output_type": "display_data"
       }
      ]
     }
    },
    "1b671855504d4104b5cebff3edfc244d": {
     "model_module": "@jupyter-widgets/base",
     "model_module_version": "1.2.0",
     "model_name": "LayoutModel",
     "state": {
      "_model_module": "@jupyter-widgets/base",
      "_model_module_version": "1.2.0",
      "_model_name": "LayoutModel",
      "_view_count": null,
      "_view_module": "@jupyter-widgets/base",
      "_view_module_version": "1.2.0",
      "_view_name": "LayoutView",
      "align_content": null,
      "align_items": null,
      "align_self": null,
      "border": null,
      "bottom": null,
      "display": null,
      "flex": null,
      "flex_flow": null,
      "grid_area": null,
      "grid_auto_columns": null,
      "grid_auto_flow": null,
      "grid_auto_rows": null,
      "grid_column": null,
      "grid_gap": null,
      "grid_row": null,
      "grid_template_areas": null,
      "grid_template_columns": null,
      "grid_template_rows": null,
      "height": null,
      "justify_content": null,
      "justify_items": null,
      "left": null,
      "margin": null,
      "max_height": null,
      "max_width": null,
      "min_height": null,
      "min_width": null,
      "object_fit": null,
      "object_position": null,
      "order": null,
      "overflow": null,
      "overflow_x": null,
      "overflow_y": null,
      "padding": null,
      "right": null,
      "top": null,
      "visibility": null,
      "width": null
     }
    },
    "1bad078ae919428db9df21002e47f44d": {
     "model_module": "@jupyter-widgets/output",
     "model_module_version": "1.0.0",
     "model_name": "OutputModel",
     "state": {
      "_dom_classes": [],
      "_model_module": "@jupyter-widgets/output",
      "_model_module_version": "1.0.0",
      "_model_name": "OutputModel",
      "_view_count": null,
      "_view_module": "@jupyter-widgets/output",
      "_view_module_version": "1.0.0",
      "_view_name": "OutputView",
      "layout": "IPY_MODEL_21a450b922714993904c09aa3416a5c9",
      "msg_id": "",
      "outputs": [
       {
        "data": {
         "text/html": "<pre style=\"white-space:pre;overflow-x:auto;line-height:normal;font-family:Menlo,'DejaVu Sans Mono',consolas,'Courier New',monospace\">Sampling ... <span style=\"color: #1764f4; text-decoration-color: #1764f4\">━━━━━━━━━━━━━━━━━━━━━━━━━━━━━━╸</span><span style=\"color: #3a3a3a; text-decoration-color: #3a3a3a\">━━━━━━━━━</span> <span style=\"color: #800080; text-decoration-color: #800080\"> 77%</span> <span style=\"color: #008080; text-decoration-color: #008080\">0:00:01</span>\n</pre>\n",
         "text/plain": "Sampling ... \u001b[38;2;23;100;244m━━━━━━━━━━━━━━━━━━━━━━━━━━━━━━\u001b[0m\u001b[38;2;23;100;244m╸\u001b[0m\u001b[38;5;237m━━━━━━━━━\u001b[0m \u001b[35m 77%\u001b[0m \u001b[36m0:00:01\u001b[0m\n"
        },
        "metadata": {},
        "output_type": "display_data"
       }
      ]
     }
    },
    "21a450b922714993904c09aa3416a5c9": {
     "model_module": "@jupyter-widgets/base",
     "model_module_version": "1.2.0",
     "model_name": "LayoutModel",
     "state": {
      "_model_module": "@jupyter-widgets/base",
      "_model_module_version": "1.2.0",
      "_model_name": "LayoutModel",
      "_view_count": null,
      "_view_module": "@jupyter-widgets/base",
      "_view_module_version": "1.2.0",
      "_view_name": "LayoutView",
      "align_content": null,
      "align_items": null,
      "align_self": null,
      "border": null,
      "bottom": null,
      "display": null,
      "flex": null,
      "flex_flow": null,
      "grid_area": null,
      "grid_auto_columns": null,
      "grid_auto_flow": null,
      "grid_auto_rows": null,
      "grid_column": null,
      "grid_gap": null,
      "grid_row": null,
      "grid_template_areas": null,
      "grid_template_columns": null,
      "grid_template_rows": null,
      "height": null,
      "justify_content": null,
      "justify_items": null,
      "left": null,
      "margin": null,
      "max_height": null,
      "max_width": null,
      "min_height": null,
      "min_width": null,
      "object_fit": null,
      "object_position": null,
      "order": null,
      "overflow": null,
      "overflow_x": null,
      "overflow_y": null,
      "padding": null,
      "right": null,
      "top": null,
      "visibility": null,
      "width": null
     }
    },
    "23f5b7fa704041a8bf0026ed755ed07e": {
     "model_module": "@jupyter-widgets/output",
     "model_module_version": "1.0.0",
     "model_name": "OutputModel",
     "state": {
      "_dom_classes": [],
      "_model_module": "@jupyter-widgets/output",
      "_model_module_version": "1.0.0",
      "_model_name": "OutputModel",
      "_view_count": null,
      "_view_module": "@jupyter-widgets/output",
      "_view_module_version": "1.0.0",
      "_view_name": "OutputView",
      "layout": "IPY_MODEL_1b671855504d4104b5cebff3edfc244d",
      "msg_id": "",
      "outputs": [
       {
        "data": {
         "text/html": "<pre style=\"white-space:pre;overflow-x:auto;line-height:normal;font-family:Menlo,'DejaVu Sans Mono',consolas,'Courier New',monospace\">Sampling chain 1, 0 divergences <span style=\"color: #3a3a3a; text-decoration-color: #3a3a3a\">━━━━━━━━━━━━━━━━━━━━━━━━━━━━━━━━━━━━━━━━</span> <span style=\"color: #800080; text-decoration-color: #800080\">  0%</span> <span style=\"color: #008080; text-decoration-color: #008080\">0:00:00</span>\n</pre>\n",
         "text/plain": "Sampling chain 1, 0 divergences \u001b[38;5;237m━━━━━━━━━━━━━━━━━━━━━━━━━━━━━━━━━━━━━━━━\u001b[0m \u001b[35m  0%\u001b[0m \u001b[36m0:00:00\u001b[0m\n"
        },
        "metadata": {},
        "output_type": "display_data"
       }
      ]
     }
    },
    "27aa1995a5e54ad5b61296623e65ca55": {
     "model_module": "@jupyter-widgets/base",
     "model_module_version": "1.2.0",
     "model_name": "LayoutModel",
     "state": {
      "_model_module": "@jupyter-widgets/base",
      "_model_module_version": "1.2.0",
      "_model_name": "LayoutModel",
      "_view_count": null,
      "_view_module": "@jupyter-widgets/base",
      "_view_module_version": "1.2.0",
      "_view_name": "LayoutView",
      "align_content": null,
      "align_items": null,
      "align_self": null,
      "border": null,
      "bottom": null,
      "display": null,
      "flex": null,
      "flex_flow": null,
      "grid_area": null,
      "grid_auto_columns": null,
      "grid_auto_flow": null,
      "grid_auto_rows": null,
      "grid_column": null,
      "grid_gap": null,
      "grid_row": null,
      "grid_template_areas": null,
      "grid_template_columns": null,
      "grid_template_rows": null,
      "height": null,
      "justify_content": null,
      "justify_items": null,
      "left": null,
      "margin": null,
      "max_height": null,
      "max_width": null,
      "min_height": null,
      "min_width": null,
      "object_fit": null,
      "object_position": null,
      "order": null,
      "overflow": null,
      "overflow_x": null,
      "overflow_y": null,
      "padding": null,
      "right": null,
      "top": null,
      "visibility": null,
      "width": null
     }
    },
    "2b6f7349e109440997ec97f6115eb5e8": {
     "model_module": "@jupyter-widgets/output",
     "model_module_version": "1.0.0",
     "model_name": "OutputModel",
     "state": {
      "_dom_classes": [],
      "_model_module": "@jupyter-widgets/output",
      "_model_module_version": "1.0.0",
      "_model_name": "OutputModel",
      "_view_count": null,
      "_view_module": "@jupyter-widgets/output",
      "_view_module_version": "1.0.0",
      "_view_name": "OutputView",
      "layout": "IPY_MODEL_046257170ed44b08903c7ab551b34710",
      "msg_id": "",
      "outputs": [
       {
        "data": {
         "text/html": "<pre style=\"white-space:pre;overflow-x:auto;line-height:normal;font-family:Menlo,'DejaVu Sans Mono',consolas,'Courier New',monospace\">Sampling ... <span style=\"color: #1764f4; text-decoration-color: #1764f4\">━━━━━━━━━━━━━━━━━━━━━━━━━━━━━━━━━━━━━━</span><span style=\"color: #3a3a3a; text-decoration-color: #3a3a3a\">╺━</span> <span style=\"color: #800080; text-decoration-color: #800080\"> 95%</span> <span style=\"color: #008080; text-decoration-color: #008080\">0:00:01</span>\n</pre>\n",
         "text/plain": "Sampling ... \u001b[38;2;23;100;244m━━━━━━━━━━━━━━━━━━━━━━━━━━━━━━━━━━━━━━\u001b[0m\u001b[38;5;237m╺\u001b[0m\u001b[38;5;237m━\u001b[0m \u001b[35m 95%\u001b[0m \u001b[36m0:00:01\u001b[0m\n"
        },
        "metadata": {},
        "output_type": "display_data"
       }
      ]
     }
    },
    "3c5c53cbd13b4cc7bba3539d0b015549": {
     "model_module": "@jupyter-widgets/output",
     "model_module_version": "1.0.0",
     "model_name": "OutputModel",
     "state": {
      "_dom_classes": [],
      "_model_module": "@jupyter-widgets/output",
      "_model_module_version": "1.0.0",
      "_model_name": "OutputModel",
      "_view_count": null,
      "_view_module": "@jupyter-widgets/output",
      "_view_module_version": "1.0.0",
      "_view_name": "OutputView",
      "layout": "IPY_MODEL_8f2d3226d202475a83b7d0a5399bd4ac",
      "msg_id": "",
      "outputs": [
       {
        "data": {
         "text/html": "<pre style=\"white-space:pre;overflow-x:auto;line-height:normal;font-family:Menlo,'DejaVu Sans Mono',consolas,'Courier New',monospace\">Sampling ... <span style=\"color: #1764f4; text-decoration-color: #1764f4\">━━━━━━━━━━━━━━━━━━━━━━━━━━━━━━━━━━━━╸</span><span style=\"color: #3a3a3a; text-decoration-color: #3a3a3a\">━━━</span> <span style=\"color: #800080; text-decoration-color: #800080\"> 91%</span> <span style=\"color: #008080; text-decoration-color: #008080\">0:00:01</span>\n</pre>\n",
         "text/plain": "Sampling ... \u001b[38;2;23;100;244m━━━━━━━━━━━━━━━━━━━━━━━━━━━━━━━━━━━━\u001b[0m\u001b[38;2;23;100;244m╸\u001b[0m\u001b[38;5;237m━━━\u001b[0m \u001b[35m 91%\u001b[0m \u001b[36m0:00:01\u001b[0m\n"
        },
        "metadata": {},
        "output_type": "display_data"
       }
      ]
     }
    },
    "4afa3bbfa3e94be2b99d17c0a0d236c6": {
     "model_module": "@jupyter-widgets/base",
     "model_module_version": "1.2.0",
     "model_name": "LayoutModel",
     "state": {
      "_model_module": "@jupyter-widgets/base",
      "_model_module_version": "1.2.0",
      "_model_name": "LayoutModel",
      "_view_count": null,
      "_view_module": "@jupyter-widgets/base",
      "_view_module_version": "1.2.0",
      "_view_name": "LayoutView",
      "align_content": null,
      "align_items": null,
      "align_self": null,
      "border": null,
      "bottom": null,
      "display": null,
      "flex": null,
      "flex_flow": null,
      "grid_area": null,
      "grid_auto_columns": null,
      "grid_auto_flow": null,
      "grid_auto_rows": null,
      "grid_column": null,
      "grid_gap": null,
      "grid_row": null,
      "grid_template_areas": null,
      "grid_template_columns": null,
      "grid_template_rows": null,
      "height": null,
      "justify_content": null,
      "justify_items": null,
      "left": null,
      "margin": null,
      "max_height": null,
      "max_width": null,
      "min_height": null,
      "min_width": null,
      "object_fit": null,
      "object_position": null,
      "order": null,
      "overflow": null,
      "overflow_x": null,
      "overflow_y": null,
      "padding": null,
      "right": null,
      "top": null,
      "visibility": null,
      "width": null
     }
    },
    "5041e82f2cec4d18afadc01334823e21": {
     "model_module": "@jupyter-widgets/output",
     "model_module_version": "1.0.0",
     "model_name": "OutputModel",
     "state": {
      "_dom_classes": [],
      "_model_module": "@jupyter-widgets/output",
      "_model_module_version": "1.0.0",
      "_model_name": "OutputModel",
      "_view_count": null,
      "_view_module": "@jupyter-widgets/output",
      "_view_module_version": "1.0.0",
      "_view_name": "OutputView",
      "layout": "IPY_MODEL_8bf13818fd184881993e49113f14aaa4",
      "msg_id": "",
      "outputs": [
       {
        "data": {
         "text/html": "<pre style=\"white-space:pre;overflow-x:auto;line-height:normal;font-family:Menlo,'DejaVu Sans Mono',consolas,'Courier New',monospace\">Sampling chain 0, 0 divergences <span style=\"color: #3a3a3a; text-decoration-color: #3a3a3a\">━━━━━━━━━━━━━━━━━━━━━━━━━━━━━━━━━━━━━━━━</span> <span style=\"color: #800080; text-decoration-color: #800080\">  0%</span> <span style=\"color: #008080; text-decoration-color: #008080\">0:00:00</span>\n</pre>\n",
         "text/plain": "Sampling chain 0, 0 divergences \u001b[38;5;237m━━━━━━━━━━━━━━━━━━━━━━━━━━━━━━━━━━━━━━━━\u001b[0m \u001b[35m  0%\u001b[0m \u001b[36m0:00:00\u001b[0m\n"
        },
        "metadata": {},
        "output_type": "display_data"
       }
      ]
     }
    },
    "52c38d3a9e42417d9a1f645afe4af9f4": {
     "model_module": "@jupyter-widgets/base",
     "model_module_version": "1.2.0",
     "model_name": "LayoutModel",
     "state": {
      "_model_module": "@jupyter-widgets/base",
      "_model_module_version": "1.2.0",
      "_model_name": "LayoutModel",
      "_view_count": null,
      "_view_module": "@jupyter-widgets/base",
      "_view_module_version": "1.2.0",
      "_view_name": "LayoutView",
      "align_content": null,
      "align_items": null,
      "align_self": null,
      "border": null,
      "bottom": null,
      "display": null,
      "flex": null,
      "flex_flow": null,
      "grid_area": null,
      "grid_auto_columns": null,
      "grid_auto_flow": null,
      "grid_auto_rows": null,
      "grid_column": null,
      "grid_gap": null,
      "grid_row": null,
      "grid_template_areas": null,
      "grid_template_columns": null,
      "grid_template_rows": null,
      "height": null,
      "justify_content": null,
      "justify_items": null,
      "left": null,
      "margin": null,
      "max_height": null,
      "max_width": null,
      "min_height": null,
      "min_width": null,
      "object_fit": null,
      "object_position": null,
      "order": null,
      "overflow": null,
      "overflow_x": null,
      "overflow_y": null,
      "padding": null,
      "right": null,
      "top": null,
      "visibility": null,
      "width": null
     }
    },
    "5969efae24fd4b1baeaf30d6bcbedfe6": {
     "model_module": "@jupyter-widgets/output",
     "model_module_version": "1.0.0",
     "model_name": "OutputModel",
     "state": {
      "_dom_classes": [],
      "_model_module": "@jupyter-widgets/output",
      "_model_module_version": "1.0.0",
      "_model_name": "OutputModel",
      "_view_count": null,
      "_view_module": "@jupyter-widgets/output",
      "_view_module_version": "1.0.0",
      "_view_name": "OutputView",
      "layout": "IPY_MODEL_8955971da43241e9857ec6047c192fb5",
      "msg_id": "",
      "outputs": [
       {
        "data": {
         "text/html": "<pre style=\"white-space:pre;overflow-x:auto;line-height:normal;font-family:Menlo,'DejaVu Sans Mono',consolas,'Courier New',monospace\">Sampling ... <span style=\"color: #1764f4; text-decoration-color: #1764f4\">━━━━━━━━━━━━━━━━━━━━━━━━━━━━━━━━━━━━━━╸</span><span style=\"color: #3a3a3a; text-decoration-color: #3a3a3a\">━</span> <span style=\"color: #800080; text-decoration-color: #800080\"> 96%</span> <span style=\"color: #008080; text-decoration-color: #008080\">0:00:01</span>\n</pre>\n",
         "text/plain": "Sampling ... \u001b[38;2;23;100;244m━━━━━━━━━━━━━━━━━━━━━━━━━━━━━━━━━━━━━━\u001b[0m\u001b[38;2;23;100;244m╸\u001b[0m\u001b[38;5;237m━\u001b[0m \u001b[35m 96%\u001b[0m \u001b[36m0:00:01\u001b[0m\n"
        },
        "metadata": {},
        "output_type": "display_data"
       }
      ]
     }
    },
    "76228f3f57924d8099807a14a3be0f83": {
     "model_module": "@jupyter-widgets/base",
     "model_module_version": "1.2.0",
     "model_name": "LayoutModel",
     "state": {
      "_model_module": "@jupyter-widgets/base",
      "_model_module_version": "1.2.0",
      "_model_name": "LayoutModel",
      "_view_count": null,
      "_view_module": "@jupyter-widgets/base",
      "_view_module_version": "1.2.0",
      "_view_name": "LayoutView",
      "align_content": null,
      "align_items": null,
      "align_self": null,
      "border": null,
      "bottom": null,
      "display": null,
      "flex": null,
      "flex_flow": null,
      "grid_area": null,
      "grid_auto_columns": null,
      "grid_auto_flow": null,
      "grid_auto_rows": null,
      "grid_column": null,
      "grid_gap": null,
      "grid_row": null,
      "grid_template_areas": null,
      "grid_template_columns": null,
      "grid_template_rows": null,
      "height": null,
      "justify_content": null,
      "justify_items": null,
      "left": null,
      "margin": null,
      "max_height": null,
      "max_width": null,
      "min_height": null,
      "min_width": null,
      "object_fit": null,
      "object_position": null,
      "order": null,
      "overflow": null,
      "overflow_x": null,
      "overflow_y": null,
      "padding": null,
      "right": null,
      "top": null,
      "visibility": null,
      "width": null
     }
    },
    "8955971da43241e9857ec6047c192fb5": {
     "model_module": "@jupyter-widgets/base",
     "model_module_version": "1.2.0",
     "model_name": "LayoutModel",
     "state": {
      "_model_module": "@jupyter-widgets/base",
      "_model_module_version": "1.2.0",
      "_model_name": "LayoutModel",
      "_view_count": null,
      "_view_module": "@jupyter-widgets/base",
      "_view_module_version": "1.2.0",
      "_view_name": "LayoutView",
      "align_content": null,
      "align_items": null,
      "align_self": null,
      "border": null,
      "bottom": null,
      "display": null,
      "flex": null,
      "flex_flow": null,
      "grid_area": null,
      "grid_auto_columns": null,
      "grid_auto_flow": null,
      "grid_auto_rows": null,
      "grid_column": null,
      "grid_gap": null,
      "grid_row": null,
      "grid_template_areas": null,
      "grid_template_columns": null,
      "grid_template_rows": null,
      "height": null,
      "justify_content": null,
      "justify_items": null,
      "left": null,
      "margin": null,
      "max_height": null,
      "max_width": null,
      "min_height": null,
      "min_width": null,
      "object_fit": null,
      "object_position": null,
      "order": null,
      "overflow": null,
      "overflow_x": null,
      "overflow_y": null,
      "padding": null,
      "right": null,
      "top": null,
      "visibility": null,
      "width": null
     }
    },
    "8bf13818fd184881993e49113f14aaa4": {
     "model_module": "@jupyter-widgets/base",
     "model_module_version": "1.2.0",
     "model_name": "LayoutModel",
     "state": {
      "_model_module": "@jupyter-widgets/base",
      "_model_module_version": "1.2.0",
      "_model_name": "LayoutModel",
      "_view_count": null,
      "_view_module": "@jupyter-widgets/base",
      "_view_module_version": "1.2.0",
      "_view_name": "LayoutView",
      "align_content": null,
      "align_items": null,
      "align_self": null,
      "border": null,
      "bottom": null,
      "display": null,
      "flex": null,
      "flex_flow": null,
      "grid_area": null,
      "grid_auto_columns": null,
      "grid_auto_flow": null,
      "grid_auto_rows": null,
      "grid_column": null,
      "grid_gap": null,
      "grid_row": null,
      "grid_template_areas": null,
      "grid_template_columns": null,
      "grid_template_rows": null,
      "height": null,
      "justify_content": null,
      "justify_items": null,
      "left": null,
      "margin": null,
      "max_height": null,
      "max_width": null,
      "min_height": null,
      "min_width": null,
      "object_fit": null,
      "object_position": null,
      "order": null,
      "overflow": null,
      "overflow_x": null,
      "overflow_y": null,
      "padding": null,
      "right": null,
      "top": null,
      "visibility": null,
      "width": null
     }
    },
    "8f2d3226d202475a83b7d0a5399bd4ac": {
     "model_module": "@jupyter-widgets/base",
     "model_module_version": "1.2.0",
     "model_name": "LayoutModel",
     "state": {
      "_model_module": "@jupyter-widgets/base",
      "_model_module_version": "1.2.0",
      "_model_name": "LayoutModel",
      "_view_count": null,
      "_view_module": "@jupyter-widgets/base",
      "_view_module_version": "1.2.0",
      "_view_name": "LayoutView",
      "align_content": null,
      "align_items": null,
      "align_self": null,
      "border": null,
      "bottom": null,
      "display": null,
      "flex": null,
      "flex_flow": null,
      "grid_area": null,
      "grid_auto_columns": null,
      "grid_auto_flow": null,
      "grid_auto_rows": null,
      "grid_column": null,
      "grid_gap": null,
      "grid_row": null,
      "grid_template_areas": null,
      "grid_template_columns": null,
      "grid_template_rows": null,
      "height": null,
      "justify_content": null,
      "justify_items": null,
      "left": null,
      "margin": null,
      "max_height": null,
      "max_width": null,
      "min_height": null,
      "min_width": null,
      "object_fit": null,
      "object_position": null,
      "order": null,
      "overflow": null,
      "overflow_x": null,
      "overflow_y": null,
      "padding": null,
      "right": null,
      "top": null,
      "visibility": null,
      "width": null
     }
    },
    "aaa3b0bdfa1d49169356cde19bae9c94": {
     "model_module": "@jupyter-widgets/output",
     "model_module_version": "1.0.0",
     "model_name": "OutputModel",
     "state": {
      "_dom_classes": [],
      "_model_module": "@jupyter-widgets/output",
      "_model_module_version": "1.0.0",
      "_model_name": "OutputModel",
      "_view_count": null,
      "_view_module": "@jupyter-widgets/output",
      "_view_module_version": "1.0.0",
      "_view_name": "OutputView",
      "layout": "IPY_MODEL_27aa1995a5e54ad5b61296623e65ca55",
      "msg_id": "",
      "outputs": [
       {
        "data": {
         "text/html": "<pre style=\"white-space:pre;overflow-x:auto;line-height:normal;font-family:Menlo,'DejaVu Sans Mono',consolas,'Courier New',monospace\">Sampling chain 1, 0 divergences <span style=\"color: #3a3a3a; text-decoration-color: #3a3a3a\">━━━━━━━━━━━━━━━━━━━━━━━━━━━━━━━━━━━━━━━━</span> <span style=\"color: #800080; text-decoration-color: #800080\">  0%</span> <span style=\"color: #008080; text-decoration-color: #008080\">0:00:00</span>\n</pre>\n",
         "text/plain": "Sampling chain 1, 0 divergences \u001b[38;5;237m━━━━━━━━━━━━━━━━━━━━━━━━━━━━━━━━━━━━━━━━\u001b[0m \u001b[35m  0%\u001b[0m \u001b[36m0:00:00\u001b[0m\n"
        },
        "metadata": {},
        "output_type": "display_data"
       }
      ]
     }
    },
    "b77a1bc131de475d97ff0ba200776613": {
     "model_module": "@jupyter-widgets/output",
     "model_module_version": "1.0.0",
     "model_name": "OutputModel",
     "state": {
      "_dom_classes": [],
      "_model_module": "@jupyter-widgets/output",
      "_model_module_version": "1.0.0",
      "_model_name": "OutputModel",
      "_view_count": null,
      "_view_module": "@jupyter-widgets/output",
      "_view_module_version": "1.0.0",
      "_view_name": "OutputView",
      "layout": "IPY_MODEL_52c38d3a9e42417d9a1f645afe4af9f4",
      "msg_id": "",
      "outputs": [
       {
        "data": {
         "text/html": "<pre style=\"white-space:pre;overflow-x:auto;line-height:normal;font-family:Menlo,'DejaVu Sans Mono',consolas,'Courier New',monospace\">Sampling chain 0, 0 divergences <span style=\"color: #3a3a3a; text-decoration-color: #3a3a3a\">━━━━━━━━━━━━━━━━━━━━━━━━━━━━━━━━━━━━━━━━</span> <span style=\"color: #800080; text-decoration-color: #800080\">  0%</span> <span style=\"color: #008080; text-decoration-color: #008080\">0:00:00</span>\n</pre>\n",
         "text/plain": "Sampling chain 0, 0 divergences \u001b[38;5;237m━━━━━━━━━━━━━━━━━━━━━━━━━━━━━━━━━━━━━━━━\u001b[0m \u001b[35m  0%\u001b[0m \u001b[36m0:00:00\u001b[0m\n"
        },
        "metadata": {},
        "output_type": "display_data"
       }
      ]
     }
    },
    "cb9ebd7e5af34a66bb4be9d0cf6676e8": {
     "model_module": "@jupyter-widgets/output",
     "model_module_version": "1.0.0",
     "model_name": "OutputModel",
     "state": {
      "_dom_classes": [],
      "_model_module": "@jupyter-widgets/output",
      "_model_module_version": "1.0.0",
      "_model_name": "OutputModel",
      "_view_count": null,
      "_view_module": "@jupyter-widgets/output",
      "_view_module_version": "1.0.0",
      "_view_name": "OutputView",
      "layout": "IPY_MODEL_76228f3f57924d8099807a14a3be0f83",
      "msg_id": "",
      "outputs": [
       {
        "data": {
         "text/html": "<pre style=\"white-space:pre;overflow-x:auto;line-height:normal;font-family:Menlo,'DejaVu Sans Mono',consolas,'Courier New',monospace\">Sampling ... <span style=\"color: #1764f4; text-decoration-color: #1764f4\">━━━━━━━━━━━━━━━━━━━━━━━━━━━━━━━━━━━━━━</span><span style=\"color: #3a3a3a; text-decoration-color: #3a3a3a\">╺━</span> <span style=\"color: #800080; text-decoration-color: #800080\"> 96%</span> <span style=\"color: #008080; text-decoration-color: #008080\">0:00:01</span>\n</pre>\n",
         "text/plain": "Sampling ... \u001b[38;2;23;100;244m━━━━━━━━━━━━━━━━━━━━━━━━━━━━━━━━━━━━━━\u001b[0m\u001b[38;5;237m╺\u001b[0m\u001b[38;5;237m━\u001b[0m \u001b[35m 96%\u001b[0m \u001b[36m0:00:01\u001b[0m\n"
        },
        "metadata": {},
        "output_type": "display_data"
       }
      ]
     }
    }
   }
  }
 },
 "nbformat": 4,
 "nbformat_minor": 1
}
